{
 "cells": [
  {
   "cell_type": "code",
   "execution_count": 1,
   "id": "83855ad7-f6b9-4984-859e-c19f414f2ab9",
   "metadata": {},
   "outputs": [],
   "source": [
    "import nltk\n",
    "from nltk.stem import PorterStemmer\n",
    "from nltk.corpus import stopwords\n",
    "from nltk.stem import WordNetLemmatizer\n",
    "from sklearn.feature_extraction.text import CountVectorizer\n",
    "import pandas as pd\n",
    "import numpy as np \n",
    "\n",
    "import warnings\n",
    "warnings.filterwarnings('ignore')"
   ]
  },
  {
   "cell_type": "code",
   "execution_count": 2,
   "id": "0a00e62a-92e1-4253-bc5d-361a2bc2802f",
   "metadata": {},
   "outputs": [],
   "source": [
    "import re"
   ]
  },
  {
   "cell_type": "code",
   "execution_count": 3,
   "id": "1dbe9cb9-c8ee-4248-b54a-4fca36efd169",
   "metadata": {},
   "outputs": [
    {
     "data": {
      "text/html": [
       "<div>\n",
       "<style scoped>\n",
       "    .dataframe tbody tr th:only-of-type {\n",
       "        vertical-align: middle;\n",
       "    }\n",
       "\n",
       "    .dataframe tbody tr th {\n",
       "        vertical-align: top;\n",
       "    }\n",
       "\n",
       "    .dataframe thead th {\n",
       "        text-align: right;\n",
       "    }\n",
       "</style>\n",
       "<table border=\"1\" class=\"dataframe\">\n",
       "  <thead>\n",
       "    <tr style=\"text-align: right;\">\n",
       "      <th></th>\n",
       "      <th>statement</th>\n",
       "      <th>status</th>\n",
       "    </tr>\n",
       "  </thead>\n",
       "  <tbody>\n",
       "    <tr>\n",
       "      <th>0</th>\n",
       "      <td>oh my gosh</td>\n",
       "      <td>Anxiety</td>\n",
       "    </tr>\n",
       "    <tr>\n",
       "      <th>1</th>\n",
       "      <td>trouble sleeping, confused mind, restless hear...</td>\n",
       "      <td>Anxiety</td>\n",
       "    </tr>\n",
       "    <tr>\n",
       "      <th>2</th>\n",
       "      <td>All wrong, back off dear, forward doubt. Stay ...</td>\n",
       "      <td>Anxiety</td>\n",
       "    </tr>\n",
       "    <tr>\n",
       "      <th>3</th>\n",
       "      <td>I've shifted my focus to something else but I'...</td>\n",
       "      <td>Anxiety</td>\n",
       "    </tr>\n",
       "    <tr>\n",
       "      <th>4</th>\n",
       "      <td>I'm restless and restless, it's been a month n...</td>\n",
       "      <td>Anxiety</td>\n",
       "    </tr>\n",
       "  </tbody>\n",
       "</table>\n",
       "</div>"
      ],
      "text/plain": [
       "                                           statement   status\n",
       "0                                         oh my gosh  Anxiety\n",
       "1  trouble sleeping, confused mind, restless hear...  Anxiety\n",
       "2  All wrong, back off dear, forward doubt. Stay ...  Anxiety\n",
       "3  I've shifted my focus to something else but I'...  Anxiety\n",
       "4  I'm restless and restless, it's been a month n...  Anxiety"
      ]
     },
     "execution_count": 3,
     "metadata": {},
     "output_type": "execute_result"
    }
   ],
   "source": [
    "df = pd.read_csv('Combined Data.csv')\n",
    "df = df.iloc[:,1:]\n",
    "df = df[df['statement'].isnull()==False]\n",
    "df.reset_index()\n",
    "df.head()"
   ]
  },
  {
   "cell_type": "code",
   "execution_count": 4,
   "id": "8c007a1f-a3a1-4a3f-be37-2ab6f9dcbff2",
   "metadata": {},
   "outputs": [],
   "source": [
    "lemmatizer = WordNetLemmatizer()\n",
    "stemmer = PorterStemmer()"
   ]
  },
  {
   "cell_type": "code",
   "execution_count": 5,
   "id": "dd527482-4fef-4e38-bfd5-f2862f6ccd51",
   "metadata": {},
   "outputs": [],
   "source": [
    "stop_words = set(stopwords.words('english'))\n",
    "\n",
    "def process_text(text):\n",
    "    cleaned_text = re.sub('[^a-zA-Z]', \" \", text)\n",
    "    cleaned_text = cleaned_text.lower()\n",
    "    words = cleaned_text.split()\n",
    "    processed_words = [stemmer.stem(word) for word in words if word not in stop_words]\n",
    "    processed_text = \" \".join(processed_words)\n",
    "    return processed_text"
   ]
  },
  {
   "cell_type": "code",
   "execution_count": null,
   "id": "b99aebb4-7b64-4997-8003-c1d649de8d8b",
   "metadata": {},
   "outputs": [],
   "source": [
    "batch_size = 10000\n",
    "corpus = []\n",
    "\n",
    "for start in range(0, len(df), batch_size):\n",
    "    end = start + batch_size\n",
    "    batch = df.iloc[start:end]\n",
    "    batch['processed_text'] = batch['statement'].apply(process_text)\n",
    "    corpus.extend(batch['processed_text'].tolist())"
   ]
  },
  {
   "cell_type": "code",
   "execution_count": null,
   "id": "42e5df80-4436-4919-ab73-641b34c91592",
   "metadata": {},
   "outputs": [],
   "source": [
    "corpus"
   ]
  },
  {
   "cell_type": "code",
   "execution_count": 32,
   "id": "a5c9c521-84f0-47e0-b9eb-198a55325421",
   "metadata": {},
   "outputs": [],
   "source": [
    "from sklearn.feature_extraction.text import CountVectorizer\n",
    "CV = CountVectorizer(binary = True,ngram_range=(2,3))\n",
    "X = CV.fit_transform(corpus)"
   ]
  },
  {
   "cell_type": "code",
   "execution_count": 33,
   "id": "3ac13161-a344-47dd-bacf-a033ee6ab07f",
   "metadata": {},
   "outputs": [],
   "source": [
    "### using TFIDF\n",
    "\n",
    "from sklearn.feature_extraction.text import TfidfVectorizer\n",
    "CV1 = TfidfVectorizer(ngram_range=(2,3))\n",
    "X1 = CV1.fit_transform(corpus)\n",
    "y = df['status']"
   ]
  },
  {
   "cell_type": "code",
   "execution_count": 34,
   "id": "3df5efc2-604a-4503-9006-7c093ad6b58c",
   "metadata": {},
   "outputs": [],
   "source": [
    "from sklearn.model_selection import train_test_split,GridSearchCV\n",
    "from sklearn.naive_bayes import MultinomialNB\n",
    "from sklearn.metrics import accuracy_score,classification_report\n",
    "\n",
    "#Train Test Split\n",
    "\n",
    "X_train , X_test, y_train, y_test = train_test_split(X, y, test_size=0.2, random_state = 9)\n",
    "tf_X_train , tf_X_test, tf_y_train, tf_y_test = train_test_split(X1, y, test_size=0.2, random_state = 9)"
   ]
  },
  {
   "cell_type": "markdown",
   "id": "34406030-c5b3-47a7-873d-9d20817c4e27",
   "metadata": {},
   "source": [
    "# Modelling\n",
    "**Navie Bayes Classifier with default parameters**"
   ]
  },
  {
   "cell_type": "code",
   "execution_count": 35,
   "id": "bb7adc21-2a7a-4fb6-8d83-90f21389b755",
   "metadata": {},
   "outputs": [
    {
     "name": "stdout",
     "output_type": "stream",
     "text": [
      "Train Accuracy 0.9720719438116933\n",
      "Test Accuracy 0.6384170067381608\n",
      "Classification Report:\n",
      "                       precision    recall  f1-score   support\n",
      "\n",
      "             Anxiety       0.71      0.68      0.69       781\n",
      "             Bipolar       0.70      0.62      0.66       547\n",
      "          Depression       0.52      0.62      0.56      2986\n",
      "              Normal       0.88      0.70      0.78      3321\n",
      "Personality disorder       0.72      0.38      0.50       229\n",
      "              Stress       0.63      0.33      0.43       507\n",
      "            Suicidal       0.53      0.67      0.59      2166\n",
      "\n",
      "            accuracy                           0.64     10537\n",
      "           macro avg       0.67      0.57      0.60     10537\n",
      "        weighted avg       0.67      0.64      0.64     10537\n",
      "\n"
     ]
    }
   ],
   "source": [
    "Emotion_classifier_model = MultinomialNB(alpha= 1.0)\n",
    "Emotion_classifier_model.fit(X_train,y_train)\n",
    "\n",
    "#Prediction\n",
    "ypred_test = Emotion_classifier_model.predict(X_test)\n",
    "ypred_train = Emotion_classifier_model.predict(X_train)\n",
    "\n",
    "# Evaluation\n",
    "\n",
    "print(\"Train Accuracy\", accuracy_score(y_train,ypred_train))\n",
    "print(\"Test Accuracy\", accuracy_score(y_test,ypred_test))\n",
    "report = classification_report(y_test, ypred_test)\n",
    "print(\"Classification Report:\\n\", report)"
   ]
  },
  {
   "cell_type": "code",
   "execution_count": 36,
   "id": "4e9f71ba-fe51-4bfe-99a5-8c76da5b6c92",
   "metadata": {},
   "outputs": [
    {
     "name": "stdout",
     "output_type": "stream",
     "text": [
      "Train Accuracy TF 0.9754650721336371\n",
      "Test Accuracy TF 0.6266489513144159\n",
      "Classification Report:\n",
      "                       precision    recall  f1-score   support\n",
      "\n",
      "             Anxiety       0.89      0.48      0.62       781\n",
      "             Bipolar       0.96      0.35      0.52       547\n",
      "          Depression       0.51      0.64      0.57      2986\n",
      "              Normal       0.70      0.81      0.75      3321\n",
      "Personality disorder       0.97      0.29      0.45       229\n",
      "              Stress       0.97      0.23      0.37       507\n",
      "            Suicidal       0.58      0.58      0.58      2166\n",
      "\n",
      "            accuracy                           0.63     10537\n",
      "           macro avg       0.80      0.48      0.55     10537\n",
      "        weighted avg       0.67      0.63      0.62     10537\n",
      "\n"
     ]
    }
   ],
   "source": [
    "tf_Emotion_classifier_model = MultinomialNB(alpha= 1.0)\n",
    "tf_Emotion_classifier_model.fit(tf_X_train,tf_y_train)\n",
    "\n",
    "#Prediction\n",
    "tf_ypred_test = Emotion_classifier_model.predict(tf_X_test)\n",
    "tf_ypred_train = Emotion_classifier_model.predict(tf_X_train)\n",
    "\n",
    "# Evaluation\n",
    "\n",
    "print(\"Train Accuracy TF\", accuracy_score(tf_y_train,tf_ypred_train))\n",
    "print(\"Test Accuracy TF\", accuracy_score(tf_y_test,tf_ypred_test))\n",
    "tf_report = classification_report(tf_y_test, tf_ypred_test)\n",
    "print(\"Classification Report:\\n\", tf_report)"
   ]
  },
  {
   "cell_type": "code",
   "execution_count": 57,
   "id": "ec1e712c-3c8d-4ac9-bd03-f3388cbe68aa",
   "metadata": {},
   "outputs": [
    {
     "name": "stdin",
     "output_type": "stream",
     "text": [
      "Enter your new sentence here:  I feel abundance, happy and successful \n"
     ]
    },
    {
     "name": "stdout",
     "output_type": "stream",
     "text": [
      "Anxiety: 6.19%\n",
      "Bipolar: 4.52%\n",
      "Depression: 36.47%\n",
      "Normal: 26.27%\n",
      "Personality disorder: 1.73%\n",
      "Stress: 4.22%\n",
      "Suicidal: 20.59%\n",
      "Prediction probabilities of your current mental state is  : ['Depression']\n"
     ]
    }
   ],
   "source": [
    "# Trying it on the new text\n",
    "\n",
    "# New sentence to classify\n",
    "new_sentence = input(\"Enter your new sentence here: \")\n",
    "\n",
    "# Preprocess the new sentence\n",
    "def preprocess_single_sentence(sentence):\n",
    "    cleaned_sentence = re.sub('[^a-zA-Z]', \" \", sentence)\n",
    "    cleaned_sentence = cleaned_sentence.lower()\n",
    "    words = cleaned_sentence.split()\n",
    "    processed_words = [stemmer.stem(word) for word in words if word not in stop_words]\n",
    "    processed_sentence = \" \".join(processed_words)\n",
    "    return processed_sentence\n",
    "\n",
    "processed_sentence = preprocess_single_sentence(new_sentence)\n",
    "\n",
    "# Transform the preprocessed sentence using the fitted CountVectorizer\n",
    "sentence_vector = CV.transform([processed_sentence])\n",
    "\n",
    "# Make prediction using the trained model\n",
    "prediction = tf_Emotion_classifier_model.predict(sentence_vector)\n",
    "prediction_proba = tf_Emotion_classifier_model.predict_proba(sentence_vector)\n",
    "\n",
    "# Map prediction to emotions\n",
    "mental_state = {\n",
    "    0: \"Anxiety\",\n",
    "    1: \"Bipolar\",\n",
    "    2: \"Depression\",\n",
    "    3: \"Normal\",\n",
    "    4: \"Personality disorder\",\n",
    "    5: \"Stress\",\n",
    "    6: \"Suicidal\"\n",
    "}\n",
    "\n",
    "for index, proba in enumerate(prediction_proba[0]):\n",
    "    emotion = mental_state[index]\n",
    "    print(f\"{emotion}: {proba * 100:.2f}%\")\n",
    "print(\"Prediction probabilities of your current mental state is  :\", prediction)"
   ]
  },
  {
   "cell_type": "code",
   "execution_count": null,
   "id": "74ea3fc7-6efd-41f1-b649-cda4e2216870",
   "metadata": {},
   "outputs": [],
   "source": []
  }
 ],
 "metadata": {
  "kernelspec": {
   "display_name": "Python 3 (ipykernel)",
   "language": "python",
   "name": "python3"
  },
  "language_info": {
   "codemirror_mode": {
    "name": "ipython",
    "version": 3
   },
   "file_extension": ".py",
   "mimetype": "text/x-python",
   "name": "python",
   "nbconvert_exporter": "python",
   "pygments_lexer": "ipython3",
   "version": "3.11.7"
  }
 },
 "nbformat": 4,
 "nbformat_minor": 5
}
