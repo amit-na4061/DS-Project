{
 "cells": [
  {
   "cell_type": "code",
   "execution_count": 1,
   "id": "7ca24005-35c1-4cc8-a761-6764f70308da",
   "metadata": {},
   "outputs": [],
   "source": [
    "import numpy as np \n",
    "import matplotlib.pyplot as plt\n",
    "import pandas as pd\n",
    "\n",
    "import warnings\n",
    "warnings.filterwarnings(\"ignore\")"
   ]
  },
  {
   "cell_type": "code",
   "execution_count": 2,
   "id": "1f9f1276-197c-462d-9a77-e3961a83a8ec",
   "metadata": {},
   "outputs": [],
   "source": [
    "from sklearn.preprocessing import MinMaxScaler\n",
    "from keras.models import Sequential\n",
    "from keras.layers import Dense\n",
    "from keras.layers import LSTM\n",
    "from keras.layers import Dropout\n",
    "import math\n",
    "from sklearn.metrics import mean_squared_error"
   ]
  },
  {
   "cell_type": "code",
   "execution_count": 3,
   "id": "a2cece1e-7d24-4575-86c4-54262f8e041d",
   "metadata": {},
   "outputs": [
    {
     "data": {
      "text/html": [
       "<div>\n",
       "<style scoped>\n",
       "    .dataframe tbody tr th:only-of-type {\n",
       "        vertical-align: middle;\n",
       "    }\n",
       "\n",
       "    .dataframe tbody tr th {\n",
       "        vertical-align: top;\n",
       "    }\n",
       "\n",
       "    .dataframe thead th {\n",
       "        text-align: right;\n",
       "    }\n",
       "</style>\n",
       "<table border=\"1\" class=\"dataframe\">\n",
       "  <thead>\n",
       "    <tr style=\"text-align: right;\">\n",
       "      <th></th>\n",
       "      <th>Date</th>\n",
       "      <th>series</th>\n",
       "      <th>OPEN</th>\n",
       "      <th>HIGH</th>\n",
       "      <th>LOW</th>\n",
       "      <th>PREV. CLOSE</th>\n",
       "      <th>ltp</th>\n",
       "      <th>close</th>\n",
       "      <th>vwap</th>\n",
       "      <th>52W H</th>\n",
       "      <th>52W L</th>\n",
       "      <th>VOLUME</th>\n",
       "      <th>VALUE</th>\n",
       "      <th>No of trades</th>\n",
       "    </tr>\n",
       "  </thead>\n",
       "  <tbody>\n",
       "    <tr>\n",
       "      <th>0</th>\n",
       "      <td>19-Jun-23</td>\n",
       "      <td>EQ</td>\n",
       "      <td>571.25</td>\n",
       "      <td>572.75</td>\n",
       "      <td>565.90</td>\n",
       "      <td>571.25</td>\n",
       "      <td>569.20</td>\n",
       "      <td>568.85</td>\n",
       "      <td>568.29</td>\n",
       "      <td>629.55</td>\n",
       "      <td>430.7</td>\n",
       "      <td>1,79,03,691</td>\n",
       "      <td>10,17,44,91,934.45</td>\n",
       "      <td>2,13,062</td>\n",
       "    </tr>\n",
       "    <tr>\n",
       "      <th>1</th>\n",
       "      <td>20-Jun-23</td>\n",
       "      <td>EQ</td>\n",
       "      <td>568.85</td>\n",
       "      <td>569.45</td>\n",
       "      <td>562.55</td>\n",
       "      <td>568.85</td>\n",
       "      <td>568.00</td>\n",
       "      <td>567.40</td>\n",
       "      <td>565.75</td>\n",
       "      <td>629.55</td>\n",
       "      <td>430.7</td>\n",
       "      <td>1,45,49,152</td>\n",
       "      <td>8,23,11,66,324.45</td>\n",
       "      <td>2,16,416</td>\n",
       "    </tr>\n",
       "    <tr>\n",
       "      <th>2</th>\n",
       "      <td>21-Jun-23</td>\n",
       "      <td>EQ</td>\n",
       "      <td>567.40</td>\n",
       "      <td>569.50</td>\n",
       "      <td>565.65</td>\n",
       "      <td>567.40</td>\n",
       "      <td>566.30</td>\n",
       "      <td>566.35</td>\n",
       "      <td>567.46</td>\n",
       "      <td>629.55</td>\n",
       "      <td>430.7</td>\n",
       "      <td>1,49,46,871</td>\n",
       "      <td>8,48,17,84,144.45</td>\n",
       "      <td>2,19,147</td>\n",
       "    </tr>\n",
       "    <tr>\n",
       "      <th>3</th>\n",
       "      <td>22-Jun-23</td>\n",
       "      <td>EQ</td>\n",
       "      <td>566.35</td>\n",
       "      <td>569.00</td>\n",
       "      <td>561.05</td>\n",
       "      <td>566.35</td>\n",
       "      <td>562.90</td>\n",
       "      <td>562.95</td>\n",
       "      <td>564.62</td>\n",
       "      <td>629.55</td>\n",
       "      <td>430.7</td>\n",
       "      <td>1,49,79,063</td>\n",
       "      <td>8,45,74,57,302.25</td>\n",
       "      <td>1,99,200</td>\n",
       "    </tr>\n",
       "    <tr>\n",
       "      <th>4</th>\n",
       "      <td>23-Jun-23</td>\n",
       "      <td>EQ</td>\n",
       "      <td>562.00</td>\n",
       "      <td>562.10</td>\n",
       "      <td>553.80</td>\n",
       "      <td>562.95</td>\n",
       "      <td>555.45</td>\n",
       "      <td>554.60</td>\n",
       "      <td>556.89</td>\n",
       "      <td>629.55</td>\n",
       "      <td>430.7</td>\n",
       "      <td>1,22,15,712</td>\n",
       "      <td>6,80,28,03,838.55</td>\n",
       "      <td>2,18,058</td>\n",
       "    </tr>\n",
       "  </tbody>\n",
       "</table>\n",
       "</div>"
      ],
      "text/plain": [
       "       Date  series    OPEN    HIGH     LOW   PREV. CLOSE     ltp   close   \\\n",
       "0  19-Jun-23      EQ  571.25  572.75  565.90        571.25  569.20  568.85   \n",
       "1  20-Jun-23      EQ  568.85  569.45  562.55        568.85  568.00  567.40   \n",
       "2  21-Jun-23      EQ  567.40  569.50  565.65        567.40  566.30  566.35   \n",
       "3  22-Jun-23      EQ  566.35  569.00  561.05        566.35  562.90  562.95   \n",
       "4  23-Jun-23      EQ  562.00  562.10  553.80        562.95  555.45  554.60   \n",
       "\n",
       "    vwap   52W H   52W L       VOLUME               VALUE  No of trades   \n",
       "0  568.29  629.55   430.7  1,79,03,691  10,17,44,91,934.45      2,13,062  \n",
       "1  565.75  629.55   430.7  1,45,49,152   8,23,11,66,324.45      2,16,416  \n",
       "2  567.46  629.55   430.7  1,49,46,871   8,48,17,84,144.45      2,19,147  \n",
       "3  564.62  629.55   430.7  1,49,79,063   8,45,74,57,302.25      1,99,200  \n",
       "4  556.89  629.55   430.7  1,22,15,712   6,80,28,03,838.55      2,18,058  "
      ]
     },
     "execution_count": 3,
     "metadata": {},
     "output_type": "execute_result"
    }
   ],
   "source": [
    "sbi_train = pd.read_csv(\"Train_SBI.csv\")\n",
    "sbi_train.head()"
   ]
  },
  {
   "cell_type": "code",
   "execution_count": 4,
   "id": "abb3cd88-d300-4ea0-919d-ebee0ad44d5a",
   "metadata": {},
   "outputs": [
    {
     "data": {
      "text/plain": [
       "array([[571.25],\n",
       "       [568.85],\n",
       "       [567.4 ],\n",
       "       [566.35],\n",
       "       [562.  ],\n",
       "       [556.  ],\n",
       "       [558.25],\n",
       "       [572.25],\n",
       "       [574.  ],\n",
       "       [574.5 ],\n",
       "       [588.2 ],\n",
       "       [589.8 ],\n",
       "       [590.4 ],\n",
       "       [590.  ],\n",
       "       [594.65],\n",
       "       [595.  ],\n",
       "       [589.  ],\n",
       "       [594.9 ],\n",
       "       [586.75],\n",
       "       [587.  ],\n",
       "       [603.05],\n",
       "       [594.65],\n",
       "       [601.4 ],\n",
       "       [610.  ],\n",
       "       [615.05],\n",
       "       [621.8 ],\n",
       "       [612.  ],\n",
       "       [616.4 ],\n",
       "       [616.4 ],\n",
       "       [616.65],\n",
       "       [620.2 ],\n",
       "       [609.85],\n",
       "       [598.7 ],\n",
       "       [594.8 ],\n",
       "       [577.  ],\n",
       "       [571.  ],\n",
       "       [575.  ],\n",
       "       [573.75],\n",
       "       [575.45],\n",
       "       [572.95],\n",
       "       [558.8 ],\n",
       "       [565.75],\n",
       "       [570.  ],\n",
       "       [572.95],\n",
       "       [572.5 ],\n",
       "       [571.  ],\n",
       "       [578.15],\n",
       "       [573.8 ],\n",
       "       [572.8 ],\n",
       "       [573.65],\n",
       "       [576.7 ],\n",
       "       [569.3 ],\n",
       "       [562.7 ],\n",
       "       [572.  ],\n",
       "       [575.6 ],\n",
       "       [574.25],\n",
       "       [568.  ],\n",
       "       [581.  ],\n",
       "       [587.  ],\n",
       "       [593.65],\n",
       "       [588.4 ],\n",
       "       [598.45],\n",
       "       [599.35],\n",
       "       [598.8 ],\n",
       "       [600.85],\n",
       "       [600.  ],\n",
       "       [593.5 ],\n",
       "       [601.5 ],\n",
       "       [594.  ],\n",
       "       [593.45],\n",
       "       [591.25],\n",
       "       [592.85],\n",
       "       [596.6 ],\n",
       "       [600.  ],\n",
       "       [590.  ],\n",
       "       [593.4 ],\n",
       "       [588.  ],\n",
       "       [587.  ],\n",
       "       [596.9 ],\n",
       "       [590.8 ],\n",
       "       [577.75],\n",
       "       [576.  ],\n",
       "       [577.7 ],\n",
       "       [577.75],\n",
       "       [569.8 ],\n",
       "       [569.9 ],\n",
       "       [563.1 ],\n",
       "       [558.6 ],\n",
       "       [551.45],\n",
       "       [550.  ],\n",
       "       [563.  ],\n",
       "       [567.  ],\n",
       "       [566.25],\n",
       "       [571.1 ],\n",
       "       [576.  ],\n",
       "       [582.  ],\n",
       "       [574.8 ],\n",
       "       [581.9 ],\n",
       "       [581.  ],\n",
       "       [577.8 ],\n",
       "       [584.75],\n",
       "       [581.  ],\n",
       "       [587.25],\n",
       "       [584.7 ],\n",
       "       [574.5 ],\n",
       "       [564.  ],\n",
       "       [566.  ],\n",
       "       [562.95],\n",
       "       [561.75],\n",
       "       [561.95],\n",
       "       [563.6 ],\n",
       "       [568.  ],\n",
       "       [569.75],\n",
       "       [567.  ],\n",
       "       [588.  ],\n",
       "       [595.05],\n",
       "       [614.  ],\n",
       "       [610.  ],\n",
       "       [610.  ],\n",
       "       [615.  ],\n",
       "       [617.  ],\n",
       "       [614.45],\n",
       "       [626.  ],\n",
       "       [628.  ],\n",
       "       [646.65],\n",
       "       [648.5 ],\n",
       "       [658.7 ],\n",
       "       [632.15],\n",
       "       [644.75],\n",
       "       [638.85],\n",
       "       [640.75],\n",
       "       [650.25],\n",
       "       [645.5 ],\n",
       "       [642.2 ],\n",
       "       [641.35],\n",
       "       [639.35],\n",
       "       [642.5 ],\n",
       "       [645.  ],\n",
       "       [640.  ],\n",
       "       [632.  ],\n",
       "       [624.8 ],\n",
       "       [626.  ],\n",
       "       [623.8 ],\n",
       "       [638.9 ],\n",
       "       [640.  ],\n",
       "       [624.  ],\n",
       "       [625.8 ],\n",
       "       [633.  ],\n",
       "       [629.  ],\n",
       "       [627.  ],\n",
       "       [609.95],\n",
       "       [618.5 ],\n",
       "       [619.  ],\n",
       "       [625.45],\n",
       "       [626.4 ],\n",
       "       [642.75],\n",
       "       [652.  ],\n",
       "       [647.1 ],\n",
       "       [644.45],\n",
       "       [655.05],\n",
       "       [680.4 ],\n",
       "       [703.65],\n",
       "       [726.  ],\n",
       "       [708.55],\n",
       "       [705.55],\n",
       "       [747.7 ],\n",
       "       [763.45],\n",
       "       [758.7 ],\n",
       "       [759.05],\n",
       "       [760.65],\n",
       "       [773.  ],\n",
       "       [765.9 ],\n",
       "       [755.  ],\n",
       "       [758.9 ],\n",
       "       [749.85],\n",
       "       [743.9 ],\n",
       "       [752.  ],\n",
       "       [771.95],\n",
       "       [774.4 ],\n",
       "       [769.5 ],\n",
       "       [783.65],\n",
       "       [790.  ],\n",
       "       [790.  ],\n",
       "       [770.  ],\n",
       "       [758.65],\n",
       "       [749.9 ],\n",
       "       [739.25],\n",
       "       [727.1 ],\n",
       "       [730.  ],\n",
       "       [725.15],\n",
       "       [742.  ],\n",
       "       [743.85],\n",
       "       [743.05],\n",
       "       [743.  ],\n",
       "       [737.75],\n",
       "       [759.05],\n",
       "       [758.2 ],\n",
       "       [764.9 ],\n",
       "       [775.  ],\n",
       "       [757.95],\n",
       "       [766.05],\n",
       "       [768.45],\n",
       "       [766.5 ],\n",
       "       [777.25],\n",
       "       [759.8 ],\n",
       "       [751.25],\n",
       "       [752.05],\n",
       "       [734.5 ],\n",
       "       [754.15],\n",
       "       [770.35],\n",
       "       [778.5 ],\n",
       "       [770.65],\n",
       "       [815.9 ],\n",
       "       [807.  ],\n",
       "       [826.5 ],\n",
       "       [826.9 ],\n",
       "       [834.8 ],\n",
       "       [835.  ],\n",
       "       [812.  ],\n",
       "       [802.6 ],\n",
       "       [811.9 ],\n",
       "       [827.  ],\n",
       "       [819.85],\n",
       "       [813.  ],\n",
       "       [821.  ],\n",
       "       [825.3 ],\n",
       "       [814.5 ],\n",
       "       [822.  ]])"
      ]
     },
     "execution_count": 4,
     "metadata": {},
     "output_type": "execute_result"
    }
   ],
   "source": [
    "training_set = sbi_train.iloc[:,2:3].values\n",
    "training_set"
   ]
  },
  {
   "cell_type": "code",
   "execution_count": 5,
   "id": "b47b7a90-8c5b-4793-8906-302952fac75d",
   "metadata": {},
   "outputs": [
    {
     "data": {
      "text/plain": [
       "(228, 1)"
      ]
     },
     "execution_count": 5,
     "metadata": {},
     "output_type": "execute_result"
    }
   ],
   "source": [
    "SC = MinMaxScaler()\n",
    "training_set_scaled = SC.fit_transform(training_set)\n",
    "training_set_scaled.shape"
   ]
  },
  {
   "cell_type": "markdown",
   "id": "87a1be57-7509-475c-9bd8-fc108d85018b",
   "metadata": {},
   "source": [
    "# Creating a datastracture with 30 timestemps and 1 output "
   ]
  },
  {
   "cell_type": "code",
   "execution_count": 6,
   "id": "acdeb397-9422-49e1-8310-630afbd292b1",
   "metadata": {},
   "outputs": [],
   "source": [
    "X_train = []\n",
    "y_train = []\n",
    "for i in range(30,228):\n",
    "    X_train.append(training_set_scaled[i-30:i,0])\n",
    "    y_train.append(training_set_scaled[i, 0])\n",
    "\n",
    "X_train = np.array(X_train)\n",
    "y_train = np.array(y_train)"
   ]
  },
  {
   "cell_type": "code",
   "execution_count": 7,
   "id": "8f4b7747-af06-406e-bdd0-a105c3d2e966",
   "metadata": {},
   "outputs": [],
   "source": [
    "#Reshaping \n",
    "#Turning it from a 2D array (samples, features) into a 3D array (samples, features, 1)\n",
    "X_train = np.reshape(X_train,(X_train.shape[0],X_train.shape[1],1))"
   ]
  },
  {
   "cell_type": "markdown",
   "id": "d68c295f-fd5f-4e19-adbc-051ac4acfaff",
   "metadata": {},
   "source": [
    "# Now Initializing RNN"
   ]
  },
  {
   "cell_type": "code",
   "execution_count": 8,
   "id": "0f98919d-2f03-475b-8583-eba152df2353",
   "metadata": {},
   "outputs": [],
   "source": [
    "Regressor = Sequential()\n",
    "#Adding the fisrt LSTM layer and some dropout regularization \n",
    "Regressor.add(LSTM(units=50, return_sequences=True, input_shape = (X_train.shape[1],1)))\n",
    "Regressor.add(Dropout(0.2))\n",
    "#Adding the Second LSTM layer and some dropout regularization \n",
    "Regressor.add(LSTM(units=50, return_sequences=True))\n",
    "Regressor.add(Dropout(0.2))\n",
    "#Adding the Third LSTM layer and some dropout regularization \n",
    "Regressor.add(LSTM(units=50, return_sequences=True))\n",
    "Regressor.add(Dropout(0.2))\n",
    "#Adding the Fourth LSTM layer and some dropout regularization \n",
    "Regressor.add(LSTM(units=50))\n",
    "Regressor.add(Dropout(0.2))\n",
    "#Adding output layer\n",
    "Regressor.add(Dense(units=1))\n",
    "\n",
    "Regressor.compile(optimizer = 'adam', loss = 'mean_squared_error')"
   ]
  },
  {
   "cell_type": "code",
   "execution_count": 9,
   "id": "84633f81-fdcb-4d06-b0a6-9d9f376c337c",
   "metadata": {},
   "outputs": [
    {
     "data": {
      "text/html": [
       "<pre style=\"white-space:pre;overflow-x:auto;line-height:normal;font-family:Menlo,'DejaVu Sans Mono',consolas,'Courier New',monospace\"><span style=\"font-weight: bold\">Model: \"sequential\"</span>\n",
       "</pre>\n"
      ],
      "text/plain": [
       "\u001b[1mModel: \"sequential\"\u001b[0m\n"
      ]
     },
     "metadata": {},
     "output_type": "display_data"
    },
    {
     "data": {
      "text/html": [
       "<pre style=\"white-space:pre;overflow-x:auto;line-height:normal;font-family:Menlo,'DejaVu Sans Mono',consolas,'Courier New',monospace\">┏━━━━━━━━━━━━━━━━━━━━━━━━━━━━━━━━━┳━━━━━━━━━━━━━━━━━━━━━━━━┳━━━━━━━━━━━━━━━┓\n",
       "┃<span style=\"font-weight: bold\"> Layer (type)                    </span>┃<span style=\"font-weight: bold\"> Output Shape           </span>┃<span style=\"font-weight: bold\">       Param # </span>┃\n",
       "┡━━━━━━━━━━━━━━━━━━━━━━━━━━━━━━━━━╇━━━━━━━━━━━━━━━━━━━━━━━━╇━━━━━━━━━━━━━━━┩\n",
       "│ lstm (<span style=\"color: #0087ff; text-decoration-color: #0087ff\">LSTM</span>)                     │ (<span style=\"color: #00d7ff; text-decoration-color: #00d7ff\">None</span>, <span style=\"color: #00af00; text-decoration-color: #00af00\">30</span>, <span style=\"color: #00af00; text-decoration-color: #00af00\">50</span>)         │        <span style=\"color: #00af00; text-decoration-color: #00af00\">10,400</span> │\n",
       "├─────────────────────────────────┼────────────────────────┼───────────────┤\n",
       "│ dropout (<span style=\"color: #0087ff; text-decoration-color: #0087ff\">Dropout</span>)               │ (<span style=\"color: #00d7ff; text-decoration-color: #00d7ff\">None</span>, <span style=\"color: #00af00; text-decoration-color: #00af00\">30</span>, <span style=\"color: #00af00; text-decoration-color: #00af00\">50</span>)         │             <span style=\"color: #00af00; text-decoration-color: #00af00\">0</span> │\n",
       "├─────────────────────────────────┼────────────────────────┼───────────────┤\n",
       "│ lstm_1 (<span style=\"color: #0087ff; text-decoration-color: #0087ff\">LSTM</span>)                   │ (<span style=\"color: #00d7ff; text-decoration-color: #00d7ff\">None</span>, <span style=\"color: #00af00; text-decoration-color: #00af00\">30</span>, <span style=\"color: #00af00; text-decoration-color: #00af00\">50</span>)         │        <span style=\"color: #00af00; text-decoration-color: #00af00\">20,200</span> │\n",
       "├─────────────────────────────────┼────────────────────────┼───────────────┤\n",
       "│ dropout_1 (<span style=\"color: #0087ff; text-decoration-color: #0087ff\">Dropout</span>)             │ (<span style=\"color: #00d7ff; text-decoration-color: #00d7ff\">None</span>, <span style=\"color: #00af00; text-decoration-color: #00af00\">30</span>, <span style=\"color: #00af00; text-decoration-color: #00af00\">50</span>)         │             <span style=\"color: #00af00; text-decoration-color: #00af00\">0</span> │\n",
       "├─────────────────────────────────┼────────────────────────┼───────────────┤\n",
       "│ lstm_2 (<span style=\"color: #0087ff; text-decoration-color: #0087ff\">LSTM</span>)                   │ (<span style=\"color: #00d7ff; text-decoration-color: #00d7ff\">None</span>, <span style=\"color: #00af00; text-decoration-color: #00af00\">30</span>, <span style=\"color: #00af00; text-decoration-color: #00af00\">50</span>)         │        <span style=\"color: #00af00; text-decoration-color: #00af00\">20,200</span> │\n",
       "├─────────────────────────────────┼────────────────────────┼───────────────┤\n",
       "│ dropout_2 (<span style=\"color: #0087ff; text-decoration-color: #0087ff\">Dropout</span>)             │ (<span style=\"color: #00d7ff; text-decoration-color: #00d7ff\">None</span>, <span style=\"color: #00af00; text-decoration-color: #00af00\">30</span>, <span style=\"color: #00af00; text-decoration-color: #00af00\">50</span>)         │             <span style=\"color: #00af00; text-decoration-color: #00af00\">0</span> │\n",
       "├─────────────────────────────────┼────────────────────────┼───────────────┤\n",
       "│ lstm_3 (<span style=\"color: #0087ff; text-decoration-color: #0087ff\">LSTM</span>)                   │ (<span style=\"color: #00d7ff; text-decoration-color: #00d7ff\">None</span>, <span style=\"color: #00af00; text-decoration-color: #00af00\">50</span>)             │        <span style=\"color: #00af00; text-decoration-color: #00af00\">20,200</span> │\n",
       "├─────────────────────────────────┼────────────────────────┼───────────────┤\n",
       "│ dropout_3 (<span style=\"color: #0087ff; text-decoration-color: #0087ff\">Dropout</span>)             │ (<span style=\"color: #00d7ff; text-decoration-color: #00d7ff\">None</span>, <span style=\"color: #00af00; text-decoration-color: #00af00\">50</span>)             │             <span style=\"color: #00af00; text-decoration-color: #00af00\">0</span> │\n",
       "├─────────────────────────────────┼────────────────────────┼───────────────┤\n",
       "│ dense (<span style=\"color: #0087ff; text-decoration-color: #0087ff\">Dense</span>)                   │ (<span style=\"color: #00d7ff; text-decoration-color: #00d7ff\">None</span>, <span style=\"color: #00af00; text-decoration-color: #00af00\">1</span>)              │            <span style=\"color: #00af00; text-decoration-color: #00af00\">51</span> │\n",
       "└─────────────────────────────────┴────────────────────────┴───────────────┘\n",
       "</pre>\n"
      ],
      "text/plain": [
       "┏━━━━━━━━━━━━━━━━━━━━━━━━━━━━━━━━━┳━━━━━━━━━━━━━━━━━━━━━━━━┳━━━━━━━━━━━━━━━┓\n",
       "┃\u001b[1m \u001b[0m\u001b[1mLayer (type)                   \u001b[0m\u001b[1m \u001b[0m┃\u001b[1m \u001b[0m\u001b[1mOutput Shape          \u001b[0m\u001b[1m \u001b[0m┃\u001b[1m \u001b[0m\u001b[1m      Param #\u001b[0m\u001b[1m \u001b[0m┃\n",
       "┡━━━━━━━━━━━━━━━━━━━━━━━━━━━━━━━━━╇━━━━━━━━━━━━━━━━━━━━━━━━╇━━━━━━━━━━━━━━━┩\n",
       "│ lstm (\u001b[38;5;33mLSTM\u001b[0m)                     │ (\u001b[38;5;45mNone\u001b[0m, \u001b[38;5;34m30\u001b[0m, \u001b[38;5;34m50\u001b[0m)         │        \u001b[38;5;34m10,400\u001b[0m │\n",
       "├─────────────────────────────────┼────────────────────────┼───────────────┤\n",
       "│ dropout (\u001b[38;5;33mDropout\u001b[0m)               │ (\u001b[38;5;45mNone\u001b[0m, \u001b[38;5;34m30\u001b[0m, \u001b[38;5;34m50\u001b[0m)         │             \u001b[38;5;34m0\u001b[0m │\n",
       "├─────────────────────────────────┼────────────────────────┼───────────────┤\n",
       "│ lstm_1 (\u001b[38;5;33mLSTM\u001b[0m)                   │ (\u001b[38;5;45mNone\u001b[0m, \u001b[38;5;34m30\u001b[0m, \u001b[38;5;34m50\u001b[0m)         │        \u001b[38;5;34m20,200\u001b[0m │\n",
       "├─────────────────────────────────┼────────────────────────┼───────────────┤\n",
       "│ dropout_1 (\u001b[38;5;33mDropout\u001b[0m)             │ (\u001b[38;5;45mNone\u001b[0m, \u001b[38;5;34m30\u001b[0m, \u001b[38;5;34m50\u001b[0m)         │             \u001b[38;5;34m0\u001b[0m │\n",
       "├─────────────────────────────────┼────────────────────────┼───────────────┤\n",
       "│ lstm_2 (\u001b[38;5;33mLSTM\u001b[0m)                   │ (\u001b[38;5;45mNone\u001b[0m, \u001b[38;5;34m30\u001b[0m, \u001b[38;5;34m50\u001b[0m)         │        \u001b[38;5;34m20,200\u001b[0m │\n",
       "├─────────────────────────────────┼────────────────────────┼───────────────┤\n",
       "│ dropout_2 (\u001b[38;5;33mDropout\u001b[0m)             │ (\u001b[38;5;45mNone\u001b[0m, \u001b[38;5;34m30\u001b[0m, \u001b[38;5;34m50\u001b[0m)         │             \u001b[38;5;34m0\u001b[0m │\n",
       "├─────────────────────────────────┼────────────────────────┼───────────────┤\n",
       "│ lstm_3 (\u001b[38;5;33mLSTM\u001b[0m)                   │ (\u001b[38;5;45mNone\u001b[0m, \u001b[38;5;34m50\u001b[0m)             │        \u001b[38;5;34m20,200\u001b[0m │\n",
       "├─────────────────────────────────┼────────────────────────┼───────────────┤\n",
       "│ dropout_3 (\u001b[38;5;33mDropout\u001b[0m)             │ (\u001b[38;5;45mNone\u001b[0m, \u001b[38;5;34m50\u001b[0m)             │             \u001b[38;5;34m0\u001b[0m │\n",
       "├─────────────────────────────────┼────────────────────────┼───────────────┤\n",
       "│ dense (\u001b[38;5;33mDense\u001b[0m)                   │ (\u001b[38;5;45mNone\u001b[0m, \u001b[38;5;34m1\u001b[0m)              │            \u001b[38;5;34m51\u001b[0m │\n",
       "└─────────────────────────────────┴────────────────────────┴───────────────┘\n"
      ]
     },
     "metadata": {},
     "output_type": "display_data"
    },
    {
     "data": {
      "text/html": [
       "<pre style=\"white-space:pre;overflow-x:auto;line-height:normal;font-family:Menlo,'DejaVu Sans Mono',consolas,'Courier New',monospace\"><span style=\"font-weight: bold\"> Total params: </span><span style=\"color: #00af00; text-decoration-color: #00af00\">71,051</span> (277.54 KB)\n",
       "</pre>\n"
      ],
      "text/plain": [
       "\u001b[1m Total params: \u001b[0m\u001b[38;5;34m71,051\u001b[0m (277.54 KB)\n"
      ]
     },
     "metadata": {},
     "output_type": "display_data"
    },
    {
     "data": {
      "text/html": [
       "<pre style=\"white-space:pre;overflow-x:auto;line-height:normal;font-family:Menlo,'DejaVu Sans Mono',consolas,'Courier New',monospace\"><span style=\"font-weight: bold\"> Trainable params: </span><span style=\"color: #00af00; text-decoration-color: #00af00\">71,051</span> (277.54 KB)\n",
       "</pre>\n"
      ],
      "text/plain": [
       "\u001b[1m Trainable params: \u001b[0m\u001b[38;5;34m71,051\u001b[0m (277.54 KB)\n"
      ]
     },
     "metadata": {},
     "output_type": "display_data"
    },
    {
     "data": {
      "text/html": [
       "<pre style=\"white-space:pre;overflow-x:auto;line-height:normal;font-family:Menlo,'DejaVu Sans Mono',consolas,'Courier New',monospace\"><span style=\"font-weight: bold\"> Non-trainable params: </span><span style=\"color: #00af00; text-decoration-color: #00af00\">0</span> (0.00 B)\n",
       "</pre>\n"
      ],
      "text/plain": [
       "\u001b[1m Non-trainable params: \u001b[0m\u001b[38;5;34m0\u001b[0m (0.00 B)\n"
      ]
     },
     "metadata": {},
     "output_type": "display_data"
    }
   ],
   "source": [
    "warnings.filterwarnings(\"ignore\")\n",
    "Regressor.summary()"
   ]
  },
  {
   "cell_type": "code",
   "execution_count": 10,
   "id": "c742e012-a625-43cc-812d-c8bc008cdf48",
   "metadata": {},
   "outputs": [],
   "source": [
    "# Define the EarlyStopping callback\n",
    "from tensorflow.keras.callbacks import EarlyStopping\n",
    "\n",
    "early_stopping = EarlyStopping(monitor='val_loss', patience=10, restore_best_weights=True)"
   ]
  },
  {
   "cell_type": "code",
   "execution_count": 11,
   "id": "cd57989f-6795-4e03-83ad-3972b046647b",
   "metadata": {},
   "outputs": [
    {
     "name": "stdout",
     "output_type": "stream",
     "text": [
      "Epoch 1/100\n",
      "\u001b[1m32/32\u001b[0m \u001b[32m━━━━━━━━━━━━━━━━━━━━\u001b[0m\u001b[37m\u001b[0m \u001b[1m18s\u001b[0m 102ms/step - loss: 0.0463 - val_loss: 0.1369\n",
      "Epoch 2/100\n",
      "\u001b[1m32/32\u001b[0m \u001b[32m━━━━━━━━━━━━━━━━━━━━\u001b[0m\u001b[37m\u001b[0m \u001b[1m2s\u001b[0m 52ms/step - loss: 0.0153 - val_loss: 0.0143\n",
      "Epoch 3/100\n",
      "\u001b[1m32/32\u001b[0m \u001b[32m━━━━━━━━━━━━━━━━━━━━\u001b[0m\u001b[37m\u001b[0m \u001b[1m1s\u001b[0m 43ms/step - loss: 0.0187 - val_loss: 0.0131\n",
      "Epoch 4/100\n",
      "\u001b[1m32/32\u001b[0m \u001b[32m━━━━━━━━━━━━━━━━━━━━\u001b[0m\u001b[37m\u001b[0m \u001b[1m2s\u001b[0m 47ms/step - loss: 0.0179 - val_loss: 0.0087\n",
      "Epoch 5/100\n",
      "\u001b[1m32/32\u001b[0m \u001b[32m━━━━━━━━━━━━━━━━━━━━\u001b[0m\u001b[37m\u001b[0m \u001b[1m2s\u001b[0m 49ms/step - loss: 0.0170 - val_loss: 0.0258\n",
      "Epoch 6/100\n",
      "\u001b[1m32/32\u001b[0m \u001b[32m━━━━━━━━━━━━━━━━━━━━\u001b[0m\u001b[37m\u001b[0m \u001b[1m2s\u001b[0m 47ms/step - loss: 0.0179 - val_loss: 0.0147\n",
      "Epoch 7/100\n",
      "\u001b[1m32/32\u001b[0m \u001b[32m━━━━━━━━━━━━━━━━━━━━\u001b[0m\u001b[37m\u001b[0m \u001b[1m2s\u001b[0m 47ms/step - loss: 0.0155 - val_loss: 0.0114\n",
      "Epoch 8/100\n",
      "\u001b[1m32/32\u001b[0m \u001b[32m━━━━━━━━━━━━━━━━━━━━\u001b[0m\u001b[37m\u001b[0m \u001b[1m2s\u001b[0m 48ms/step - loss: 0.0065 - val_loss: 0.0110\n",
      "Epoch 9/100\n",
      "\u001b[1m32/32\u001b[0m \u001b[32m━━━━━━━━━━━━━━━━━━━━\u001b[0m\u001b[37m\u001b[0m \u001b[1m2s\u001b[0m 48ms/step - loss: 0.0083 - val_loss: 0.0318\n",
      "Epoch 10/100\n",
      "\u001b[1m32/32\u001b[0m \u001b[32m━━━━━━━━━━━━━━━━━━━━\u001b[0m\u001b[37m\u001b[0m \u001b[1m2s\u001b[0m 47ms/step - loss: 0.0077 - val_loss: 0.0110\n",
      "Epoch 11/100\n",
      "\u001b[1m32/32\u001b[0m \u001b[32m━━━━━━━━━━━━━━━━━━━━\u001b[0m\u001b[37m\u001b[0m \u001b[1m2s\u001b[0m 47ms/step - loss: 0.0078 - val_loss: 0.0197\n",
      "Epoch 12/100\n",
      "\u001b[1m32/32\u001b[0m \u001b[32m━━━━━━━━━━━━━━━━━━━━\u001b[0m\u001b[37m\u001b[0m \u001b[1m2s\u001b[0m 52ms/step - loss: 0.0097 - val_loss: 0.0082\n",
      "Epoch 13/100\n",
      "\u001b[1m32/32\u001b[0m \u001b[32m━━━━━━━━━━━━━━━━━━━━\u001b[0m\u001b[37m\u001b[0m \u001b[1m1s\u001b[0m 41ms/step - loss: 0.0079 - val_loss: 0.0308\n",
      "Epoch 14/100\n",
      "\u001b[1m32/32\u001b[0m \u001b[32m━━━━━━━━━━━━━━━━━━━━\u001b[0m\u001b[37m\u001b[0m \u001b[1m1s\u001b[0m 44ms/step - loss: 0.0096 - val_loss: 0.0162\n",
      "Epoch 15/100\n",
      "\u001b[1m32/32\u001b[0m \u001b[32m━━━━━━━━━━━━━━━━━━━━\u001b[0m\u001b[37m\u001b[0m \u001b[1m2s\u001b[0m 48ms/step - loss: 0.0051 - val_loss: 0.0091\n",
      "Epoch 16/100\n",
      "\u001b[1m32/32\u001b[0m \u001b[32m━━━━━━━━━━━━━━━━━━━━\u001b[0m\u001b[37m\u001b[0m \u001b[1m2s\u001b[0m 48ms/step - loss: 0.0057 - val_loss: 0.0237\n",
      "Epoch 17/100\n",
      "\u001b[1m32/32\u001b[0m \u001b[32m━━━━━━━━━━━━━━━━━━━━\u001b[0m\u001b[37m\u001b[0m \u001b[1m2s\u001b[0m 50ms/step - loss: 0.0089 - val_loss: 0.0078\n",
      "Epoch 18/100\n",
      "\u001b[1m32/32\u001b[0m \u001b[32m━━━━━━━━━━━━━━━━━━━━\u001b[0m\u001b[37m\u001b[0m \u001b[1m2s\u001b[0m 47ms/step - loss: 0.0056 - val_loss: 0.0060\n",
      "Epoch 19/100\n",
      "\u001b[1m32/32\u001b[0m \u001b[32m━━━━━━━━━━━━━━━━━━━━\u001b[0m\u001b[37m\u001b[0m \u001b[1m2s\u001b[0m 46ms/step - loss: 0.0053 - val_loss: 0.0160\n",
      "Epoch 20/100\n",
      "\u001b[1m32/32\u001b[0m \u001b[32m━━━━━━━━━━━━━━━━━━━━\u001b[0m\u001b[37m\u001b[0m \u001b[1m2s\u001b[0m 48ms/step - loss: 0.0069 - val_loss: 0.0112\n",
      "Epoch 21/100\n",
      "\u001b[1m32/32\u001b[0m \u001b[32m━━━━━━━━━━━━━━━━━━━━\u001b[0m\u001b[37m\u001b[0m \u001b[1m2s\u001b[0m 48ms/step - loss: 0.0075 - val_loss: 0.0066\n",
      "Epoch 22/100\n",
      "\u001b[1m32/32\u001b[0m \u001b[32m━━━━━━━━━━━━━━━━━━━━\u001b[0m\u001b[37m\u001b[0m \u001b[1m2s\u001b[0m 49ms/step - loss: 0.0114 - val_loss: 0.0063\n",
      "Epoch 23/100\n",
      "\u001b[1m32/32\u001b[0m \u001b[32m━━━━━━━━━━━━━━━━━━━━\u001b[0m\u001b[37m\u001b[0m \u001b[1m2s\u001b[0m 47ms/step - loss: 0.0047 - val_loss: 0.0060\n",
      "Epoch 24/100\n",
      "\u001b[1m32/32\u001b[0m \u001b[32m━━━━━━━━━━━━━━━━━━━━\u001b[0m\u001b[37m\u001b[0m \u001b[1m1s\u001b[0m 41ms/step - loss: 0.0063 - val_loss: 0.0058\n",
      "Epoch 25/100\n",
      "\u001b[1m32/32\u001b[0m \u001b[32m━━━━━━━━━━━━━━━━━━━━\u001b[0m\u001b[37m\u001b[0m \u001b[1m2s\u001b[0m 46ms/step - loss: 0.0042 - val_loss: 0.0067\n",
      "Epoch 26/100\n",
      "\u001b[1m32/32\u001b[0m \u001b[32m━━━━━━━━━━━━━━━━━━━━\u001b[0m\u001b[37m\u001b[0m \u001b[1m1s\u001b[0m 44ms/step - loss: 0.0043 - val_loss: 0.0230\n",
      "Epoch 27/100\n",
      "\u001b[1m32/32\u001b[0m \u001b[32m━━━━━━━━━━━━━━━━━━━━\u001b[0m\u001b[37m\u001b[0m \u001b[1m2s\u001b[0m 46ms/step - loss: 0.0064 - val_loss: 0.0309\n",
      "Epoch 28/100\n",
      "\u001b[1m32/32\u001b[0m \u001b[32m━━━━━━━━━━━━━━━━━━━━\u001b[0m\u001b[37m\u001b[0m \u001b[1m2s\u001b[0m 45ms/step - loss: 0.0046 - val_loss: 0.0088\n",
      "Epoch 29/100\n",
      "\u001b[1m32/32\u001b[0m \u001b[32m━━━━━━━━━━━━━━━━━━━━\u001b[0m\u001b[37m\u001b[0m \u001b[1m1s\u001b[0m 43ms/step - loss: 0.0053 - val_loss: 0.0087\n",
      "Epoch 30/100\n",
      "\u001b[1m32/32\u001b[0m \u001b[32m━━━━━━━━━━━━━━━━━━━━\u001b[0m\u001b[37m\u001b[0m \u001b[1m2s\u001b[0m 46ms/step - loss: 0.0057 - val_loss: 0.0131\n",
      "Epoch 31/100\n",
      "\u001b[1m32/32\u001b[0m \u001b[32m━━━━━━━━━━━━━━━━━━━━\u001b[0m\u001b[37m\u001b[0m \u001b[1m1s\u001b[0m 44ms/step - loss: 0.0063 - val_loss: 0.0076\n",
      "Epoch 32/100\n",
      "\u001b[1m32/32\u001b[0m \u001b[32m━━━━━━━━━━━━━━━━━━━━\u001b[0m\u001b[37m\u001b[0m \u001b[1m1s\u001b[0m 44ms/step - loss: 0.0040 - val_loss: 0.0063\n",
      "Epoch 33/100\n",
      "\u001b[1m32/32\u001b[0m \u001b[32m━━━━━━━━━━━━━━━━━━━━\u001b[0m\u001b[37m\u001b[0m \u001b[1m1s\u001b[0m 45ms/step - loss: 0.0048 - val_loss: 0.0048\n",
      "Epoch 34/100\n",
      "\u001b[1m32/32\u001b[0m \u001b[32m━━━━━━━━━━━━━━━━━━━━\u001b[0m\u001b[37m\u001b[0m \u001b[1m1s\u001b[0m 42ms/step - loss: 0.0031 - val_loss: 0.0051\n",
      "Epoch 35/100\n",
      "\u001b[1m32/32\u001b[0m \u001b[32m━━━━━━━━━━━━━━━━━━━━\u001b[0m\u001b[37m\u001b[0m \u001b[1m1s\u001b[0m 45ms/step - loss: 0.0047 - val_loss: 0.0042\n",
      "Epoch 36/100\n",
      "\u001b[1m32/32\u001b[0m \u001b[32m━━━━━━━━━━━━━━━━━━━━\u001b[0m\u001b[37m\u001b[0m \u001b[1m1s\u001b[0m 44ms/step - loss: 0.0059 - val_loss: 0.0167\n",
      "Epoch 37/100\n",
      "\u001b[1m32/32\u001b[0m \u001b[32m━━━━━━━━━━━━━━━━━━━━\u001b[0m\u001b[37m\u001b[0m \u001b[1m1s\u001b[0m 45ms/step - loss: 0.0034 - val_loss: 0.0099\n",
      "Epoch 38/100\n",
      "\u001b[1m32/32\u001b[0m \u001b[32m━━━━━━━━━━━━━━━━━━━━\u001b[0m\u001b[37m\u001b[0m \u001b[1m2s\u001b[0m 46ms/step - loss: 0.0040 - val_loss: 0.0052\n",
      "Epoch 39/100\n",
      "\u001b[1m32/32\u001b[0m \u001b[32m━━━━━━━━━━━━━━━━━━━━\u001b[0m\u001b[37m\u001b[0m \u001b[1m1s\u001b[0m 45ms/step - loss: 0.0046 - val_loss: 0.0036\n",
      "Epoch 40/100\n",
      "\u001b[1m32/32\u001b[0m \u001b[32m━━━━━━━━━━━━━━━━━━━━\u001b[0m\u001b[37m\u001b[0m \u001b[1m1s\u001b[0m 45ms/step - loss: 0.0042 - val_loss: 0.0049\n",
      "Epoch 41/100\n",
      "\u001b[1m32/32\u001b[0m \u001b[32m━━━━━━━━━━━━━━━━━━━━\u001b[0m\u001b[37m\u001b[0m \u001b[1m1s\u001b[0m 44ms/step - loss: 0.0034 - val_loss: 0.0036\n",
      "Epoch 42/100\n",
      "\u001b[1m32/32\u001b[0m \u001b[32m━━━━━━━━━━━━━━━━━━━━\u001b[0m\u001b[37m\u001b[0m \u001b[1m1s\u001b[0m 45ms/step - loss: 0.0037 - val_loss: 0.0124\n",
      "Epoch 43/100\n",
      "\u001b[1m32/32\u001b[0m \u001b[32m━━━━━━━━━━━━━━━━━━━━\u001b[0m\u001b[37m\u001b[0m \u001b[1m1s\u001b[0m 44ms/step - loss: 0.0044 - val_loss: 0.0038\n",
      "Epoch 44/100\n",
      "\u001b[1m32/32\u001b[0m \u001b[32m━━━━━━━━━━━━━━━━━━━━\u001b[0m\u001b[37m\u001b[0m \u001b[1m1s\u001b[0m 43ms/step - loss: 0.0043 - val_loss: 0.0056\n",
      "Epoch 45/100\n",
      "\u001b[1m32/32\u001b[0m \u001b[32m━━━━━━━━━━━━━━━━━━━━\u001b[0m\u001b[37m\u001b[0m \u001b[1m1s\u001b[0m 41ms/step - loss: 0.0033 - val_loss: 0.0134\n",
      "Epoch 46/100\n",
      "\u001b[1m32/32\u001b[0m \u001b[32m━━━━━━━━━━━━━━━━━━━━\u001b[0m\u001b[37m\u001b[0m \u001b[1m1s\u001b[0m 43ms/step - loss: 0.0035 - val_loss: 0.0050\n",
      "Epoch 47/100\n",
      "\u001b[1m32/32\u001b[0m \u001b[32m━━━━━━━━━━━━━━━━━━━━\u001b[0m\u001b[37m\u001b[0m \u001b[1m2s\u001b[0m 48ms/step - loss: 0.0037 - val_loss: 0.0066\n",
      "Epoch 48/100\n",
      "\u001b[1m32/32\u001b[0m \u001b[32m━━━━━━━━━━━━━━━━━━━━\u001b[0m\u001b[37m\u001b[0m \u001b[1m2s\u001b[0m 47ms/step - loss: 0.0032 - val_loss: 0.0046\n",
      "Epoch 49/100\n",
      "\u001b[1m32/32\u001b[0m \u001b[32m━━━━━━━━━━━━━━━━━━━━\u001b[0m\u001b[37m\u001b[0m \u001b[1m2s\u001b[0m 47ms/step - loss: 0.0028 - val_loss: 0.0220\n",
      "Epoch 50/100\n",
      "\u001b[1m32/32\u001b[0m \u001b[32m━━━━━━━━━━━━━━━━━━━━\u001b[0m\u001b[37m\u001b[0m \u001b[1m2s\u001b[0m 47ms/step - loss: 0.0050 - val_loss: 0.0298\n",
      "Epoch 51/100\n",
      "\u001b[1m32/32\u001b[0m \u001b[32m━━━━━━━━━━━━━━━━━━━━\u001b[0m\u001b[37m\u001b[0m \u001b[1m2s\u001b[0m 46ms/step - loss: 0.0068 - val_loss: 0.0070\n"
     ]
    },
    {
     "data": {
      "text/plain": [
       "<keras.src.callbacks.history.History at 0x254079e1690>"
      ]
     },
     "execution_count": 11,
     "metadata": {},
     "output_type": "execute_result"
    }
   ],
   "source": [
    "# Fit the model with early stopping\n",
    "Regressor.fit(\n",
    "    X_train, y_train, \n",
    "    epochs=100, \n",
    "    batch_size=5, \n",
    "    validation_split=0.2,  # Use 20% of the training data for validation\n",
    "    callbacks=[early_stopping]\n",
    ")"
   ]
  },
  {
   "cell_type": "code",
   "execution_count": 12,
   "id": "25f39b1b-85cd-479d-b2f3-b316757cd7b1",
   "metadata": {},
   "outputs": [
    {
     "name": "stdout",
     "output_type": "stream",
     "text": [
      "\u001b[1m7/7\u001b[0m \u001b[32m━━━━━━━━━━━━━━━━━━━━\u001b[0m\u001b[37m\u001b[0m \u001b[1m3s\u001b[0m 232ms/step\n",
      "RMSE 0.05348112685250187\n"
     ]
    }
   ],
   "source": [
    "Prediction = Regressor.predict(X_train)\n",
    "print(\"RMSE\", math.sqrt(mean_squared_error(y_train,Prediction)))"
   ]
  },
  {
   "cell_type": "markdown",
   "id": "66316979-0067-42ac-af84-04ee50e13bf8",
   "metadata": {},
   "source": [
    "# Getting the real price for test set of last 1 month"
   ]
  },
  {
   "cell_type": "code",
   "execution_count": 55,
   "id": "31ff634a-0405-4059-a3a8-0f36cdb3475a",
   "metadata": {},
   "outputs": [],
   "source": [
    "sbi_test = pd.read_excel(\"Test_SBI.xlsx\")\n",
    "SBI_Stock_price = sbi_test.iloc[:,2:3].values"
   ]
  },
  {
   "cell_type": "code",
   "execution_count": 60,
   "id": "f09520c9-b677-460a-8cdc-6baf32b2c91a",
   "metadata": {},
   "outputs": [
    {
     "data": {
      "text/plain": [
       "(248,)"
      ]
     },
     "execution_count": 60,
     "metadata": {},
     "output_type": "execute_result"
    }
   ],
   "source": [
    "SBI_total.shape"
   ]
  },
  {
   "cell_type": "markdown",
   "id": "8bdcb0d4-2ef0-46be-a411-e4f457dc9433",
   "metadata": {},
   "source": [
    "# Getting the predicted stock price of last month"
   ]
  },
  {
   "cell_type": "code",
   "execution_count": 61,
   "id": "91e50679-88b0-42ea-b483-501eb920c3b8",
   "metadata": {},
   "outputs": [
    {
     "name": "stdout",
     "output_type": "stream",
     "text": [
      "\u001b[1m7/7\u001b[0m \u001b[32m━━━━━━━━━━━━━━━━━━━━\u001b[0m\u001b[37m\u001b[0m \u001b[1m0s\u001b[0m 17ms/step\n"
     ]
    }
   ],
   "source": [
    "SBI_total = pd.concat((sbi_train['OPEN '],sbi_test['OPEN ']),axis=0)\n",
    "\n",
    "inputs = SBI_total[len(SBI_total)-len(sbi_test) - 30:].values\n",
    "inputs = inputs.reshape(-1,1)\n",
    "inputs = SC.transform(inputs)\n",
    "\n",
    "X_test = []\n",
    "for i in range(30,50):\n",
    "    X_test.append(inputs[i-30:i,0])\n",
    "X_test = np.array(X_train)\n",
    "X_test = np.reshape(X_test,(X_test.shape[0],X_test.shape[1],1))\n",
    "\n",
    "SBI_Pridicted_price = Regressor.predict(X_test)\n",
    "SBI_Pridicted_price = SC.inverse_transform(SBI_Pridicted_price)"
   ]
  },
  {
   "cell_type": "code",
   "execution_count": 54,
   "id": "1587c34f-39c1-43d1-a8eb-e18d21c063cf",
   "metadata": {},
   "outputs": [
    {
     "data": {
      "image/png": "[encoded data removed]",
      "text/plain": [
       "<Figure size 640x480 with 1 Axes>"
      ]
     },
     "metadata": {},
     "output_type": "display_data"
    }
   ],
   "source": [
    "#Visualizing the results \n",
    "\n",
    "plt.plot(SBI_total, color = 'red', label = 'Real SBI_Stock_price')\n",
    "plt.plot(SBI_Pridicted_price, color = 'blue', label = 'Real SBI_Pridicted_price')\n",
    "plt.title('SBI Stock Price prediction')\n",
    "plt.xlabel('Time')\n",
    "plt.ylabel('Stock Price')\n",
    "plt.legend()\n",
    "plt.show()"
   ]
  },
  {
   "cell_type": "code",
   "execution_count": null,
   "id": "d0b505f7-4d71-48fa-8a37-27750abca35f",
   "metadata": {},
   "outputs": [],
   "source": []
  }
 ],
 "metadata": {
  "kernelspec": {
   "display_name": "Python 3 (ipykernel)",
   "language": "python",
   "name": "python3"
  },
  "language_info": {
   "codemirror_mode": {
    "name": "ipython",
    "version": 3
   },
   "file_extension": ".py",
   "mimetype": "text/x-python",
   "name": "python",
   "nbconvert_exporter": "python",
   "pygments_lexer": "ipython3",
   "version": "3.11.7"
  }
 },
 "nbformat": 4,
 "nbformat_minor": 5
}
