{
 "cells": [
  {
   "cell_type": "code",
   "execution_count": 1,
   "id": "7ca24005-35c1-4cc8-a761-6764f70308da",
   "metadata": {},
   "outputs": [],
   "source": [
    "import numpy as np \n",
    "import matplotlib.pyplot as plt\n",
    "import pandas as pd\n",
    "\n",
    "import warnings\n",
    "warnings.filterwarnings(\"ignore\")"
   ]
  },
  {
   "cell_type": "code",
   "execution_count": 2,
   "id": "1f9f1276-197c-462d-9a77-e3961a83a8ec",
   "metadata": {},
   "outputs": [],
   "source": [
    "from sklearn.preprocessing import MinMaxScaler\n",
    "from keras.models import Sequential\n",
    "from keras.layers import Dense\n",
    "from keras.layers import LSTM\n",
    "from keras.layers import Dropout\n",
    "import math\n",
    "from sklearn.metrics import mean_squared_error"
   ]
  },
  {
   "cell_type": "code",
   "execution_count": 3,
   "id": "a2cece1e-7d24-4575-86c4-54262f8e041d",
   "metadata": {},
   "outputs": [
    {
     "data": {
      "text/html": [
       "<div>\n",
       "<style scoped>\n",
       "    .dataframe tbody tr th:only-of-type {\n",
       "        vertical-align: middle;\n",
       "    }\n",
       "\n",
       "    .dataframe tbody tr th {\n",
       "        vertical-align: top;\n",
       "    }\n",
       "\n",
       "    .dataframe thead th {\n",
       "        text-align: right;\n",
       "    }\n",
       "</style>\n",
       "<table border=\"1\" class=\"dataframe\">\n",
       "  <thead>\n",
       "    <tr style=\"text-align: right;\">\n",
       "      <th></th>\n",
       "      <th>Date</th>\n",
       "      <th>series</th>\n",
       "      <th>OPEN</th>\n",
       "      <th>HIGH</th>\n",
       "      <th>LOW</th>\n",
       "      <th>PREV. CLOSE</th>\n",
       "      <th>ltp</th>\n",
       "      <th>close</th>\n",
       "      <th>vwap</th>\n",
       "      <th>52W H</th>\n",
       "      <th>52W L</th>\n",
       "      <th>VOLUME</th>\n",
       "      <th>VALUE</th>\n",
       "      <th>No of trades</th>\n",
       "    </tr>\n",
       "  </thead>\n",
       "  <tbody>\n",
       "    <tr>\n",
       "      <th>0</th>\n",
       "      <td>19-Jun-23</td>\n",
       "      <td>EQ</td>\n",
       "      <td>571.25</td>\n",
       "      <td>572.75</td>\n",
       "      <td>565.90</td>\n",
       "      <td>571.25</td>\n",
       "      <td>569.20</td>\n",
       "      <td>568.85</td>\n",
       "      <td>568.29</td>\n",
       "      <td>629.55</td>\n",
       "      <td>430.7</td>\n",
       "      <td>1,79,03,691</td>\n",
       "      <td>10,17,44,91,934.45</td>\n",
       "      <td>2,13,062</td>\n",
       "    </tr>\n",
       "    <tr>\n",
       "      <th>1</th>\n",
       "      <td>20-Jun-23</td>\n",
       "      <td>EQ</td>\n",
       "      <td>568.85</td>\n",
       "      <td>569.45</td>\n",
       "      <td>562.55</td>\n",
       "      <td>568.85</td>\n",
       "      <td>568.00</td>\n",
       "      <td>567.40</td>\n",
       "      <td>565.75</td>\n",
       "      <td>629.55</td>\n",
       "      <td>430.7</td>\n",
       "      <td>1,45,49,152</td>\n",
       "      <td>8,23,11,66,324.45</td>\n",
       "      <td>2,16,416</td>\n",
       "    </tr>\n",
       "    <tr>\n",
       "      <th>2</th>\n",
       "      <td>21-Jun-23</td>\n",
       "      <td>EQ</td>\n",
       "      <td>567.40</td>\n",
       "      <td>569.50</td>\n",
       "      <td>565.65</td>\n",
       "      <td>567.40</td>\n",
       "      <td>566.30</td>\n",
       "      <td>566.35</td>\n",
       "      <td>567.46</td>\n",
       "      <td>629.55</td>\n",
       "      <td>430.7</td>\n",
       "      <td>1,49,46,871</td>\n",
       "      <td>8,48,17,84,144.45</td>\n",
       "      <td>2,19,147</td>\n",
       "    </tr>\n",
       "    <tr>\n",
       "      <th>3</th>\n",
       "      <td>22-Jun-23</td>\n",
       "      <td>EQ</td>\n",
       "      <td>566.35</td>\n",
       "      <td>569.00</td>\n",
       "      <td>561.05</td>\n",
       "      <td>566.35</td>\n",
       "      <td>562.90</td>\n",
       "      <td>562.95</td>\n",
       "      <td>564.62</td>\n",
       "      <td>629.55</td>\n",
       "      <td>430.7</td>\n",
       "      <td>1,49,79,063</td>\n",
       "      <td>8,45,74,57,302.25</td>\n",
       "      <td>1,99,200</td>\n",
       "    </tr>\n",
       "    <tr>\n",
       "      <th>4</th>\n",
       "      <td>23-Jun-23</td>\n",
       "      <td>EQ</td>\n",
       "      <td>562.00</td>\n",
       "      <td>562.10</td>\n",
       "      <td>553.80</td>\n",
       "      <td>562.95</td>\n",
       "      <td>555.45</td>\n",
       "      <td>554.60</td>\n",
       "      <td>556.89</td>\n",
       "      <td>629.55</td>\n",
       "      <td>430.7</td>\n",
       "      <td>1,22,15,712</td>\n",
       "      <td>6,80,28,03,838.55</td>\n",
       "      <td>2,18,058</td>\n",
       "    </tr>\n",
       "  </tbody>\n",
       "</table>\n",
       "</div>"
      ],
      "text/plain": [
       "       Date  series    OPEN    HIGH     LOW   PREV. CLOSE     ltp   close   \\\n",
       "0  19-Jun-23      EQ  571.25  572.75  565.90        571.25  569.20  568.85   \n",
       "1  20-Jun-23      EQ  568.85  569.45  562.55        568.85  568.00  567.40   \n",
       "2  21-Jun-23      EQ  567.40  569.50  565.65        567.40  566.30  566.35   \n",
       "3  22-Jun-23      EQ  566.35  569.00  561.05        566.35  562.90  562.95   \n",
       "4  23-Jun-23      EQ  562.00  562.10  553.80        562.95  555.45  554.60   \n",
       "\n",
       "    vwap   52W H   52W L       VOLUME               VALUE  No of trades   \n",
       "0  568.29  629.55   430.7  1,79,03,691  10,17,44,91,934.45      2,13,062  \n",
       "1  565.75  629.55   430.7  1,45,49,152   8,23,11,66,324.45      2,16,416  \n",
       "2  567.46  629.55   430.7  1,49,46,871   8,48,17,84,144.45      2,19,147  \n",
       "3  564.62  629.55   430.7  1,49,79,063   8,45,74,57,302.25      1,99,200  \n",
       "4  556.89  629.55   430.7  1,22,15,712   6,80,28,03,838.55      2,18,058  "
      ]
     },
     "execution_count": 3,
     "metadata": {},
     "output_type": "execute_result"
    }
   ],
   "source": [
    "sbi_train = pd.read_csv(\"Train_SBI.csv\")\n",
    "sbi_train.head()"
   ]
  },
  {
   "cell_type": "code",
   "execution_count": 4,
   "id": "bad402ea-0402-429c-9fba-255d19c83b99",
   "metadata": {},
   "outputs": [],
   "source": [
    "from darts import TimeSeries\n",
    "from darts.models import RegressionModel\n",
    "from sklearn.linear_model import LinearRegression"
   ]
  },
  {
   "cell_type": "code",
   "execution_count": 7,
   "id": "150ca49b-882b-456e-b9fe-b034f4cab43a",
   "metadata": {},
   "outputs": [],
   "source": [
    "#Convert pandas DataFrame to Timeseries\n",
    "y = TimeSeries.from_series(sbi_train[\"OPEN \"])"
   ]
  },
  {
   "cell_type": "code",
   "execution_count": 31,
   "id": "1bb22ed7-4752-4b9e-be3c-100cc3dd5743",
   "metadata": {},
   "outputs": [
    {
     "data": {
      "text/plain": [
       "RegressionModel(lags=[-1, -2, -3], lags_past_covariates=None, lags_future_covariates=None, output_chunk_length=1, output_chunk_shift=0, add_encoders=None, model=LinearRegression(), multi_models=True, use_static_covariates=True)"
      ]
     },
     "execution_count": 31,
     "metadata": {},
     "output_type": "execute_result"
    }
   ],
   "source": [
    "#Holdout last 24 data points \n",
    "y_train = y[:-24]\n",
    "\n",
    "#Specify and train model\n",
    "Model = RegressionModel(\n",
    "    lags = [-1,-2,-3],\n",
    "    model = LinearRegression()\n",
    ")\n",
    "\n",
    "Model.fit(series=y_train)"
   ]
  },
  {
   "cell_type": "code",
   "execution_count": 32,
   "id": "f5e557a8-86f5-49e2-ae74-d09705e7a880",
   "metadata": {},
   "outputs": [
    {
     "data": {
      "text/plain": [
       "array([[779.08242587],\n",
       "       [779.96555358],\n",
       "       [781.03369463],\n",
       "       [782.14101907],\n",
       "       [783.24621658],\n",
       "       [784.35058184],\n",
       "       [785.45535088],\n",
       "       [786.5605705 ],\n",
       "       [787.66620959],\n",
       "       [788.77226492],\n",
       "       [789.87873729],\n",
       "       [790.985627  ],\n",
       "       [792.09293419],\n",
       "       [793.20065902],\n",
       "       [794.30880164],\n",
       "       [795.41736221],\n",
       "       [796.5263409 ],\n",
       "       [797.63573785],\n",
       "       [798.74555322],\n",
       "       [799.85578718],\n",
       "       [800.96643988],\n",
       "       [802.07751148],\n",
       "       [803.18900214],\n",
       "       [804.30091201]])"
      ]
     },
     "execution_count": 32,
     "metadata": {},
     "output_type": "execute_result"
    }
   ],
   "source": [
    "y_ypred = Model.predict(n=24, series=y_train)\n",
    "Prediction = y_ypred.pd_dataframe()\n",
    "Prediction = Prediction.iloc[:,0:1].values\n",
    "Prediction"
   ]
  },
  {
   "cell_type": "markdown",
   "id": "66316979-0067-42ac-af84-04ee50e13bf8",
   "metadata": {},
   "source": [
    "# Getting the real price for test set of last 1 month"
   ]
  },
  {
   "cell_type": "code",
   "execution_count": 33,
   "id": "31ff634a-0405-4059-a3a8-0f36cdb3475a",
   "metadata": {},
   "outputs": [
    {
     "data": {
      "text/plain": [
       "array([[821.  ],\n",
       "       [826.55],\n",
       "       [824.7 ],\n",
       "       [830.  ],\n",
       "       [832.6 ],\n",
       "       [835.7 ],\n",
       "       [828.4 ],\n",
       "       [821.4 ],\n",
       "       [830.7 ],\n",
       "       [863.55],\n",
       "       [897.  ],\n",
       "       [790.75],\n",
       "       [800.  ],\n",
       "       [819.9 ],\n",
       "       [834.15],\n",
       "       [836.  ],\n",
       "       [837.  ],\n",
       "       [845.  ],\n",
       "       [845.  ],\n",
       "       [841.55]])"
      ]
     },
     "execution_count": 33,
     "metadata": {},
     "output_type": "execute_result"
    }
   ],
   "source": [
    "sbi_test = pd.read_excel(\"Test_SBI.xlsx\")\n",
    "SBI_Stock_price = sbi_test.iloc[:,2:3].values\n",
    "SBI_Stock_price"
   ]
  },
  {
   "cell_type": "markdown",
   "id": "8bdcb0d4-2ef0-46be-a411-e4f457dc9433",
   "metadata": {},
   "source": [
    "# Getting the predicted stock price of last month"
   ]
  },
  {
   "cell_type": "code",
   "execution_count": 34,
   "id": "1587c34f-39c1-43d1-a8eb-e18d21c063cf",
   "metadata": {},
   "outputs": [
    {
     "data": {
      "image/png": "[encoded data removed]",
      "text/plain": [
       "<Figure size 640x480 with 1 Axes>"
      ]
     },
     "metadata": {},
     "output_type": "display_data"
    }
   ],
   "source": [
    "#Visualizing the results \n",
    "\n",
    "plt.plot(SBI_Stock_price, color = 'red', label = 'Real SBI_Stock_price')\n",
    "plt.plot(Prediction, color = 'blue', label = 'Real SBI_Pridicted_price')\n",
    "plt.title('SBI Stock Price prediction')\n",
    "plt.xlabel('Time')\n",
    "plt.ylabel('Stock Price')\n",
    "plt.legend()\n",
    "plt.show()"
   ]
  },
  {
   "cell_type": "code",
   "execution_count": null,
   "id": "d0b505f7-4d71-48fa-8a37-27750abca35f",
   "metadata": {},
   "outputs": [],
   "source": []
  },
  {
   "cell_type": "code",
   "execution_count": null,
   "id": "cd8477fd-092f-412a-be2f-5b29021442c9",
   "metadata": {},
   "outputs": [],
   "source": []
  }
 ],
 "metadata": {
  "kernelspec": {
   "display_name": "Python 3 (ipykernel)",
   "language": "python",
   "name": "python3"
  },
  "language_info": {
   "codemirror_mode": {
    "name": "ipython",
    "version": 3
   },
   "file_extension": ".py",
   "mimetype": "text/x-python",
   "name": "python",
   "nbconvert_exporter": "python",
   "pygments_lexer": "ipython3",
   "version": "3.11.7"
  }
 },
 "nbformat": 4,
 "nbformat_minor": 5
}
