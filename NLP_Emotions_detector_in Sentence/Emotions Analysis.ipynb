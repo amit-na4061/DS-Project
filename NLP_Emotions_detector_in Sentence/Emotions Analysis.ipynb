{
 "cells": [
  {
   "cell_type": "markdown",
   "id": "482e8bed-2a2a-497e-82d7-5ce58c9b9f2b",
   "metadata": {},
   "source": [
    "**Each entry in this dataset consists of a text segment representing a Twitter message and a corresponding label indicating the predominant emotion conveyed. The emotions are classified into six categories: sadness (0), joy (1), love (2), anger (3), fear (4), and surprise (5). Whether you're interested in sentiment analysis, emotion classification, or text mining, this dataset provides a rich foundation for exploring the nuanced emotional landscape within the realm of social media.**"
   ]
  },
  {
   "cell_type": "markdown",
   "id": "0b366cc5-08b2-497e-af0b-2662108b2886",
   "metadata": {},
   "source": [
    "# Potential Use Cases:\n",
    "- **Sentiment Analysis**: Uncover the prevailing sentiments in English messages across various emotions.\n",
    "- **Emotion Classification**: Develop models to accurately classify **Sentances** into the six specified emotion categories.\n",
    "- **Textual Analysis**: Explore linguistic patterns and expressions associated with different emotional states."
   ]
  },
  {
   "cell_type": "code",
   "execution_count": 1,
   "id": "3e3a88fa-6252-49d1-9e56-c323a5c26653",
   "metadata": {},
   "outputs": [],
   "source": [
    "import pandas as pd\n",
    "import re\n",
    "import nltk\n",
    "from nltk.corpus import stopwords\n",
    "from nltk.stem import PorterStemmer\n",
    "from sklearn.feature_extraction.text import CountVectorizer\n",
    "from sklearn.model_selection import train_test_split,GridSearchCV\n",
    "from sklearn.naive_bayes import MultinomialNB\n",
    "from sklearn.metrics import accuracy_score,classification_report\n",
    "\n",
    "import warnings\n",
    "warnings.filterwarnings(\"ignore\")"
   ]
  },
  {
   "cell_type": "code",
   "execution_count": 2,
   "id": "4defeaf1-f473-4fc6-9092-3abf7ed3ff38",
   "metadata": {},
   "outputs": [
    {
     "data": {
      "text/html": [
       "<div>\n",
       "<style scoped>\n",
       "    .dataframe tbody tr th:only-of-type {\n",
       "        vertical-align: middle;\n",
       "    }\n",
       "\n",
       "    .dataframe tbody tr th {\n",
       "        vertical-align: top;\n",
       "    }\n",
       "\n",
       "    .dataframe thead th {\n",
       "        text-align: right;\n",
       "    }\n",
       "</style>\n",
       "<table border=\"1\" class=\"dataframe\">\n",
       "  <thead>\n",
       "    <tr style=\"text-align: right;\">\n",
       "      <th></th>\n",
       "      <th>Unnamed: 0</th>\n",
       "      <th>text</th>\n",
       "      <th>label</th>\n",
       "    </tr>\n",
       "  </thead>\n",
       "  <tbody>\n",
       "    <tr>\n",
       "      <th>0</th>\n",
       "      <td>0</td>\n",
       "      <td>i just feel really helpless and heavy hearted</td>\n",
       "      <td>4</td>\n",
       "    </tr>\n",
       "    <tr>\n",
       "      <th>1</th>\n",
       "      <td>1</td>\n",
       "      <td>ive enjoyed being able to slouch about relax a...</td>\n",
       "      <td>0</td>\n",
       "    </tr>\n",
       "    <tr>\n",
       "      <th>2</th>\n",
       "      <td>2</td>\n",
       "      <td>i gave up my internship with the dmrg and am f...</td>\n",
       "      <td>4</td>\n",
       "    </tr>\n",
       "    <tr>\n",
       "      <th>3</th>\n",
       "      <td>3</td>\n",
       "      <td>i dont know i feel so lost</td>\n",
       "      <td>0</td>\n",
       "    </tr>\n",
       "    <tr>\n",
       "      <th>4</th>\n",
       "      <td>4</td>\n",
       "      <td>i am a kindergarten teacher and i am thoroughl...</td>\n",
       "      <td>4</td>\n",
       "    </tr>\n",
       "  </tbody>\n",
       "</table>\n",
       "</div>"
      ],
      "text/plain": [
       "   Unnamed: 0                                               text  label\n",
       "0           0      i just feel really helpless and heavy hearted      4\n",
       "1           1  ive enjoyed being able to slouch about relax a...      0\n",
       "2           2  i gave up my internship with the dmrg and am f...      4\n",
       "3           3                         i dont know i feel so lost      0\n",
       "4           4  i am a kindergarten teacher and i am thoroughl...      4"
      ]
     },
     "execution_count": 2,
     "metadata": {},
     "output_type": "execute_result"
    }
   ],
   "source": [
    "df = pd.read_csv(\"text.csv\")\n",
    "df.head()"
   ]
  },
  {
   "cell_type": "markdown",
   "id": "fee711fb-6e9c-44c8-8148-3a4866588d63",
   "metadata": {},
   "source": [
    "# Text Cleaning "
   ]
  },
  {
   "cell_type": "code",
   "execution_count": 3,
   "id": "13f20aa0-beec-4e10-90cb-121ebe82d817",
   "metadata": {},
   "outputs": [
    {
     "data": {
      "text/html": [
       "<div>\n",
       "<style scoped>\n",
       "    .dataframe tbody tr th:only-of-type {\n",
       "        vertical-align: middle;\n",
       "    }\n",
       "\n",
       "    .dataframe tbody tr th {\n",
       "        vertical-align: top;\n",
       "    }\n",
       "\n",
       "    .dataframe thead th {\n",
       "        text-align: right;\n",
       "    }\n",
       "</style>\n",
       "<table border=\"1\" class=\"dataframe\">\n",
       "  <thead>\n",
       "    <tr style=\"text-align: right;\">\n",
       "      <th></th>\n",
       "      <th>text</th>\n",
       "      <th>label</th>\n",
       "    </tr>\n",
       "  </thead>\n",
       "  <tbody>\n",
       "    <tr>\n",
       "      <th>0</th>\n",
       "      <td>i just feel really helpless and heavy hearted</td>\n",
       "      <td>4</td>\n",
       "    </tr>\n",
       "    <tr>\n",
       "      <th>1</th>\n",
       "      <td>ive enjoyed being able to slouch about relax a...</td>\n",
       "      <td>0</td>\n",
       "    </tr>\n",
       "    <tr>\n",
       "      <th>2</th>\n",
       "      <td>i gave up my internship with the dmrg and am f...</td>\n",
       "      <td>4</td>\n",
       "    </tr>\n",
       "    <tr>\n",
       "      <th>3</th>\n",
       "      <td>i dont know i feel so lost</td>\n",
       "      <td>0</td>\n",
       "    </tr>\n",
       "    <tr>\n",
       "      <th>4</th>\n",
       "      <td>i am a kindergarten teacher and i am thoroughl...</td>\n",
       "      <td>4</td>\n",
       "    </tr>\n",
       "  </tbody>\n",
       "</table>\n",
       "</div>"
      ],
      "text/plain": [
       "                                                text  label\n",
       "0      i just feel really helpless and heavy hearted      4\n",
       "1  ive enjoyed being able to slouch about relax a...      0\n",
       "2  i gave up my internship with the dmrg and am f...      4\n",
       "3                         i dont know i feel so lost      0\n",
       "4  i am a kindergarten teacher and i am thoroughl...      4"
      ]
     },
     "execution_count": 3,
     "metadata": {},
     "output_type": "execute_result"
    }
   ],
   "source": [
    "df.drop(df.iloc[:,0:1],axis=1,inplace=True)\n",
    "df.head()"
   ]
  },
  {
   "cell_type": "code",
   "execution_count": 4,
   "id": "3e6ceac9-cdf7-4527-bdf5-a7554d60c48f",
   "metadata": {},
   "outputs": [],
   "source": [
    "# Initialize the Porter Stemmer\n",
    "ps = PorterStemmer()\n",
    "stop_words = set(stopwords.words('english'))\n",
    "\n",
    "def process_text(text):\n",
    "    # Remove all non-letter characters\n",
    "    cleaned_text = re.sub('[^a-zA-Z]', \" \", text)\n",
    "    # Convert to lowercase\n",
    "    cleaned_text = cleaned_text.lower()\n",
    "    # Split into words\n",
    "    words = cleaned_text.split()\n",
    "    # Stem words and remove stopwords\n",
    "    processed_words = [ps.stem(word) for word in words if word not in stop_words]\n",
    "    # Join words back into a single string\n",
    "    processed_text = \" \".join(processed_words)\n",
    "    return processed_text"
   ]
  },
  {
   "cell_type": "code",
   "execution_count": 5,
   "id": "71f38f80-d1f5-4ada-b5d5-6e2378376f5a",
   "metadata": {},
   "outputs": [],
   "source": [
    "batch_size = 10000\n",
    "corpus = []\n",
    "\n",
    "for start in range(0, len(df), batch_size):\n",
    "    end = start + batch_size\n",
    "    batch = df.iloc[start:end]\n",
    "    batch['processed_text'] = batch['text'].apply(process_text)\n",
    "    corpus.extend(batch['processed_text'].tolist())"
   ]
  },
  {
   "cell_type": "code",
   "execution_count": 6,
   "id": "d31467d3-3976-4fcd-aa6b-911f6993648b",
   "metadata": {},
   "outputs": [],
   "source": [
    "# Vectorization \n",
    "\n",
    "Count_vector = CountVectorizer()\n",
    "X = Count_vector.fit_transform(corpus)"
   ]
  },
  {
   "cell_type": "code",
   "execution_count": 7,
   "id": "e4c38ac7-5ad9-4e63-a2ca-de40b7db802e",
   "metadata": {},
   "outputs": [],
   "source": [
    "y = df['label']"
   ]
  },
  {
   "cell_type": "code",
   "execution_count": 8,
   "id": "e17dc4fc-f585-4a8b-8e07-f2a70176864f",
   "metadata": {},
   "outputs": [],
   "source": [
    "#Train Test Split\n",
    "\n",
    "X_train , X_test, y_train, y_test = train_test_split(X, y, test_size=0.2, random_state = 9)"
   ]
  },
  {
   "cell_type": "markdown",
   "id": "b06a2156-324e-4d55-8906-4879919c7f6d",
   "metadata": {},
   "source": [
    "# Modelling\n",
    "\n",
    "**Navie Bayes Classifier with default parameters**"
   ]
  },
  {
   "cell_type": "code",
   "execution_count": 9,
   "id": "5674613a-be57-4866-a7e8-b73d5b073881",
   "metadata": {},
   "outputs": [
    {
     "name": "stdout",
     "output_type": "stream",
     "text": [
      "Train Accuracy 0.8609014326114794\n",
      "Train Accuracy 0.8376358532664764\n"
     ]
    }
   ],
   "source": [
    "Emotion_classifier_model = MultinomialNB()\n",
    "Emotion_classifier_model.fit(X_train,y_train)\n",
    "\n",
    "#Prediction\n",
    "ypred_test = Emotion_classifier_model.predict(X_test)\n",
    "ypred_train = Emotion_classifier_model.predict(X_train)\n",
    "\n",
    "# Evaluation\n",
    "\n",
    "print(\"Train Accuracy\", accuracy_score(y_train,ypred_train))\n",
    "print(\"Train Accuracy\", accuracy_score(y_test,ypred_test))"
   ]
  },
  {
   "cell_type": "code",
   "execution_count": 10,
   "id": "8b28339c-f339-4699-b044-88673c6cfd9c",
   "metadata": {},
   "outputs": [
    {
     "name": "stdout",
     "output_type": "stream",
     "text": [
      "Classification Report:\n",
      "               precision    recall  f1-score   support\n",
      "\n",
      "           0       0.85      0.92      0.89     24199\n",
      "           1       0.82      0.92      0.87     28216\n",
      "           2       0.78      0.53      0.63      6900\n",
      "           3       0.89      0.82      0.85     11434\n",
      "           4       0.82      0.79      0.81      9639\n",
      "           5       0.80      0.34      0.48      2974\n",
      "\n",
      "    accuracy                           0.84     83362\n",
      "   macro avg       0.83      0.72      0.75     83362\n",
      "weighted avg       0.84      0.84      0.83     83362\n",
      "\n"
     ]
    }
   ],
   "source": [
    "report = classification_report(y_test, ypred_test)\n",
    "print(\"Classification Report:\\n\", report)"
   ]
  },
  {
   "cell_type": "code",
   "execution_count": 11,
   "id": "c919005c-47dd-4c4b-b250-d4cf10beb9cf",
   "metadata": {},
   "outputs": [
    {
     "data": {
      "text/plain": [
       "{'alpha': 0.5}"
      ]
     },
     "execution_count": 11,
     "metadata": {},
     "output_type": "execute_result"
    }
   ],
   "source": [
    "# hyperparamete Tuning for the best parmeters for better accuracy\n",
    "\n",
    "# Define the parameter grid for MultinomialNB\n",
    "param_grid = {'alpha': [0.1, 0.5, 1.0, 5.0, 10.0]}\n",
    "grid_search = GridSearchCV(MultinomialNB(), param_grid, cv=5, scoring='f1_weighted', n_jobs=-1)\n",
    "\n",
    "# Fit GridSearchCV\n",
    "grid_search.fit(X_train, y_train)\n",
    "\n",
    "grid_search.best_params_"
   ]
  },
  {
   "cell_type": "markdown",
   "id": "562e0230-b062-46b6-8a6f-912579f0bc99",
   "metadata": {},
   "source": [
    "# Modelling with best classifier"
   ]
  },
  {
   "cell_type": "code",
   "execution_count": 12,
   "id": "5f0b4384-c7d4-48ef-812c-f23f6ddcd504",
   "metadata": {},
   "outputs": [
    {
     "name": "stdout",
     "output_type": "stream",
     "text": [
      "Train Accuracy 0.8710349770728182\n",
      "Train Accuracy 0.8405988340011036\n"
     ]
    }
   ],
   "source": [
    "Emotion_classifier_best = MultinomialNB(alpha= .5)\n",
    "Emotion_classifier_best.fit(X_train,y_train)\n",
    "\n",
    "#Prediction\n",
    "ypred_test = Emotion_classifier_best.predict(X_test)\n",
    "ypred_train = Emotion_classifier_best.predict(X_train)\n",
    "\n",
    "# Evaluation\n",
    "\n",
    "print(\"Train Accuracy\", accuracy_score(y_train,ypred_train))\n",
    "print(\"Train Accuracy\", accuracy_score(y_test,ypred_test))"
   ]
  },
  {
   "cell_type": "code",
   "execution_count": 13,
   "id": "1608d201-1c8e-4819-8f12-ee096a398c8c",
   "metadata": {},
   "outputs": [
    {
     "name": "stdin",
     "output_type": "stream",
     "text": [
      "Enter your new sentence here:  Hello how are you \n"
     ]
    },
    {
     "name": "stdout",
     "output_type": "stream",
     "text": [
      "Prediction probabilities of your emotion in sentance : sadness\n"
     ]
    }
   ],
   "source": [
    "# Trying it on the new text\n",
    "\n",
    "# New sentence to classify\n",
    "new_sentence = input(\"Enter your new sentence here: \")\n",
    "\n",
    "# Preprocess the new sentence\n",
    "def preprocess_single_sentence(sentence):\n",
    "    cleaned_sentence = re.sub('[^a-zA-Z]', \" \", sentence)\n",
    "    cleaned_sentence = cleaned_sentence.lower()\n",
    "    words = cleaned_sentence.split()\n",
    "    processed_words = [ps.stem(word) for word in words if word not in stop_words]\n",
    "    processed_sentence = \" \".join(processed_words)\n",
    "    return processed_sentence\n",
    "\n",
    "processed_sentence = preprocess_single_sentence(new_sentence)\n",
    "\n",
    "# Transform the preprocessed sentence using the fitted CountVectorizer\n",
    "sentence_vector = Count_vector.transform([processed_sentence])\n",
    "\n",
    "# Make prediction using the trained model\n",
    "prediction = Emotion_classifier_best.predict(sentence_vector)\n",
    "prediction_proba = Emotion_classifier_best.predict_proba(sentence_vector)\n",
    "\n",
    "# Map prediction to emotions\n",
    "emotion_map = {\n",
    "    0: \"sadness\",\n",
    "    1: \"joy\",\n",
    "    2: \"love\",\n",
    "    3: \"anger\",\n",
    "    4: \"fear\",\n",
    "    5: \"surprise\"\n",
    "}\n",
    "\n",
    "predicted_emotion = emotion_map[prediction[0]]\n",
    "print(\"Prediction probabilities of your emotion in sentance :\", predicted_emotion)"
   ]
  },
  {
   "cell_type": "code",
   "execution_count": 14,
   "id": "3258fd02-4329-4932-ba9b-65c279fab49e",
   "metadata": {},
   "outputs": [
    {
     "data": {
      "text/plain": [
       "array([[0.39936273, 0.31773429, 0.03927524, 0.13960955, 0.06730878,\n",
       "        0.03670941]])"
      ]
     },
     "execution_count": 14,
     "metadata": {},
     "output_type": "execute_result"
    }
   ],
   "source": [
    "prediction_proba"
   ]
  },
  {
   "cell_type": "code",
   "execution_count": 15,
   "id": "e659b696-76e7-43fb-b239-41b3d0fc64f4",
   "metadata": {},
   "outputs": [
    {
     "name": "stdout",
     "output_type": "stream",
     "text": [
      "Train Accuracy: 0.8841405080867424\n",
      "Test Accuracy: 0.8757227513735275\n",
      "Cross Validation Score: 0.8761642629560733\n"
     ]
    }
   ],
   "source": [
    "from xgboost import XGBClassifier\n",
    "\n",
    "#modeling\n",
    "XGB_Model = XGBClassifier(random_state=0)\n",
    "XGB_Model.fit(X_train,y_train)\n",
    "\n",
    "#Evaluation on train data\n",
    "ypred_train_AB = XGB_Model.predict(X_train)\n",
    "ypred_test_AB = XGB_Model.predict(X_test)\n",
    "\n",
    "from sklearn.metrics import accuracy_score\n",
    "from sklearn.model_selection import cross_val_score\n",
    "print(\"Train Accuracy:\", accuracy_score(ypred_train_AB,y_train))\n",
    "print(\"Test Accuracy:\", accuracy_score(ypred_test_AB,y_test))\n",
    "print(\"Cross Validation Score:\",cross_val_score(XGB_Model, X, y, cv=5, scoring='f1_weighted').mean())"
   ]
  },
  {
   "cell_type": "code",
   "execution_count": 16,
   "id": "efc025dc-9712-4635-80da-2e3a759d88b6",
   "metadata": {},
   "outputs": [
    {
     "name": "stdout",
     "output_type": "stream",
     "text": [
      "Classification Report:\n",
      "               precision    recall  f1-score   support\n",
      "\n",
      "           0       0.93      0.90      0.92     24199\n",
      "           1       0.89      0.90      0.90     28216\n",
      "           2       0.77      0.76      0.76      6900\n",
      "           3       0.89      0.87      0.88     11434\n",
      "           4       0.85      0.83      0.84      9639\n",
      "           5       0.64      0.92      0.76      2974\n",
      "\n",
      "    accuracy                           0.88     83362\n",
      "   macro avg       0.83      0.86      0.84     83362\n",
      "weighted avg       0.88      0.88      0.88     83362\n",
      "\n"
     ]
    }
   ],
   "source": [
    "XGB_report = classification_report(y_test, ypred_test_AB)\n",
    "print(\"Classification Report:\\n\", XGB_report)"
   ]
  },
  {
   "cell_type": "code",
   "execution_count": null,
   "id": "0f0c950d-6bd3-49ee-a0ad-1066ae48eba2",
   "metadata": {},
   "outputs": [],
   "source": [
    "# New sentence to classify with XGB \n",
    "new_sentence = input(\"Enter your new sentence here: \")\n",
    "\n",
    "processed_sentence = preprocess_single_sentence(new_sentence)\n",
    "\n",
    "# Transform the preprocessed sentence using the fitted CountVectorizer\n",
    "sentence_vector = Count_vector.transform([processed_sentence])\n",
    "\n",
    "# Make prediction using the trained model\n",
    "prediction = XGB_Model.predict(sentence_vector)\n",
    "\n",
    "# Map prediction to emotions\n",
    "emotion_map = {\n",
    "    0: \"sadness\",\n",
    "    1: \"joy\",\n",
    "    2: \"love\",\n",
    "    3: \"anger\",\n",
    "    4: \"fear\",\n",
    "    5: \"surprise\"\n",
    "}\n",
    "\n",
    "predicted_emotion = emotion_map[prediction[0]]\n",
    "print(\"Prediction probabilities of your emotion in sentance :\", predicted_emotion)"
   ]
  },
  {
   "cell_type": "code",
   "execution_count": null,
   "id": "0b5a0d7e-08bf-4861-a836-0b99a0b58dba",
   "metadata": {},
   "outputs": [],
   "source": []
  }
 ],
 "metadata": {
  "kernelspec": {
   "display_name": "Python 3 (ipykernel)",
   "language": "python",
   "name": "python3"
  },
  "language_info": {
   "codemirror_mode": {
    "name": "ipython",
    "version": 3
   },
   "file_extension": ".py",
   "mimetype": "text/x-python",
   "name": "python",
   "nbconvert_exporter": "python",
   "pygments_lexer": "ipython3",
   "version": "3.11.7"
  }
 },
 "nbformat": 4,
 "nbformat_minor": 5
}
