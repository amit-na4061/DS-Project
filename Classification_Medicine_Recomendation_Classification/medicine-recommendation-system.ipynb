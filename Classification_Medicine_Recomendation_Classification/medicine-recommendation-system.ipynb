{
 "cells": [
  {
   "cell_type": "code",
   "execution_count": 1,
   "metadata": {
    "_cell_guid": "b1076dfc-b9ad-4769-8c92-a6c4dae69d19",
    "_uuid": "8f2839f25d086af736a60e9eeb907d3b93b6e0e5",
    "execution": {
     "iopub.execute_input": "2024-04-06T00:13:52.837415Z",
     "iopub.status.busy": "2024-04-06T00:13:52.836540Z",
     "iopub.status.idle": "2024-04-06T00:13:52.844460Z",
     "shell.execute_reply": "2024-04-06T00:13:52.842991Z",
     "shell.execute_reply.started": "2024-04-06T00:13:52.837368Z"
    }
   },
   "outputs": [],
   "source": [
    "import pandas as pd\n",
    "import numpy as np\n",
    "import matplotlib.pyplot as plt\n",
    "import seaborn as sns\n",
    "from sklearn.model_selection import train_test_split\n",
    "from sklearn.preprocessing import LabelEncoder"
   ]
  },
  {
   "cell_type": "code",
   "execution_count": 2,
   "metadata": {
    "execution": {
     "iopub.execute_input": "2024-04-06T00:13:53.110229Z",
     "iopub.status.busy": "2024-04-06T00:13:53.109830Z",
     "iopub.status.idle": "2024-04-06T00:13:53.116762Z",
     "shell.execute_reply": "2024-04-06T00:13:53.115333Z",
     "shell.execute_reply.started": "2024-04-06T00:13:53.110201Z"
    }
   },
   "outputs": [],
   "source": [
    "import warnings\n",
    "warnings.filterwarnings('ignore')"
   ]
  },
  {
   "cell_type": "code",
   "execution_count": 3,
   "metadata": {
    "execution": {
     "iopub.execute_input": "2024-04-06T00:13:53.387583Z",
     "iopub.status.busy": "2024-04-06T00:13:53.387170Z",
     "iopub.status.idle": "2024-04-06T00:13:53.483993Z",
     "shell.execute_reply": "2024-04-06T00:13:53.482635Z",
     "shell.execute_reply.started": "2024-04-06T00:13:53.387553Z"
    }
   },
   "outputs": [],
   "source": [
    "df=pd.read_csv('C:\\\\Users\\\\amitn\\\\Downloads\\\\Dataset for project\\\\Medicine Recomendation\\\\Training.csv\\\\Training.csv')"
   ]
  },
  {
   "cell_type": "code",
   "execution_count": 4,
   "metadata": {
    "execution": {
     "iopub.execute_input": "2024-04-06T00:13:53.627386Z",
     "iopub.status.busy": "2024-04-06T00:13:53.626884Z",
     "iopub.status.idle": "2024-04-06T00:13:53.651267Z",
     "shell.execute_reply": "2024-04-06T00:13:53.650266Z",
     "shell.execute_reply.started": "2024-04-06T00:13:53.627347Z"
    }
   },
   "outputs": [
    {
     "data": {
      "text/html": [
       "<div>\n",
       "<style scoped>\n",
       "    .dataframe tbody tr th:only-of-type {\n",
       "        vertical-align: middle;\n",
       "    }\n",
       "\n",
       "    .dataframe tbody tr th {\n",
       "        vertical-align: top;\n",
       "    }\n",
       "\n",
       "    .dataframe thead th {\n",
       "        text-align: right;\n",
       "    }\n",
       "</style>\n",
       "<table border=\"1\" class=\"dataframe\">\n",
       "  <thead>\n",
       "    <tr style=\"text-align: right;\">\n",
       "      <th></th>\n",
       "      <th>itching</th>\n",
       "      <th>skin_rash</th>\n",
       "      <th>nodal_skin_eruptions</th>\n",
       "      <th>continuous_sneezing</th>\n",
       "      <th>shivering</th>\n",
       "      <th>chills</th>\n",
       "      <th>joint_pain</th>\n",
       "      <th>stomach_pain</th>\n",
       "      <th>acidity</th>\n",
       "      <th>ulcers_on_tongue</th>\n",
       "      <th>...</th>\n",
       "      <th>blackheads</th>\n",
       "      <th>scurring</th>\n",
       "      <th>skin_peeling</th>\n",
       "      <th>silver_like_dusting</th>\n",
       "      <th>small_dents_in_nails</th>\n",
       "      <th>inflammatory_nails</th>\n",
       "      <th>blister</th>\n",
       "      <th>red_sore_around_nose</th>\n",
       "      <th>yellow_crust_ooze</th>\n",
       "      <th>prognosis</th>\n",
       "    </tr>\n",
       "  </thead>\n",
       "  <tbody>\n",
       "    <tr>\n",
       "      <th>0</th>\n",
       "      <td>1</td>\n",
       "      <td>1</td>\n",
       "      <td>1</td>\n",
       "      <td>0</td>\n",
       "      <td>0</td>\n",
       "      <td>0</td>\n",
       "      <td>0</td>\n",
       "      <td>0</td>\n",
       "      <td>0</td>\n",
       "      <td>0</td>\n",
       "      <td>...</td>\n",
       "      <td>0</td>\n",
       "      <td>0</td>\n",
       "      <td>0</td>\n",
       "      <td>0</td>\n",
       "      <td>0</td>\n",
       "      <td>0</td>\n",
       "      <td>0</td>\n",
       "      <td>0</td>\n",
       "      <td>0</td>\n",
       "      <td>Fungal infection</td>\n",
       "    </tr>\n",
       "    <tr>\n",
       "      <th>1</th>\n",
       "      <td>0</td>\n",
       "      <td>1</td>\n",
       "      <td>1</td>\n",
       "      <td>0</td>\n",
       "      <td>0</td>\n",
       "      <td>0</td>\n",
       "      <td>0</td>\n",
       "      <td>0</td>\n",
       "      <td>0</td>\n",
       "      <td>0</td>\n",
       "      <td>...</td>\n",
       "      <td>0</td>\n",
       "      <td>0</td>\n",
       "      <td>0</td>\n",
       "      <td>0</td>\n",
       "      <td>0</td>\n",
       "      <td>0</td>\n",
       "      <td>0</td>\n",
       "      <td>0</td>\n",
       "      <td>0</td>\n",
       "      <td>Fungal infection</td>\n",
       "    </tr>\n",
       "    <tr>\n",
       "      <th>2</th>\n",
       "      <td>1</td>\n",
       "      <td>0</td>\n",
       "      <td>1</td>\n",
       "      <td>0</td>\n",
       "      <td>0</td>\n",
       "      <td>0</td>\n",
       "      <td>0</td>\n",
       "      <td>0</td>\n",
       "      <td>0</td>\n",
       "      <td>0</td>\n",
       "      <td>...</td>\n",
       "      <td>0</td>\n",
       "      <td>0</td>\n",
       "      <td>0</td>\n",
       "      <td>0</td>\n",
       "      <td>0</td>\n",
       "      <td>0</td>\n",
       "      <td>0</td>\n",
       "      <td>0</td>\n",
       "      <td>0</td>\n",
       "      <td>Fungal infection</td>\n",
       "    </tr>\n",
       "    <tr>\n",
       "      <th>3</th>\n",
       "      <td>1</td>\n",
       "      <td>1</td>\n",
       "      <td>0</td>\n",
       "      <td>0</td>\n",
       "      <td>0</td>\n",
       "      <td>0</td>\n",
       "      <td>0</td>\n",
       "      <td>0</td>\n",
       "      <td>0</td>\n",
       "      <td>0</td>\n",
       "      <td>...</td>\n",
       "      <td>0</td>\n",
       "      <td>0</td>\n",
       "      <td>0</td>\n",
       "      <td>0</td>\n",
       "      <td>0</td>\n",
       "      <td>0</td>\n",
       "      <td>0</td>\n",
       "      <td>0</td>\n",
       "      <td>0</td>\n",
       "      <td>Fungal infection</td>\n",
       "    </tr>\n",
       "    <tr>\n",
       "      <th>4</th>\n",
       "      <td>1</td>\n",
       "      <td>1</td>\n",
       "      <td>1</td>\n",
       "      <td>0</td>\n",
       "      <td>0</td>\n",
       "      <td>0</td>\n",
       "      <td>0</td>\n",
       "      <td>0</td>\n",
       "      <td>0</td>\n",
       "      <td>0</td>\n",
       "      <td>...</td>\n",
       "      <td>0</td>\n",
       "      <td>0</td>\n",
       "      <td>0</td>\n",
       "      <td>0</td>\n",
       "      <td>0</td>\n",
       "      <td>0</td>\n",
       "      <td>0</td>\n",
       "      <td>0</td>\n",
       "      <td>0</td>\n",
       "      <td>Fungal infection</td>\n",
       "    </tr>\n",
       "  </tbody>\n",
       "</table>\n",
       "<p>5 rows × 133 columns</p>\n",
       "</div>"
      ],
      "text/plain": [
       "   itching  skin_rash  nodal_skin_eruptions  continuous_sneezing  shivering  \\\n",
       "0        1          1                     1                    0          0   \n",
       "1        0          1                     1                    0          0   \n",
       "2        1          0                     1                    0          0   \n",
       "3        1          1                     0                    0          0   \n",
       "4        1          1                     1                    0          0   \n",
       "\n",
       "   chills  joint_pain  stomach_pain  acidity  ulcers_on_tongue  ...  \\\n",
       "0       0           0             0        0                 0  ...   \n",
       "1       0           0             0        0                 0  ...   \n",
       "2       0           0             0        0                 0  ...   \n",
       "3       0           0             0        0                 0  ...   \n",
       "4       0           0             0        0                 0  ...   \n",
       "\n",
       "   blackheads  scurring  skin_peeling  silver_like_dusting  \\\n",
       "0           0         0             0                    0   \n",
       "1           0         0             0                    0   \n",
       "2           0         0             0                    0   \n",
       "3           0         0             0                    0   \n",
       "4           0         0             0                    0   \n",
       "\n",
       "   small_dents_in_nails  inflammatory_nails  blister  red_sore_around_nose  \\\n",
       "0                     0                   0        0                     0   \n",
       "1                     0                   0        0                     0   \n",
       "2                     0                   0        0                     0   \n",
       "3                     0                   0        0                     0   \n",
       "4                     0                   0        0                     0   \n",
       "\n",
       "   yellow_crust_ooze         prognosis  \n",
       "0                  0  Fungal infection  \n",
       "1                  0  Fungal infection  \n",
       "2                  0  Fungal infection  \n",
       "3                  0  Fungal infection  \n",
       "4                  0  Fungal infection  \n",
       "\n",
       "[5 rows x 133 columns]"
      ]
     },
     "execution_count": 4,
     "metadata": {},
     "output_type": "execute_result"
    }
   ],
   "source": [
    "df.head()"
   ]
  },
  {
   "cell_type": "code",
   "execution_count": 5,
   "metadata": {
    "execution": {
     "iopub.execute_input": "2024-04-06T00:13:53.940596Z",
     "iopub.status.busy": "2024-04-06T00:13:53.940068Z",
     "iopub.status.idle": "2024-04-06T00:13:53.964493Z",
     "shell.execute_reply": "2024-04-06T00:13:53.962653Z",
     "shell.execute_reply.started": "2024-04-06T00:13:53.940560Z"
    }
   },
   "outputs": [
    {
     "data": {
      "text/html": [
       "<div>\n",
       "<style scoped>\n",
       "    .dataframe tbody tr th:only-of-type {\n",
       "        vertical-align: middle;\n",
       "    }\n",
       "\n",
       "    .dataframe tbody tr th {\n",
       "        vertical-align: top;\n",
       "    }\n",
       "\n",
       "    .dataframe thead th {\n",
       "        text-align: right;\n",
       "    }\n",
       "</style>\n",
       "<table border=\"1\" class=\"dataframe\">\n",
       "  <thead>\n",
       "    <tr style=\"text-align: right;\">\n",
       "      <th></th>\n",
       "      <th>itching</th>\n",
       "      <th>skin_rash</th>\n",
       "      <th>nodal_skin_eruptions</th>\n",
       "      <th>continuous_sneezing</th>\n",
       "      <th>shivering</th>\n",
       "      <th>chills</th>\n",
       "      <th>joint_pain</th>\n",
       "      <th>stomach_pain</th>\n",
       "      <th>acidity</th>\n",
       "      <th>ulcers_on_tongue</th>\n",
       "      <th>...</th>\n",
       "      <th>blackheads</th>\n",
       "      <th>scurring</th>\n",
       "      <th>skin_peeling</th>\n",
       "      <th>silver_like_dusting</th>\n",
       "      <th>small_dents_in_nails</th>\n",
       "      <th>inflammatory_nails</th>\n",
       "      <th>blister</th>\n",
       "      <th>red_sore_around_nose</th>\n",
       "      <th>yellow_crust_ooze</th>\n",
       "      <th>prognosis</th>\n",
       "    </tr>\n",
       "  </thead>\n",
       "  <tbody>\n",
       "    <tr>\n",
       "      <th>4915</th>\n",
       "      <td>0</td>\n",
       "      <td>0</td>\n",
       "      <td>0</td>\n",
       "      <td>0</td>\n",
       "      <td>0</td>\n",
       "      <td>0</td>\n",
       "      <td>0</td>\n",
       "      <td>0</td>\n",
       "      <td>0</td>\n",
       "      <td>0</td>\n",
       "      <td>...</td>\n",
       "      <td>0</td>\n",
       "      <td>0</td>\n",
       "      <td>0</td>\n",
       "      <td>0</td>\n",
       "      <td>0</td>\n",
       "      <td>0</td>\n",
       "      <td>0</td>\n",
       "      <td>0</td>\n",
       "      <td>0</td>\n",
       "      <td>(vertigo) Paroymsal  Positional Vertigo</td>\n",
       "    </tr>\n",
       "    <tr>\n",
       "      <th>4916</th>\n",
       "      <td>0</td>\n",
       "      <td>1</td>\n",
       "      <td>0</td>\n",
       "      <td>0</td>\n",
       "      <td>0</td>\n",
       "      <td>0</td>\n",
       "      <td>0</td>\n",
       "      <td>0</td>\n",
       "      <td>0</td>\n",
       "      <td>0</td>\n",
       "      <td>...</td>\n",
       "      <td>1</td>\n",
       "      <td>1</td>\n",
       "      <td>0</td>\n",
       "      <td>0</td>\n",
       "      <td>0</td>\n",
       "      <td>0</td>\n",
       "      <td>0</td>\n",
       "      <td>0</td>\n",
       "      <td>0</td>\n",
       "      <td>Acne</td>\n",
       "    </tr>\n",
       "    <tr>\n",
       "      <th>4917</th>\n",
       "      <td>0</td>\n",
       "      <td>0</td>\n",
       "      <td>0</td>\n",
       "      <td>0</td>\n",
       "      <td>0</td>\n",
       "      <td>0</td>\n",
       "      <td>0</td>\n",
       "      <td>0</td>\n",
       "      <td>0</td>\n",
       "      <td>0</td>\n",
       "      <td>...</td>\n",
       "      <td>0</td>\n",
       "      <td>0</td>\n",
       "      <td>0</td>\n",
       "      <td>0</td>\n",
       "      <td>0</td>\n",
       "      <td>0</td>\n",
       "      <td>0</td>\n",
       "      <td>0</td>\n",
       "      <td>0</td>\n",
       "      <td>Urinary tract infection</td>\n",
       "    </tr>\n",
       "    <tr>\n",
       "      <th>4918</th>\n",
       "      <td>0</td>\n",
       "      <td>1</td>\n",
       "      <td>0</td>\n",
       "      <td>0</td>\n",
       "      <td>0</td>\n",
       "      <td>0</td>\n",
       "      <td>1</td>\n",
       "      <td>0</td>\n",
       "      <td>0</td>\n",
       "      <td>0</td>\n",
       "      <td>...</td>\n",
       "      <td>0</td>\n",
       "      <td>0</td>\n",
       "      <td>1</td>\n",
       "      <td>1</td>\n",
       "      <td>1</td>\n",
       "      <td>1</td>\n",
       "      <td>0</td>\n",
       "      <td>0</td>\n",
       "      <td>0</td>\n",
       "      <td>Psoriasis</td>\n",
       "    </tr>\n",
       "    <tr>\n",
       "      <th>4919</th>\n",
       "      <td>0</td>\n",
       "      <td>1</td>\n",
       "      <td>0</td>\n",
       "      <td>0</td>\n",
       "      <td>0</td>\n",
       "      <td>0</td>\n",
       "      <td>0</td>\n",
       "      <td>0</td>\n",
       "      <td>0</td>\n",
       "      <td>0</td>\n",
       "      <td>...</td>\n",
       "      <td>0</td>\n",
       "      <td>0</td>\n",
       "      <td>0</td>\n",
       "      <td>0</td>\n",
       "      <td>0</td>\n",
       "      <td>0</td>\n",
       "      <td>1</td>\n",
       "      <td>1</td>\n",
       "      <td>1</td>\n",
       "      <td>Impetigo</td>\n",
       "    </tr>\n",
       "  </tbody>\n",
       "</table>\n",
       "<p>5 rows × 133 columns</p>\n",
       "</div>"
      ],
      "text/plain": [
       "      itching  skin_rash  nodal_skin_eruptions  continuous_sneezing  \\\n",
       "4915        0          0                     0                    0   \n",
       "4916        0          1                     0                    0   \n",
       "4917        0          0                     0                    0   \n",
       "4918        0          1                     0                    0   \n",
       "4919        0          1                     0                    0   \n",
       "\n",
       "      shivering  chills  joint_pain  stomach_pain  acidity  ulcers_on_tongue  \\\n",
       "4915          0       0           0             0        0                 0   \n",
       "4916          0       0           0             0        0                 0   \n",
       "4917          0       0           0             0        0                 0   \n",
       "4918          0       0           1             0        0                 0   \n",
       "4919          0       0           0             0        0                 0   \n",
       "\n",
       "      ...  blackheads  scurring  skin_peeling  silver_like_dusting  \\\n",
       "4915  ...           0         0             0                    0   \n",
       "4916  ...           1         1             0                    0   \n",
       "4917  ...           0         0             0                    0   \n",
       "4918  ...           0         0             1                    1   \n",
       "4919  ...           0         0             0                    0   \n",
       "\n",
       "      small_dents_in_nails  inflammatory_nails  blister  red_sore_around_nose  \\\n",
       "4915                     0                   0        0                     0   \n",
       "4916                     0                   0        0                     0   \n",
       "4917                     0                   0        0                     0   \n",
       "4918                     1                   1        0                     0   \n",
       "4919                     0                   0        1                     1   \n",
       "\n",
       "      yellow_crust_ooze                                prognosis  \n",
       "4915                  0  (vertigo) Paroymsal  Positional Vertigo  \n",
       "4916                  0                                     Acne  \n",
       "4917                  0                  Urinary tract infection  \n",
       "4918                  0                                Psoriasis  \n",
       "4919                  1                                 Impetigo  \n",
       "\n",
       "[5 rows x 133 columns]"
      ]
     },
     "execution_count": 5,
     "metadata": {},
     "output_type": "execute_result"
    }
   ],
   "source": [
    "df.tail()"
   ]
  },
  {
   "cell_type": "code",
   "execution_count": 6,
   "metadata": {
    "execution": {
     "iopub.execute_input": "2024-04-06T00:13:54.228493Z",
     "iopub.status.busy": "2024-04-06T00:13:54.228010Z",
     "iopub.status.idle": "2024-04-06T00:13:54.503625Z",
     "shell.execute_reply": "2024-04-06T00:13:54.502103Z",
     "shell.execute_reply.started": "2024-04-06T00:13:54.228456Z"
    }
   },
   "outputs": [
    {
     "data": {
      "text/html": [
       "<div>\n",
       "<style scoped>\n",
       "    .dataframe tbody tr th:only-of-type {\n",
       "        vertical-align: middle;\n",
       "    }\n",
       "\n",
       "    .dataframe tbody tr th {\n",
       "        vertical-align: top;\n",
       "    }\n",
       "\n",
       "    .dataframe thead th {\n",
       "        text-align: right;\n",
       "    }\n",
       "</style>\n",
       "<table border=\"1\" class=\"dataframe\">\n",
       "  <thead>\n",
       "    <tr style=\"text-align: right;\">\n",
       "      <th></th>\n",
       "      <th>itching</th>\n",
       "      <th>skin_rash</th>\n",
       "      <th>nodal_skin_eruptions</th>\n",
       "      <th>continuous_sneezing</th>\n",
       "      <th>shivering</th>\n",
       "      <th>chills</th>\n",
       "      <th>joint_pain</th>\n",
       "      <th>stomach_pain</th>\n",
       "      <th>acidity</th>\n",
       "      <th>ulcers_on_tongue</th>\n",
       "      <th>...</th>\n",
       "      <th>pus_filled_pimples</th>\n",
       "      <th>blackheads</th>\n",
       "      <th>scurring</th>\n",
       "      <th>skin_peeling</th>\n",
       "      <th>silver_like_dusting</th>\n",
       "      <th>small_dents_in_nails</th>\n",
       "      <th>inflammatory_nails</th>\n",
       "      <th>blister</th>\n",
       "      <th>red_sore_around_nose</th>\n",
       "      <th>yellow_crust_ooze</th>\n",
       "    </tr>\n",
       "  </thead>\n",
       "  <tbody>\n",
       "    <tr>\n",
       "      <th>count</th>\n",
       "      <td>4920.000000</td>\n",
       "      <td>4920.000000</td>\n",
       "      <td>4920.000000</td>\n",
       "      <td>4920.000000</td>\n",
       "      <td>4920.000000</td>\n",
       "      <td>4920.000000</td>\n",
       "      <td>4920.000000</td>\n",
       "      <td>4920.000000</td>\n",
       "      <td>4920.000000</td>\n",
       "      <td>4920.000000</td>\n",
       "      <td>...</td>\n",
       "      <td>4920.000000</td>\n",
       "      <td>4920.000000</td>\n",
       "      <td>4920.000000</td>\n",
       "      <td>4920.000000</td>\n",
       "      <td>4920.000000</td>\n",
       "      <td>4920.000000</td>\n",
       "      <td>4920.000000</td>\n",
       "      <td>4920.000000</td>\n",
       "      <td>4920.000000</td>\n",
       "      <td>4920.000000</td>\n",
       "    </tr>\n",
       "    <tr>\n",
       "      <th>mean</th>\n",
       "      <td>0.137805</td>\n",
       "      <td>0.159756</td>\n",
       "      <td>0.021951</td>\n",
       "      <td>0.045122</td>\n",
       "      <td>0.021951</td>\n",
       "      <td>0.162195</td>\n",
       "      <td>0.139024</td>\n",
       "      <td>0.045122</td>\n",
       "      <td>0.045122</td>\n",
       "      <td>0.021951</td>\n",
       "      <td>...</td>\n",
       "      <td>0.021951</td>\n",
       "      <td>0.021951</td>\n",
       "      <td>0.021951</td>\n",
       "      <td>0.023171</td>\n",
       "      <td>0.023171</td>\n",
       "      <td>0.023171</td>\n",
       "      <td>0.023171</td>\n",
       "      <td>0.023171</td>\n",
       "      <td>0.023171</td>\n",
       "      <td>0.023171</td>\n",
       "    </tr>\n",
       "    <tr>\n",
       "      <th>std</th>\n",
       "      <td>0.344730</td>\n",
       "      <td>0.366417</td>\n",
       "      <td>0.146539</td>\n",
       "      <td>0.207593</td>\n",
       "      <td>0.146539</td>\n",
       "      <td>0.368667</td>\n",
       "      <td>0.346007</td>\n",
       "      <td>0.207593</td>\n",
       "      <td>0.207593</td>\n",
       "      <td>0.146539</td>\n",
       "      <td>...</td>\n",
       "      <td>0.146539</td>\n",
       "      <td>0.146539</td>\n",
       "      <td>0.146539</td>\n",
       "      <td>0.150461</td>\n",
       "      <td>0.150461</td>\n",
       "      <td>0.150461</td>\n",
       "      <td>0.150461</td>\n",
       "      <td>0.150461</td>\n",
       "      <td>0.150461</td>\n",
       "      <td>0.150461</td>\n",
       "    </tr>\n",
       "    <tr>\n",
       "      <th>min</th>\n",
       "      <td>0.000000</td>\n",
       "      <td>0.000000</td>\n",
       "      <td>0.000000</td>\n",
       "      <td>0.000000</td>\n",
       "      <td>0.000000</td>\n",
       "      <td>0.000000</td>\n",
       "      <td>0.000000</td>\n",
       "      <td>0.000000</td>\n",
       "      <td>0.000000</td>\n",
       "      <td>0.000000</td>\n",
       "      <td>...</td>\n",
       "      <td>0.000000</td>\n",
       "      <td>0.000000</td>\n",
       "      <td>0.000000</td>\n",
       "      <td>0.000000</td>\n",
       "      <td>0.000000</td>\n",
       "      <td>0.000000</td>\n",
       "      <td>0.000000</td>\n",
       "      <td>0.000000</td>\n",
       "      <td>0.000000</td>\n",
       "      <td>0.000000</td>\n",
       "    </tr>\n",
       "    <tr>\n",
       "      <th>25%</th>\n",
       "      <td>0.000000</td>\n",
       "      <td>0.000000</td>\n",
       "      <td>0.000000</td>\n",
       "      <td>0.000000</td>\n",
       "      <td>0.000000</td>\n",
       "      <td>0.000000</td>\n",
       "      <td>0.000000</td>\n",
       "      <td>0.000000</td>\n",
       "      <td>0.000000</td>\n",
       "      <td>0.000000</td>\n",
       "      <td>...</td>\n",
       "      <td>0.000000</td>\n",
       "      <td>0.000000</td>\n",
       "      <td>0.000000</td>\n",
       "      <td>0.000000</td>\n",
       "      <td>0.000000</td>\n",
       "      <td>0.000000</td>\n",
       "      <td>0.000000</td>\n",
       "      <td>0.000000</td>\n",
       "      <td>0.000000</td>\n",
       "      <td>0.000000</td>\n",
       "    </tr>\n",
       "    <tr>\n",
       "      <th>50%</th>\n",
       "      <td>0.000000</td>\n",
       "      <td>0.000000</td>\n",
       "      <td>0.000000</td>\n",
       "      <td>0.000000</td>\n",
       "      <td>0.000000</td>\n",
       "      <td>0.000000</td>\n",
       "      <td>0.000000</td>\n",
       "      <td>0.000000</td>\n",
       "      <td>0.000000</td>\n",
       "      <td>0.000000</td>\n",
       "      <td>...</td>\n",
       "      <td>0.000000</td>\n",
       "      <td>0.000000</td>\n",
       "      <td>0.000000</td>\n",
       "      <td>0.000000</td>\n",
       "      <td>0.000000</td>\n",
       "      <td>0.000000</td>\n",
       "      <td>0.000000</td>\n",
       "      <td>0.000000</td>\n",
       "      <td>0.000000</td>\n",
       "      <td>0.000000</td>\n",
       "    </tr>\n",
       "    <tr>\n",
       "      <th>75%</th>\n",
       "      <td>0.000000</td>\n",
       "      <td>0.000000</td>\n",
       "      <td>0.000000</td>\n",
       "      <td>0.000000</td>\n",
       "      <td>0.000000</td>\n",
       "      <td>0.000000</td>\n",
       "      <td>0.000000</td>\n",
       "      <td>0.000000</td>\n",
       "      <td>0.000000</td>\n",
       "      <td>0.000000</td>\n",
       "      <td>...</td>\n",
       "      <td>0.000000</td>\n",
       "      <td>0.000000</td>\n",
       "      <td>0.000000</td>\n",
       "      <td>0.000000</td>\n",
       "      <td>0.000000</td>\n",
       "      <td>0.000000</td>\n",
       "      <td>0.000000</td>\n",
       "      <td>0.000000</td>\n",
       "      <td>0.000000</td>\n",
       "      <td>0.000000</td>\n",
       "    </tr>\n",
       "    <tr>\n",
       "      <th>max</th>\n",
       "      <td>1.000000</td>\n",
       "      <td>1.000000</td>\n",
       "      <td>1.000000</td>\n",
       "      <td>1.000000</td>\n",
       "      <td>1.000000</td>\n",
       "      <td>1.000000</td>\n",
       "      <td>1.000000</td>\n",
       "      <td>1.000000</td>\n",
       "      <td>1.000000</td>\n",
       "      <td>1.000000</td>\n",
       "      <td>...</td>\n",
       "      <td>1.000000</td>\n",
       "      <td>1.000000</td>\n",
       "      <td>1.000000</td>\n",
       "      <td>1.000000</td>\n",
       "      <td>1.000000</td>\n",
       "      <td>1.000000</td>\n",
       "      <td>1.000000</td>\n",
       "      <td>1.000000</td>\n",
       "      <td>1.000000</td>\n",
       "      <td>1.000000</td>\n",
       "    </tr>\n",
       "  </tbody>\n",
       "</table>\n",
       "<p>8 rows × 132 columns</p>\n",
       "</div>"
      ],
      "text/plain": [
       "           itching    skin_rash  nodal_skin_eruptions  continuous_sneezing  \\\n",
       "count  4920.000000  4920.000000           4920.000000          4920.000000   \n",
       "mean      0.137805     0.159756              0.021951             0.045122   \n",
       "std       0.344730     0.366417              0.146539             0.207593   \n",
       "min       0.000000     0.000000              0.000000             0.000000   \n",
       "25%       0.000000     0.000000              0.000000             0.000000   \n",
       "50%       0.000000     0.000000              0.000000             0.000000   \n",
       "75%       0.000000     0.000000              0.000000             0.000000   \n",
       "max       1.000000     1.000000              1.000000             1.000000   \n",
       "\n",
       "         shivering       chills   joint_pain  stomach_pain      acidity  \\\n",
       "count  4920.000000  4920.000000  4920.000000   4920.000000  4920.000000   \n",
       "mean      0.021951     0.162195     0.139024      0.045122     0.045122   \n",
       "std       0.146539     0.368667     0.346007      0.207593     0.207593   \n",
       "min       0.000000     0.000000     0.000000      0.000000     0.000000   \n",
       "25%       0.000000     0.000000     0.000000      0.000000     0.000000   \n",
       "50%       0.000000     0.000000     0.000000      0.000000     0.000000   \n",
       "75%       0.000000     0.000000     0.000000      0.000000     0.000000   \n",
       "max       1.000000     1.000000     1.000000      1.000000     1.000000   \n",
       "\n",
       "       ulcers_on_tongue  ...  pus_filled_pimples   blackheads     scurring  \\\n",
       "count       4920.000000  ...         4920.000000  4920.000000  4920.000000   \n",
       "mean           0.021951  ...            0.021951     0.021951     0.021951   \n",
       "std            0.146539  ...            0.146539     0.146539     0.146539   \n",
       "min            0.000000  ...            0.000000     0.000000     0.000000   \n",
       "25%            0.000000  ...            0.000000     0.000000     0.000000   \n",
       "50%            0.000000  ...            0.000000     0.000000     0.000000   \n",
       "75%            0.000000  ...            0.000000     0.000000     0.000000   \n",
       "max            1.000000  ...            1.000000     1.000000     1.000000   \n",
       "\n",
       "       skin_peeling  silver_like_dusting  small_dents_in_nails  \\\n",
       "count   4920.000000          4920.000000           4920.000000   \n",
       "mean       0.023171             0.023171              0.023171   \n",
       "std        0.150461             0.150461              0.150461   \n",
       "min        0.000000             0.000000              0.000000   \n",
       "25%        0.000000             0.000000              0.000000   \n",
       "50%        0.000000             0.000000              0.000000   \n",
       "75%        0.000000             0.000000              0.000000   \n",
       "max        1.000000             1.000000              1.000000   \n",
       "\n",
       "       inflammatory_nails      blister  red_sore_around_nose  \\\n",
       "count         4920.000000  4920.000000           4920.000000   \n",
       "mean             0.023171     0.023171              0.023171   \n",
       "std              0.150461     0.150461              0.150461   \n",
       "min              0.000000     0.000000              0.000000   \n",
       "25%              0.000000     0.000000              0.000000   \n",
       "50%              0.000000     0.000000              0.000000   \n",
       "75%              0.000000     0.000000              0.000000   \n",
       "max              1.000000     1.000000              1.000000   \n",
       "\n",
       "       yellow_crust_ooze  \n",
       "count        4920.000000  \n",
       "mean            0.023171  \n",
       "std             0.150461  \n",
       "min             0.000000  \n",
       "25%             0.000000  \n",
       "50%             0.000000  \n",
       "75%             0.000000  \n",
       "max             1.000000  \n",
       "\n",
       "[8 rows x 132 columns]"
      ]
     },
     "execution_count": 6,
     "metadata": {},
     "output_type": "execute_result"
    }
   ],
   "source": [
    "df.describe()"
   ]
  },
  {
   "cell_type": "code",
   "execution_count": 7,
   "metadata": {
    "execution": {
     "iopub.execute_input": "2024-04-06T00:13:54.509659Z",
     "iopub.status.busy": "2024-04-06T00:13:54.509224Z",
     "iopub.status.idle": "2024-04-06T00:13:54.518147Z",
     "shell.execute_reply": "2024-04-06T00:13:54.516717Z",
     "shell.execute_reply.started": "2024-04-06T00:13:54.509627Z"
    }
   },
   "outputs": [
    {
     "data": {
      "text/plain": [
       "654360"
      ]
     },
     "execution_count": 7,
     "metadata": {},
     "output_type": "execute_result"
    }
   ],
   "source": [
    "df.size"
   ]
  },
  {
   "cell_type": "code",
   "execution_count": 8,
   "metadata": {
    "execution": {
     "iopub.execute_input": "2024-04-06T00:13:54.915426Z",
     "iopub.status.busy": "2024-04-06T00:13:54.914992Z",
     "iopub.status.idle": "2024-04-06T00:13:54.925288Z",
     "shell.execute_reply": "2024-04-06T00:13:54.923902Z",
     "shell.execute_reply.started": "2024-04-06T00:13:54.915393Z"
    }
   },
   "outputs": [
    {
     "data": {
      "text/plain": [
       "(4920, 133)"
      ]
     },
     "execution_count": 8,
     "metadata": {},
     "output_type": "execute_result"
    }
   ],
   "source": [
    "df.shape"
   ]
  },
  {
   "cell_type": "code",
   "execution_count": 9,
   "metadata": {
    "execution": {
     "iopub.execute_input": "2024-04-06T00:13:55.181618Z",
     "iopub.status.busy": "2024-04-06T00:13:55.181162Z",
     "iopub.status.idle": "2024-04-06T00:13:55.190391Z",
     "shell.execute_reply": "2024-04-06T00:13:55.188989Z",
     "shell.execute_reply.started": "2024-04-06T00:13:55.181586Z"
    }
   },
   "outputs": [
    {
     "data": {
      "text/plain": [
       "Index(['itching', 'skin_rash', 'nodal_skin_eruptions', 'continuous_sneezing',\n",
       "       'shivering', 'chills', 'joint_pain', 'stomach_pain', 'acidity',\n",
       "       'ulcers_on_tongue',\n",
       "       ...\n",
       "       'blackheads', 'scurring', 'skin_peeling', 'silver_like_dusting',\n",
       "       'small_dents_in_nails', 'inflammatory_nails', 'blister',\n",
       "       'red_sore_around_nose', 'yellow_crust_ooze', 'prognosis'],\n",
       "      dtype='object', length=133)"
      ]
     },
     "execution_count": 9,
     "metadata": {},
     "output_type": "execute_result"
    }
   ],
   "source": [
    "df.columns"
   ]
  },
  {
   "cell_type": "code",
   "execution_count": 10,
   "metadata": {
    "execution": {
     "iopub.execute_input": "2024-04-06T00:13:55.429930Z",
     "iopub.status.busy": "2024-04-06T00:13:55.429536Z",
     "iopub.status.idle": "2024-04-06T00:13:55.439253Z",
     "shell.execute_reply": "2024-04-06T00:13:55.437826Z",
     "shell.execute_reply.started": "2024-04-06T00:13:55.429900Z"
    }
   },
   "outputs": [
    {
     "data": {
      "text/plain": [
       "array(['Fungal infection', 'Allergy', 'GERD', 'Chronic cholestasis',\n",
       "       'Drug Reaction', 'Peptic ulcer diseae', 'AIDS', 'Diabetes ',\n",
       "       'Gastroenteritis', 'Bronchial Asthma', 'Hypertension ', 'Migraine',\n",
       "       'Cervical spondylosis', 'Paralysis (brain hemorrhage)', 'Jaundice',\n",
       "       'Malaria', 'Chicken pox', 'Dengue', 'Typhoid', 'hepatitis A',\n",
       "       'Hepatitis B', 'Hepatitis C', 'Hepatitis D', 'Hepatitis E',\n",
       "       'Alcoholic hepatitis', 'Tuberculosis', 'Common Cold', 'Pneumonia',\n",
       "       'Dimorphic hemmorhoids(piles)', 'Heart attack', 'Varicose veins',\n",
       "       'Hypothyroidism', 'Hyperthyroidism', 'Hypoglycemia',\n",
       "       'Osteoarthristis', 'Arthritis',\n",
       "       '(vertigo) Paroymsal  Positional Vertigo', 'Acne',\n",
       "       'Urinary tract infection', 'Psoriasis', 'Impetigo'], dtype=object)"
      ]
     },
     "execution_count": 10,
     "metadata": {},
     "output_type": "execute_result"
    }
   ],
   "source": [
    "df['prognosis'].unique()"
   ]
  },
  {
   "cell_type": "code",
   "execution_count": 11,
   "metadata": {
    "execution": {
     "iopub.execute_input": "2024-04-06T00:13:55.662647Z",
     "iopub.status.busy": "2024-04-06T00:13:55.662195Z",
     "iopub.status.idle": "2024-04-06T00:13:55.672873Z",
     "shell.execute_reply": "2024-04-06T00:13:55.671173Z",
     "shell.execute_reply.started": "2024-04-06T00:13:55.662613Z"
    }
   },
   "outputs": [
    {
     "data": {
      "text/plain": [
       "41"
      ]
     },
     "execution_count": 11,
     "metadata": {},
     "output_type": "execute_result"
    }
   ],
   "source": [
    "len(df['prognosis'].unique())"
   ]
  },
  {
   "cell_type": "code",
   "execution_count": 12,
   "metadata": {
    "execution": {
     "iopub.execute_input": "2024-04-06T00:13:55.906900Z",
     "iopub.status.busy": "2024-04-06T00:13:55.906482Z",
     "iopub.status.idle": "2024-04-06T00:13:55.916418Z",
     "shell.execute_reply": "2024-04-06T00:13:55.915189Z",
     "shell.execute_reply.started": "2024-04-06T00:13:55.906861Z"
    }
   },
   "outputs": [],
   "source": [
    "X=df.drop(\"prognosis\", axis=1)\n",
    "y=df['prognosis']"
   ]
  },
  {
   "cell_type": "code",
   "execution_count": 13,
   "metadata": {
    "execution": {
     "iopub.execute_input": "2024-04-06T00:13:56.178134Z",
     "iopub.status.busy": "2024-04-06T00:13:56.177462Z",
     "iopub.status.idle": "2024-04-06T00:13:56.208710Z",
     "shell.execute_reply": "2024-04-06T00:13:56.207232Z",
     "shell.execute_reply.started": "2024-04-06T00:13:56.178077Z"
    }
   },
   "outputs": [
    {
     "data": {
      "text/html": [
       "<div>\n",
       "<style scoped>\n",
       "    .dataframe tbody tr th:only-of-type {\n",
       "        vertical-align: middle;\n",
       "    }\n",
       "\n",
       "    .dataframe tbody tr th {\n",
       "        vertical-align: top;\n",
       "    }\n",
       "\n",
       "    .dataframe thead th {\n",
       "        text-align: right;\n",
       "    }\n",
       "</style>\n",
       "<table border=\"1\" class=\"dataframe\">\n",
       "  <thead>\n",
       "    <tr style=\"text-align: right;\">\n",
       "      <th></th>\n",
       "      <th>itching</th>\n",
       "      <th>skin_rash</th>\n",
       "      <th>nodal_skin_eruptions</th>\n",
       "      <th>continuous_sneezing</th>\n",
       "      <th>shivering</th>\n",
       "      <th>chills</th>\n",
       "      <th>joint_pain</th>\n",
       "      <th>stomach_pain</th>\n",
       "      <th>acidity</th>\n",
       "      <th>ulcers_on_tongue</th>\n",
       "      <th>...</th>\n",
       "      <th>pus_filled_pimples</th>\n",
       "      <th>blackheads</th>\n",
       "      <th>scurring</th>\n",
       "      <th>skin_peeling</th>\n",
       "      <th>silver_like_dusting</th>\n",
       "      <th>small_dents_in_nails</th>\n",
       "      <th>inflammatory_nails</th>\n",
       "      <th>blister</th>\n",
       "      <th>red_sore_around_nose</th>\n",
       "      <th>yellow_crust_ooze</th>\n",
       "    </tr>\n",
       "  </thead>\n",
       "  <tbody>\n",
       "    <tr>\n",
       "      <th>0</th>\n",
       "      <td>1</td>\n",
       "      <td>1</td>\n",
       "      <td>1</td>\n",
       "      <td>0</td>\n",
       "      <td>0</td>\n",
       "      <td>0</td>\n",
       "      <td>0</td>\n",
       "      <td>0</td>\n",
       "      <td>0</td>\n",
       "      <td>0</td>\n",
       "      <td>...</td>\n",
       "      <td>0</td>\n",
       "      <td>0</td>\n",
       "      <td>0</td>\n",
       "      <td>0</td>\n",
       "      <td>0</td>\n",
       "      <td>0</td>\n",
       "      <td>0</td>\n",
       "      <td>0</td>\n",
       "      <td>0</td>\n",
       "      <td>0</td>\n",
       "    </tr>\n",
       "    <tr>\n",
       "      <th>1</th>\n",
       "      <td>0</td>\n",
       "      <td>1</td>\n",
       "      <td>1</td>\n",
       "      <td>0</td>\n",
       "      <td>0</td>\n",
       "      <td>0</td>\n",
       "      <td>0</td>\n",
       "      <td>0</td>\n",
       "      <td>0</td>\n",
       "      <td>0</td>\n",
       "      <td>...</td>\n",
       "      <td>0</td>\n",
       "      <td>0</td>\n",
       "      <td>0</td>\n",
       "      <td>0</td>\n",
       "      <td>0</td>\n",
       "      <td>0</td>\n",
       "      <td>0</td>\n",
       "      <td>0</td>\n",
       "      <td>0</td>\n",
       "      <td>0</td>\n",
       "    </tr>\n",
       "    <tr>\n",
       "      <th>2</th>\n",
       "      <td>1</td>\n",
       "      <td>0</td>\n",
       "      <td>1</td>\n",
       "      <td>0</td>\n",
       "      <td>0</td>\n",
       "      <td>0</td>\n",
       "      <td>0</td>\n",
       "      <td>0</td>\n",
       "      <td>0</td>\n",
       "      <td>0</td>\n",
       "      <td>...</td>\n",
       "      <td>0</td>\n",
       "      <td>0</td>\n",
       "      <td>0</td>\n",
       "      <td>0</td>\n",
       "      <td>0</td>\n",
       "      <td>0</td>\n",
       "      <td>0</td>\n",
       "      <td>0</td>\n",
       "      <td>0</td>\n",
       "      <td>0</td>\n",
       "    </tr>\n",
       "    <tr>\n",
       "      <th>3</th>\n",
       "      <td>1</td>\n",
       "      <td>1</td>\n",
       "      <td>0</td>\n",
       "      <td>0</td>\n",
       "      <td>0</td>\n",
       "      <td>0</td>\n",
       "      <td>0</td>\n",
       "      <td>0</td>\n",
       "      <td>0</td>\n",
       "      <td>0</td>\n",
       "      <td>...</td>\n",
       "      <td>0</td>\n",
       "      <td>0</td>\n",
       "      <td>0</td>\n",
       "      <td>0</td>\n",
       "      <td>0</td>\n",
       "      <td>0</td>\n",
       "      <td>0</td>\n",
       "      <td>0</td>\n",
       "      <td>0</td>\n",
       "      <td>0</td>\n",
       "    </tr>\n",
       "    <tr>\n",
       "      <th>4</th>\n",
       "      <td>1</td>\n",
       "      <td>1</td>\n",
       "      <td>1</td>\n",
       "      <td>0</td>\n",
       "      <td>0</td>\n",
       "      <td>0</td>\n",
       "      <td>0</td>\n",
       "      <td>0</td>\n",
       "      <td>0</td>\n",
       "      <td>0</td>\n",
       "      <td>...</td>\n",
       "      <td>0</td>\n",
       "      <td>0</td>\n",
       "      <td>0</td>\n",
       "      <td>0</td>\n",
       "      <td>0</td>\n",
       "      <td>0</td>\n",
       "      <td>0</td>\n",
       "      <td>0</td>\n",
       "      <td>0</td>\n",
       "      <td>0</td>\n",
       "    </tr>\n",
       "    <tr>\n",
       "      <th>...</th>\n",
       "      <td>...</td>\n",
       "      <td>...</td>\n",
       "      <td>...</td>\n",
       "      <td>...</td>\n",
       "      <td>...</td>\n",
       "      <td>...</td>\n",
       "      <td>...</td>\n",
       "      <td>...</td>\n",
       "      <td>...</td>\n",
       "      <td>...</td>\n",
       "      <td>...</td>\n",
       "      <td>...</td>\n",
       "      <td>...</td>\n",
       "      <td>...</td>\n",
       "      <td>...</td>\n",
       "      <td>...</td>\n",
       "      <td>...</td>\n",
       "      <td>...</td>\n",
       "      <td>...</td>\n",
       "      <td>...</td>\n",
       "      <td>...</td>\n",
       "    </tr>\n",
       "    <tr>\n",
       "      <th>4915</th>\n",
       "      <td>0</td>\n",
       "      <td>0</td>\n",
       "      <td>0</td>\n",
       "      <td>0</td>\n",
       "      <td>0</td>\n",
       "      <td>0</td>\n",
       "      <td>0</td>\n",
       "      <td>0</td>\n",
       "      <td>0</td>\n",
       "      <td>0</td>\n",
       "      <td>...</td>\n",
       "      <td>0</td>\n",
       "      <td>0</td>\n",
       "      <td>0</td>\n",
       "      <td>0</td>\n",
       "      <td>0</td>\n",
       "      <td>0</td>\n",
       "      <td>0</td>\n",
       "      <td>0</td>\n",
       "      <td>0</td>\n",
       "      <td>0</td>\n",
       "    </tr>\n",
       "    <tr>\n",
       "      <th>4916</th>\n",
       "      <td>0</td>\n",
       "      <td>1</td>\n",
       "      <td>0</td>\n",
       "      <td>0</td>\n",
       "      <td>0</td>\n",
       "      <td>0</td>\n",
       "      <td>0</td>\n",
       "      <td>0</td>\n",
       "      <td>0</td>\n",
       "      <td>0</td>\n",
       "      <td>...</td>\n",
       "      <td>1</td>\n",
       "      <td>1</td>\n",
       "      <td>1</td>\n",
       "      <td>0</td>\n",
       "      <td>0</td>\n",
       "      <td>0</td>\n",
       "      <td>0</td>\n",
       "      <td>0</td>\n",
       "      <td>0</td>\n",
       "      <td>0</td>\n",
       "    </tr>\n",
       "    <tr>\n",
       "      <th>4917</th>\n",
       "      <td>0</td>\n",
       "      <td>0</td>\n",
       "      <td>0</td>\n",
       "      <td>0</td>\n",
       "      <td>0</td>\n",
       "      <td>0</td>\n",
       "      <td>0</td>\n",
       "      <td>0</td>\n",
       "      <td>0</td>\n",
       "      <td>0</td>\n",
       "      <td>...</td>\n",
       "      <td>0</td>\n",
       "      <td>0</td>\n",
       "      <td>0</td>\n",
       "      <td>0</td>\n",
       "      <td>0</td>\n",
       "      <td>0</td>\n",
       "      <td>0</td>\n",
       "      <td>0</td>\n",
       "      <td>0</td>\n",
       "      <td>0</td>\n",
       "    </tr>\n",
       "    <tr>\n",
       "      <th>4918</th>\n",
       "      <td>0</td>\n",
       "      <td>1</td>\n",
       "      <td>0</td>\n",
       "      <td>0</td>\n",
       "      <td>0</td>\n",
       "      <td>0</td>\n",
       "      <td>1</td>\n",
       "      <td>0</td>\n",
       "      <td>0</td>\n",
       "      <td>0</td>\n",
       "      <td>...</td>\n",
       "      <td>0</td>\n",
       "      <td>0</td>\n",
       "      <td>0</td>\n",
       "      <td>1</td>\n",
       "      <td>1</td>\n",
       "      <td>1</td>\n",
       "      <td>1</td>\n",
       "      <td>0</td>\n",
       "      <td>0</td>\n",
       "      <td>0</td>\n",
       "    </tr>\n",
       "    <tr>\n",
       "      <th>4919</th>\n",
       "      <td>0</td>\n",
       "      <td>1</td>\n",
       "      <td>0</td>\n",
       "      <td>0</td>\n",
       "      <td>0</td>\n",
       "      <td>0</td>\n",
       "      <td>0</td>\n",
       "      <td>0</td>\n",
       "      <td>0</td>\n",
       "      <td>0</td>\n",
       "      <td>...</td>\n",
       "      <td>0</td>\n",
       "      <td>0</td>\n",
       "      <td>0</td>\n",
       "      <td>0</td>\n",
       "      <td>0</td>\n",
       "      <td>0</td>\n",
       "      <td>0</td>\n",
       "      <td>1</td>\n",
       "      <td>1</td>\n",
       "      <td>1</td>\n",
       "    </tr>\n",
       "  </tbody>\n",
       "</table>\n",
       "<p>4920 rows × 132 columns</p>\n",
       "</div>"
      ],
      "text/plain": [
       "      itching  skin_rash  nodal_skin_eruptions  continuous_sneezing  \\\n",
       "0           1          1                     1                    0   \n",
       "1           0          1                     1                    0   \n",
       "2           1          0                     1                    0   \n",
       "3           1          1                     0                    0   \n",
       "4           1          1                     1                    0   \n",
       "...       ...        ...                   ...                  ...   \n",
       "4915        0          0                     0                    0   \n",
       "4916        0          1                     0                    0   \n",
       "4917        0          0                     0                    0   \n",
       "4918        0          1                     0                    0   \n",
       "4919        0          1                     0                    0   \n",
       "\n",
       "      shivering  chills  joint_pain  stomach_pain  acidity  ulcers_on_tongue  \\\n",
       "0             0       0           0             0        0                 0   \n",
       "1             0       0           0             0        0                 0   \n",
       "2             0       0           0             0        0                 0   \n",
       "3             0       0           0             0        0                 0   \n",
       "4             0       0           0             0        0                 0   \n",
       "...         ...     ...         ...           ...      ...               ...   \n",
       "4915          0       0           0             0        0                 0   \n",
       "4916          0       0           0             0        0                 0   \n",
       "4917          0       0           0             0        0                 0   \n",
       "4918          0       0           1             0        0                 0   \n",
       "4919          0       0           0             0        0                 0   \n",
       "\n",
       "      ...  pus_filled_pimples  blackheads  scurring  skin_peeling  \\\n",
       "0     ...                   0           0         0             0   \n",
       "1     ...                   0           0         0             0   \n",
       "2     ...                   0           0         0             0   \n",
       "3     ...                   0           0         0             0   \n",
       "4     ...                   0           0         0             0   \n",
       "...   ...                 ...         ...       ...           ...   \n",
       "4915  ...                   0           0         0             0   \n",
       "4916  ...                   1           1         1             0   \n",
       "4917  ...                   0           0         0             0   \n",
       "4918  ...                   0           0         0             1   \n",
       "4919  ...                   0           0         0             0   \n",
       "\n",
       "      silver_like_dusting  small_dents_in_nails  inflammatory_nails  blister  \\\n",
       "0                       0                     0                   0        0   \n",
       "1                       0                     0                   0        0   \n",
       "2                       0                     0                   0        0   \n",
       "3                       0                     0                   0        0   \n",
       "4                       0                     0                   0        0   \n",
       "...                   ...                   ...                 ...      ...   \n",
       "4915                    0                     0                   0        0   \n",
       "4916                    0                     0                   0        0   \n",
       "4917                    0                     0                   0        0   \n",
       "4918                    1                     1                   1        0   \n",
       "4919                    0                     0                   0        1   \n",
       "\n",
       "      red_sore_around_nose  yellow_crust_ooze  \n",
       "0                        0                  0  \n",
       "1                        0                  0  \n",
       "2                        0                  0  \n",
       "3                        0                  0  \n",
       "4                        0                  0  \n",
       "...                    ...                ...  \n",
       "4915                     0                  0  \n",
       "4916                     0                  0  \n",
       "4917                     0                  0  \n",
       "4918                     0                  0  \n",
       "4919                     1                  1  \n",
       "\n",
       "[4920 rows x 132 columns]"
      ]
     },
     "execution_count": 13,
     "metadata": {},
     "output_type": "execute_result"
    }
   ],
   "source": [
    "X"
   ]
  },
  {
   "cell_type": "code",
   "execution_count": 14,
   "metadata": {
    "execution": {
     "iopub.execute_input": "2024-04-06T00:13:56.419040Z",
     "iopub.status.busy": "2024-04-06T00:13:56.418550Z",
     "iopub.status.idle": "2024-04-06T00:13:56.429897Z",
     "shell.execute_reply": "2024-04-06T00:13:56.428543Z",
     "shell.execute_reply.started": "2024-04-06T00:13:56.419005Z"
    }
   },
   "outputs": [
    {
     "data": {
      "text/plain": [
       "0                              Fungal infection\n",
       "1                              Fungal infection\n",
       "2                              Fungal infection\n",
       "3                              Fungal infection\n",
       "4                              Fungal infection\n",
       "                         ...                   \n",
       "4915    (vertigo) Paroymsal  Positional Vertigo\n",
       "4916                                       Acne\n",
       "4917                    Urinary tract infection\n",
       "4918                                  Psoriasis\n",
       "4919                                   Impetigo\n",
       "Name: prognosis, Length: 4920, dtype: object"
      ]
     },
     "execution_count": 14,
     "metadata": {},
     "output_type": "execute_result"
    }
   ],
   "source": [
    "y"
   ]
  },
  {
   "cell_type": "code",
   "execution_count": 15,
   "metadata": {
    "execution": {
     "iopub.execute_input": "2024-04-06T00:13:56.623425Z",
     "iopub.status.busy": "2024-04-06T00:13:56.622235Z",
     "iopub.status.idle": "2024-04-06T00:13:56.640662Z",
     "shell.execute_reply": "2024-04-06T00:13:56.638834Z",
     "shell.execute_reply.started": "2024-04-06T00:13:56.623383Z"
    }
   },
   "outputs": [],
   "source": [
    "#split data\n",
    "x_train,x_test,y_train,y_test=train_test_split(X,y,test_size=0.2,random_state=0 )"
   ]
  },
  {
   "cell_type": "code",
   "execution_count": 16,
   "metadata": {
    "execution": {
     "iopub.execute_input": "2024-04-06T00:13:56.909195Z",
     "iopub.status.busy": "2024-04-06T00:13:56.908809Z",
     "iopub.status.idle": "2024-04-06T00:13:56.918807Z",
     "shell.execute_reply": "2024-04-06T00:13:56.917787Z",
     "shell.execute_reply.started": "2024-04-06T00:13:56.909167Z"
    }
   },
   "outputs": [
    {
     "data": {
      "text/plain": [
       "(3936, 132)"
      ]
     },
     "execution_count": 16,
     "metadata": {},
     "output_type": "execute_result"
    }
   ],
   "source": [
    "x_train.shape"
   ]
  },
  {
   "cell_type": "code",
   "execution_count": 17,
   "metadata": {
    "execution": {
     "iopub.execute_input": "2024-04-06T00:13:57.165269Z",
     "iopub.status.busy": "2024-04-06T00:13:57.163742Z",
     "iopub.status.idle": "2024-04-06T00:13:57.174674Z",
     "shell.execute_reply": "2024-04-06T00:13:57.173046Z",
     "shell.execute_reply.started": "2024-04-06T00:13:57.165220Z"
    }
   },
   "outputs": [
    {
     "data": {
      "text/plain": [
       "(3936,)"
      ]
     },
     "execution_count": 17,
     "metadata": {},
     "output_type": "execute_result"
    }
   ],
   "source": [
    "y_train.shape"
   ]
  },
  {
   "cell_type": "code",
   "execution_count": 18,
   "metadata": {
    "execution": {
     "iopub.execute_input": "2024-04-06T00:13:57.387455Z",
     "iopub.status.busy": "2024-04-06T00:13:57.386989Z",
     "iopub.status.idle": "2024-04-06T00:13:57.394338Z",
     "shell.execute_reply": "2024-04-06T00:13:57.393519Z",
     "shell.execute_reply.started": "2024-04-06T00:13:57.387407Z"
    }
   },
   "outputs": [
    {
     "data": {
      "text/plain": [
       "(984, 132)"
      ]
     },
     "execution_count": 18,
     "metadata": {},
     "output_type": "execute_result"
    }
   ],
   "source": [
    "x_test.shape"
   ]
  },
  {
   "cell_type": "code",
   "execution_count": 19,
   "metadata": {
    "execution": {
     "iopub.execute_input": "2024-04-06T00:13:57.717314Z",
     "iopub.status.busy": "2024-04-06T00:13:57.716566Z",
     "iopub.status.idle": "2024-04-06T00:13:57.726135Z",
     "shell.execute_reply": "2024-04-06T00:13:57.724808Z",
     "shell.execute_reply.started": "2024-04-06T00:13:57.717265Z"
    }
   },
   "outputs": [
    {
     "data": {
      "text/plain": [
       "(984,)"
      ]
     },
     "execution_count": 19,
     "metadata": {},
     "output_type": "execute_result"
    }
   ],
   "source": [
    "y_test.shape"
   ]
  },
  {
   "cell_type": "code",
   "execution_count": 20,
   "metadata": {
    "execution": {
     "iopub.execute_input": "2024-04-06T00:13:57.987579Z",
     "iopub.status.busy": "2024-04-06T00:13:57.987063Z",
     "iopub.status.idle": "2024-04-06T00:13:57.995292Z",
     "shell.execute_reply": "2024-04-06T00:13:57.994308Z",
     "shell.execute_reply.started": "2024-04-06T00:13:57.987535Z"
    }
   },
   "outputs": [],
   "source": [
    "# Initialize LabelEncoder\n",
    "label_encoder = LabelEncoder()\n",
    "\n",
    "# Fit and transform the target variable\n",
    "y_encoded = label_encoder.fit_transform(y)"
   ]
  },
  {
   "cell_type": "code",
   "execution_count": 21,
   "metadata": {
    "execution": {
     "iopub.execute_input": "2024-04-06T00:13:58.278109Z",
     "iopub.status.busy": "2024-04-06T00:13:58.276629Z",
     "iopub.status.idle": "2024-04-06T00:13:58.286055Z",
     "shell.execute_reply": "2024-04-06T00:13:58.284337Z",
     "shell.execute_reply.started": "2024-04-06T00:13:58.278067Z"
    }
   },
   "outputs": [
    {
     "data": {
      "text/plain": [
       "array([15, 15, 15, ..., 38, 35, 27])"
      ]
     },
     "execution_count": 21,
     "metadata": {},
     "output_type": "execute_result"
    }
   ],
   "source": [
    "y_encoded"
   ]
  },
  {
   "cell_type": "code",
   "execution_count": 22,
   "metadata": {
    "execution": {
     "iopub.execute_input": "2024-04-06T00:13:58.508067Z",
     "iopub.status.busy": "2024-04-06T00:13:58.507581Z",
     "iopub.status.idle": "2024-04-06T00:13:58.520112Z",
     "shell.execute_reply": "2024-04-06T00:13:58.518618Z",
     "shell.execute_reply.started": "2024-04-06T00:13:58.508035Z"
    }
   },
   "outputs": [],
   "source": [
    "#split datax\n",
    "x_train,x_test,y_train,y_test=train_test_split(X,y_encoded,test_size=0.2,random_state=0 )"
   ]
  },
  {
   "cell_type": "markdown",
   "metadata": {},
   "source": [
    "# Logistic Regression "
   ]
  },
  {
   "cell_type": "code",
   "execution_count": 23,
   "metadata": {
    "execution": {
     "iopub.execute_input": "2024-04-06T00:13:59.067818Z",
     "iopub.status.busy": "2024-04-06T00:13:59.067385Z",
     "iopub.status.idle": "2024-04-06T00:14:00.170237Z",
     "shell.execute_reply": "2024-04-06T00:14:00.168523Z",
     "shell.execute_reply.started": "2024-04-06T00:13:59.067787Z"
    }
   },
   "outputs": [
    {
     "name": "stdout",
     "output_type": "stream",
     "text": [
      "Training Accuracy: 1.0\n",
      "Testing Accuracy: 1.0\n",
      "\n",
      "Confusion Matrix:\n",
      "[[18  0  0 ...  0  0  0]\n",
      " [ 0 22  0 ...  0  0  0]\n",
      " [ 0  0 31 ...  0  0  0]\n",
      " ...\n",
      " [ 0  0  0 ... 20  0  0]\n",
      " [ 0  0  0 ...  0 28  0]\n",
      " [ 0  0  0 ...  0  0 24]]\n",
      "\n",
      "Classification Report:\n",
      "              precision    recall  f1-score   support\n",
      "\n",
      "           0       1.00      1.00      1.00        18\n",
      "           1       1.00      1.00      1.00        22\n",
      "           2       1.00      1.00      1.00        31\n",
      "           3       1.00      1.00      1.00        24\n",
      "           4       1.00      1.00      1.00        23\n",
      "           5       1.00      1.00      1.00        23\n",
      "           6       1.00      1.00      1.00        28\n",
      "           7       1.00      1.00      1.00        27\n",
      "           8       1.00      1.00      1.00        21\n",
      "           9       1.00      1.00      1.00        21\n",
      "          10       1.00      1.00      1.00        34\n",
      "          11       1.00      1.00      1.00        18\n",
      "          12       1.00      1.00      1.00        22\n",
      "          13       1.00      1.00      1.00        27\n",
      "          14       1.00      1.00      1.00        27\n",
      "          15       1.00      1.00      1.00        24\n",
      "          16       1.00      1.00      1.00        27\n",
      "          17       1.00      1.00      1.00        26\n",
      "          18       1.00      1.00      1.00        32\n",
      "          19       1.00      1.00      1.00        19\n",
      "          20       1.00      1.00      1.00        17\n",
      "          21       1.00      1.00      1.00        28\n",
      "          22       1.00      1.00      1.00        22\n",
      "          23       1.00      1.00      1.00        20\n",
      "          24       1.00      1.00      1.00        23\n",
      "          25       1.00      1.00      1.00        13\n",
      "          26       1.00      1.00      1.00        23\n",
      "          27       1.00      1.00      1.00        25\n",
      "          28       1.00      1.00      1.00        26\n",
      "          29       1.00      1.00      1.00        25\n",
      "          30       1.00      1.00      1.00        29\n",
      "          31       1.00      1.00      1.00        23\n",
      "          32       1.00      1.00      1.00        30\n",
      "          33       1.00      1.00      1.00        24\n",
      "          34       1.00      1.00      1.00        23\n",
      "          35       1.00      1.00      1.00        18\n",
      "          36       1.00      1.00      1.00        24\n",
      "          37       1.00      1.00      1.00        25\n",
      "          38       1.00      1.00      1.00        20\n",
      "          39       1.00      1.00      1.00        28\n",
      "          40       1.00      1.00      1.00        24\n",
      "\n",
      "    accuracy                           1.00       984\n",
      "   macro avg       1.00      1.00      1.00       984\n",
      "weighted avg       1.00      1.00      1.00       984\n",
      "\n"
     ]
    }
   ],
   "source": [
    "from sklearn.linear_model import LogisticRegression\n",
    "from sklearn.metrics import accuracy_score, confusion_matrix, classification_report\n",
    "# Initialize the Logistic Regression model\n",
    "lr_model = LogisticRegression()\n",
    "\n",
    "# Train the model on the training set\n",
    "lr_model.fit(x_train, y_train)\n",
    "\n",
    "# Make predictions on the training set\n",
    "y_train_pred_lr = lr_model.predict(x_train)\n",
    "# Make predictions on the testing set\n",
    "y_test_pred_lr = lr_model.predict(x_test)\n",
    "\n",
    "# Evaluate the model\n",
    "print(\"Training Accuracy:\", accuracy_score(y_train, y_train_pred_lr))\n",
    "print(\"Testing Accuracy:\", accuracy_score(y_test, y_test_pred_lr))\n",
    "\n",
    "# Display confusion matrix and classification report for testing set\n",
    "print(\"\\nConfusion Matrix:\")\n",
    "print(confusion_matrix(y_test, y_test_pred_lr))\n",
    "\n",
    "print(\"\\nClassification Report:\")\n",
    "print(classification_report(y_test, y_test_pred_lr))\n",
    "\n",
    "\n"
   ]
  },
  {
   "cell_type": "code",
   "execution_count": 24,
   "metadata": {},
   "outputs": [
    {
     "name": "stdout",
     "output_type": "stream",
     "text": [
      "1.0\n"
     ]
    }
   ],
   "source": [
    "from sklearn.model_selection import cross_val_score\n",
    "print(cross_val_score(lr_model,X,y_encoded,cv=5).mean())"
   ]
  },
  {
   "cell_type": "markdown",
   "metadata": {},
   "source": [
    "# Random forest classifier"
   ]
  },
  {
   "cell_type": "code",
   "execution_count": 25,
   "metadata": {
    "execution": {
     "iopub.execute_input": "2024-04-06T00:14:00.185123Z",
     "iopub.status.busy": "2024-04-06T00:14:00.179386Z",
     "iopub.status.idle": "2024-04-06T00:14:01.100915Z",
     "shell.execute_reply": "2024-04-06T00:14:01.100024Z",
     "shell.execute_reply.started": "2024-04-06T00:14:00.185035Z"
    }
   },
   "outputs": [
    {
     "name": "stdout",
     "output_type": "stream",
     "text": [
      "Training Accuracy: 1.0\n",
      "Testing Accuracy: 1.0\n",
      "\n",
      "Confusion Matrix:\n",
      "[[18  0  0 ...  0  0  0]\n",
      " [ 0 22  0 ...  0  0  0]\n",
      " [ 0  0 31 ...  0  0  0]\n",
      " ...\n",
      " [ 0  0  0 ... 20  0  0]\n",
      " [ 0  0  0 ...  0 28  0]\n",
      " [ 0  0  0 ...  0  0 24]]\n",
      "\n",
      "Classification Report:\n",
      "              precision    recall  f1-score   support\n",
      "\n",
      "           0       1.00      1.00      1.00        18\n",
      "           1       1.00      1.00      1.00        22\n",
      "           2       1.00      1.00      1.00        31\n",
      "           3       1.00      1.00      1.00        24\n",
      "           4       1.00      1.00      1.00        23\n",
      "           5       1.00      1.00      1.00        23\n",
      "           6       1.00      1.00      1.00        28\n",
      "           7       1.00      1.00      1.00        27\n",
      "           8       1.00      1.00      1.00        21\n",
      "           9       1.00      1.00      1.00        21\n",
      "          10       1.00      1.00      1.00        34\n",
      "          11       1.00      1.00      1.00        18\n",
      "          12       1.00      1.00      1.00        22\n",
      "          13       1.00      1.00      1.00        27\n",
      "          14       1.00      1.00      1.00        27\n",
      "          15       1.00      1.00      1.00        24\n",
      "          16       1.00      1.00      1.00        27\n",
      "          17       1.00      1.00      1.00        26\n",
      "          18       1.00      1.00      1.00        32\n",
      "          19       1.00      1.00      1.00        19\n",
      "          20       1.00      1.00      1.00        17\n",
      "          21       1.00      1.00      1.00        28\n",
      "          22       1.00      1.00      1.00        22\n",
      "          23       1.00      1.00      1.00        20\n",
      "          24       1.00      1.00      1.00        23\n",
      "          25       1.00      1.00      1.00        13\n",
      "          26       1.00      1.00      1.00        23\n",
      "          27       1.00      1.00      1.00        25\n",
      "          28       1.00      1.00      1.00        26\n",
      "          29       1.00      1.00      1.00        25\n",
      "          30       1.00      1.00      1.00        29\n",
      "          31       1.00      1.00      1.00        23\n",
      "          32       1.00      1.00      1.00        30\n",
      "          33       1.00      1.00      1.00        24\n",
      "          34       1.00      1.00      1.00        23\n",
      "          35       1.00      1.00      1.00        18\n",
      "          36       1.00      1.00      1.00        24\n",
      "          37       1.00      1.00      1.00        25\n",
      "          38       1.00      1.00      1.00        20\n",
      "          39       1.00      1.00      1.00        28\n",
      "          40       1.00      1.00      1.00        24\n",
      "\n",
      "    accuracy                           1.00       984\n",
      "   macro avg       1.00      1.00      1.00       984\n",
      "weighted avg       1.00      1.00      1.00       984\n",
      "\n"
     ]
    }
   ],
   "source": [
    "from sklearn.ensemble import RandomForestClassifier\n",
    "\n",
    "# Initialize the Random Forest model\n",
    "rf_model = RandomForestClassifier()\n",
    "\n",
    "# Train the model on the training set\n",
    "rf_model.fit(x_train, y_train)\n",
    "\n",
    "# Make predictions on the training set\n",
    "y_train_pred_rf = rf_model.predict(x_train)\n",
    "# Make predictions on the testing set\n",
    "y_test_pred_rf = rf_model.predict(x_test)\n",
    "\n",
    "# Evaluate the model\n",
    "print(\"Training Accuracy:\", accuracy_score(y_train, y_train_pred_rf))\n",
    "print(\"Testing Accuracy:\", accuracy_score(y_test, y_test_pred_rf))\n",
    "\n",
    "# Display confusion matrix and classification report for testing set\n",
    "print(\"\\nConfusion Matrix:\")\n",
    "print(confusion_matrix(y_test, y_test_pred_rf))\n",
    "\n",
    "print(\"\\nClassification Report:\")\n",
    "print(classification_report(y_test, y_test_pred_rf))\n"
   ]
  },
  {
   "cell_type": "markdown",
   "metadata": {},
   "source": [
    "# SVC"
   ]
  },
  {
   "cell_type": "code",
   "execution_count": 24,
   "metadata": {
    "execution": {
     "iopub.execute_input": "2024-04-06T00:14:01.102732Z",
     "iopub.status.busy": "2024-04-06T00:14:01.102088Z",
     "iopub.status.idle": "2024-04-06T00:14:01.773972Z",
     "shell.execute_reply": "2024-04-06T00:14:01.772383Z",
     "shell.execute_reply.started": "2024-04-06T00:14:01.102683Z"
    }
   },
   "outputs": [
    {
     "name": "stdout",
     "output_type": "stream",
     "text": [
      "Training Accuracy: 1.0\n",
      "Testing Accuracy: 1.0\n",
      "\n",
      "Confusion Matrix:\n",
      "[[18  0  0 ...  0  0  0]\n",
      " [ 0 22  0 ...  0  0  0]\n",
      " [ 0  0 31 ...  0  0  0]\n",
      " ...\n",
      " [ 0  0  0 ... 20  0  0]\n",
      " [ 0  0  0 ...  0 28  0]\n",
      " [ 0  0  0 ...  0  0 24]]\n",
      "\n",
      "Classification Report:\n",
      "              precision    recall  f1-score   support\n",
      "\n",
      "           0       1.00      1.00      1.00        18\n",
      "           1       1.00      1.00      1.00        22\n",
      "           2       1.00      1.00      1.00        31\n",
      "           3       1.00      1.00      1.00        24\n",
      "           4       1.00      1.00      1.00        23\n",
      "           5       1.00      1.00      1.00        23\n",
      "           6       1.00      1.00      1.00        28\n",
      "           7       1.00      1.00      1.00        27\n",
      "           8       1.00      1.00      1.00        21\n",
      "           9       1.00      1.00      1.00        21\n",
      "          10       1.00      1.00      1.00        34\n",
      "          11       1.00      1.00      1.00        18\n",
      "          12       1.00      1.00      1.00        22\n",
      "          13       1.00      1.00      1.00        27\n",
      "          14       1.00      1.00      1.00        27\n",
      "          15       1.00      1.00      1.00        24\n",
      "          16       1.00      1.00      1.00        27\n",
      "          17       1.00      1.00      1.00        26\n",
      "          18       1.00      1.00      1.00        32\n",
      "          19       1.00      1.00      1.00        19\n",
      "          20       1.00      1.00      1.00        17\n",
      "          21       1.00      1.00      1.00        28\n",
      "          22       1.00      1.00      1.00        22\n",
      "          23       1.00      1.00      1.00        20\n",
      "          24       1.00      1.00      1.00        23\n",
      "          25       1.00      1.00      1.00        13\n",
      "          26       1.00      1.00      1.00        23\n",
      "          27       1.00      1.00      1.00        25\n",
      "          28       1.00      1.00      1.00        26\n",
      "          29       1.00      1.00      1.00        25\n",
      "          30       1.00      1.00      1.00        29\n",
      "          31       1.00      1.00      1.00        23\n",
      "          32       1.00      1.00      1.00        30\n",
      "          33       1.00      1.00      1.00        24\n",
      "          34       1.00      1.00      1.00        23\n",
      "          35       1.00      1.00      1.00        18\n",
      "          36       1.00      1.00      1.00        24\n",
      "          37       1.00      1.00      1.00        25\n",
      "          38       1.00      1.00      1.00        20\n",
      "          39       1.00      1.00      1.00        28\n",
      "          40       1.00      1.00      1.00        24\n",
      "\n",
      "    accuracy                           1.00       984\n",
      "   macro avg       1.00      1.00      1.00       984\n",
      "weighted avg       1.00      1.00      1.00       984\n",
      "\n"
     ]
    }
   ],
   "source": [
    "from sklearn.svm import SVC\n",
    "\n",
    "# Initialize the Support Vector Classifier model\n",
    "svc_model = SVC()\n",
    "\n",
    "# Train the model on the training set\n",
    "svc_model.fit(x_train, y_train)\n",
    "\n",
    "# Make predictions on the training set\n",
    "y_train_pred_svc = svc_model.predict(x_train)\n",
    "# Make predictions on the testing set\n",
    "y_test_pred_svc = svc_model.predict(x_test)\n",
    "\n",
    "# Evaluate the model\n",
    "print(\"Training Accuracy:\", accuracy_score(y_train, y_train_pred_svc))\n",
    "print(\"Testing Accuracy:\", accuracy_score(y_test, y_test_pred_svc))\n",
    "\n",
    "# Display confusion matrix and classification report for testing set\n",
    "print(\"\\nConfusion Matrix:\")\n",
    "print(confusion_matrix(y_test, y_test_pred_svc))\n",
    "\n",
    "print(\"\\nClassification Report:\")\n",
    "print(classification_report(y_test, y_test_pred_svc))"
   ]
  },
  {
   "cell_type": "markdown",
   "metadata": {},
   "source": [
    "# naive bayes"
   ]
  },
  {
   "cell_type": "code",
   "execution_count": 27,
   "metadata": {
    "execution": {
     "iopub.execute_input": "2024-04-06T00:14:01.777110Z",
     "iopub.status.busy": "2024-04-06T00:14:01.776631Z",
     "iopub.status.idle": "2024-04-06T00:14:02.001864Z",
     "shell.execute_reply": "2024-04-06T00:14:02.000160Z",
     "shell.execute_reply.started": "2024-04-06T00:14:01.777079Z"
    }
   },
   "outputs": [
    {
     "name": "stdout",
     "output_type": "stream",
     "text": [
      "Training Accuracy: 1.0\n",
      "Testing Accuracy: 1.0\n",
      "\n",
      "Confusion Matrix:\n",
      "[[18  0  0 ...  0  0  0]\n",
      " [ 0 22  0 ...  0  0  0]\n",
      " [ 0  0 31 ...  0  0  0]\n",
      " ...\n",
      " [ 0  0  0 ... 20  0  0]\n",
      " [ 0  0  0 ...  0 28  0]\n",
      " [ 0  0  0 ...  0  0 24]]\n",
      "\n",
      "Classification Report:\n",
      "              precision    recall  f1-score   support\n",
      "\n",
      "           0       1.00      1.00      1.00        18\n",
      "           1       1.00      1.00      1.00        22\n",
      "           2       1.00      1.00      1.00        31\n",
      "           3       1.00      1.00      1.00        24\n",
      "           4       1.00      1.00      1.00        23\n",
      "           5       1.00      1.00      1.00        23\n",
      "           6       1.00      1.00      1.00        28\n",
      "           7       1.00      1.00      1.00        27\n",
      "           8       1.00      1.00      1.00        21\n",
      "           9       1.00      1.00      1.00        21\n",
      "          10       1.00      1.00      1.00        34\n",
      "          11       1.00      1.00      1.00        18\n",
      "          12       1.00      1.00      1.00        22\n",
      "          13       1.00      1.00      1.00        27\n",
      "          14       1.00      1.00      1.00        27\n",
      "          15       1.00      1.00      1.00        24\n",
      "          16       1.00      1.00      1.00        27\n",
      "          17       1.00      1.00      1.00        26\n",
      "          18       1.00      1.00      1.00        32\n",
      "          19       1.00      1.00      1.00        19\n",
      "          20       1.00      1.00      1.00        17\n",
      "          21       1.00      1.00      1.00        28\n",
      "          22       1.00      1.00      1.00        22\n",
      "          23       1.00      1.00      1.00        20\n",
      "          24       1.00      1.00      1.00        23\n",
      "          25       1.00      1.00      1.00        13\n",
      "          26       1.00      1.00      1.00        23\n",
      "          27       1.00      1.00      1.00        25\n",
      "          28       1.00      1.00      1.00        26\n",
      "          29       1.00      1.00      1.00        25\n",
      "          30       1.00      1.00      1.00        29\n",
      "          31       1.00      1.00      1.00        23\n",
      "          32       1.00      1.00      1.00        30\n",
      "          33       1.00      1.00      1.00        24\n",
      "          34       1.00      1.00      1.00        23\n",
      "          35       1.00      1.00      1.00        18\n",
      "          36       1.00      1.00      1.00        24\n",
      "          37       1.00      1.00      1.00        25\n",
      "          38       1.00      1.00      1.00        20\n",
      "          39       1.00      1.00      1.00        28\n",
      "          40       1.00      1.00      1.00        24\n",
      "\n",
      "    accuracy                           1.00       984\n",
      "   macro avg       1.00      1.00      1.00       984\n",
      "weighted avg       1.00      1.00      1.00       984\n",
      "\n"
     ]
    }
   ],
   "source": [
    "from sklearn.naive_bayes import GaussianNB\n",
    "\n",
    "# Initialize the Gaussian Naive Bayes model\n",
    "nb_model = GaussianNB()\n",
    "\n",
    "# Train the model on the training set\n",
    "nb_model.fit(x_train, y_train)\n",
    "\n",
    "# Make predictions on the training set\n",
    "y_train_pred_nb = nb_model.predict(x_train)\n",
    "# Make predictions on the testing set\n",
    "y_test_pred_nb = nb_model.predict(x_test)\n",
    "\n",
    "# Evaluate the model\n",
    "print(\"Training Accuracy:\", accuracy_score(y_train, y_train_pred_nb))\n",
    "print(\"Testing Accuracy:\", accuracy_score(y_test, y_test_pred_nb))\n",
    "\n",
    "# Display confusion matrix and classification report for testing set\n",
    "print(\"\\nConfusion Matrix:\")\n",
    "print(confusion_matrix(y_test, y_test_pred_nb))\n",
    "\n",
    "print(\"\\nClassification Report:\")\n",
    "print(classification_report(y_test, y_test_pred_nb))\n"
   ]
  },
  {
   "cell_type": "markdown",
   "metadata": {},
   "source": [
    "# GradientBoostingClassifier"
   ]
  },
  {
   "cell_type": "code",
   "execution_count": 28,
   "metadata": {
    "execution": {
     "iopub.execute_input": "2024-04-06T00:14:02.003758Z",
     "iopub.status.busy": "2024-04-06T00:14:02.003381Z",
     "iopub.status.idle": "2024-04-06T00:14:46.261658Z",
     "shell.execute_reply": "2024-04-06T00:14:46.260061Z",
     "shell.execute_reply.started": "2024-04-06T00:14:02.003726Z"
    }
   },
   "outputs": [
    {
     "name": "stdout",
     "output_type": "stream",
     "text": [
      "Training Accuracy: 1.0\n",
      "Testing Accuracy: 1.0\n",
      "\n",
      "Confusion Matrix:\n",
      "[[18  0  0 ...  0  0  0]\n",
      " [ 0 22  0 ...  0  0  0]\n",
      " [ 0  0 31 ...  0  0  0]\n",
      " ...\n",
      " [ 0  0  0 ... 20  0  0]\n",
      " [ 0  0  0 ...  0 28  0]\n",
      " [ 0  0  0 ...  0  0 24]]\n",
      "\n",
      "Classification Report:\n",
      "              precision    recall  f1-score   support\n",
      "\n",
      "           0       1.00      1.00      1.00        18\n",
      "           1       1.00      1.00      1.00        22\n",
      "           2       1.00      1.00      1.00        31\n",
      "           3       1.00      1.00      1.00        24\n",
      "           4       1.00      1.00      1.00        23\n",
      "           5       1.00      1.00      1.00        23\n",
      "           6       1.00      1.00      1.00        28\n",
      "           7       1.00      1.00      1.00        27\n",
      "           8       1.00      1.00      1.00        21\n",
      "           9       1.00      1.00      1.00        21\n",
      "          10       1.00      1.00      1.00        34\n",
      "          11       1.00      1.00      1.00        18\n",
      "          12       1.00      1.00      1.00        22\n",
      "          13       1.00      1.00      1.00        27\n",
      "          14       1.00      1.00      1.00        27\n",
      "          15       1.00      1.00      1.00        24\n",
      "          16       1.00      1.00      1.00        27\n",
      "          17       1.00      1.00      1.00        26\n",
      "          18       1.00      1.00      1.00        32\n",
      "          19       1.00      1.00      1.00        19\n",
      "          20       1.00      1.00      1.00        17\n",
      "          21       1.00      1.00      1.00        28\n",
      "          22       1.00      1.00      1.00        22\n",
      "          23       1.00      1.00      1.00        20\n",
      "          24       1.00      1.00      1.00        23\n",
      "          25       1.00      1.00      1.00        13\n",
      "          26       1.00      1.00      1.00        23\n",
      "          27       1.00      1.00      1.00        25\n",
      "          28       1.00      1.00      1.00        26\n",
      "          29       1.00      1.00      1.00        25\n",
      "          30       1.00      1.00      1.00        29\n",
      "          31       1.00      1.00      1.00        23\n",
      "          32       1.00      1.00      1.00        30\n",
      "          33       1.00      1.00      1.00        24\n",
      "          34       1.00      1.00      1.00        23\n",
      "          35       1.00      1.00      1.00        18\n",
      "          36       1.00      1.00      1.00        24\n",
      "          37       1.00      1.00      1.00        25\n",
      "          38       1.00      1.00      1.00        20\n",
      "          39       1.00      1.00      1.00        28\n",
      "          40       1.00      1.00      1.00        24\n",
      "\n",
      "    accuracy                           1.00       984\n",
      "   macro avg       1.00      1.00      1.00       984\n",
      "weighted avg       1.00      1.00      1.00       984\n",
      "\n"
     ]
    }
   ],
   "source": [
    "from sklearn.ensemble import GradientBoostingClassifier\n",
    "\n",
    "# Initialize the Gradient Boosting Classifier model\n",
    "gb_model = GradientBoostingClassifier()\n",
    "\n",
    "# Train the model on the training set\n",
    "gb_model.fit(x_train, y_train)\n",
    "\n",
    "# Make predictions on the training set\n",
    "y_train_pred_gb = gb_model.predict(x_train)\n",
    "# Make predictions on the testing set\n",
    "y_test_pred_gb = gb_model.predict(x_test)\n",
    "\n",
    "# Evaluate the model\n",
    "print(\"Training Accuracy:\", accuracy_score(y_train, y_train_pred_gb))\n",
    "print(\"Testing Accuracy:\", accuracy_score(y_test, y_test_pred_gb))\n",
    "\n",
    "# Display confusion matrix and classification report for testing set\n",
    "print(\"\\nConfusion Matrix:\")\n",
    "print(confusion_matrix(y_test, y_test_pred_gb))\n",
    "\n",
    "print(\"\\nClassification Report:\")\n",
    "print(classification_report(y_test, y_test_pred_gb))\n"
   ]
  },
  {
   "cell_type": "markdown",
   "metadata": {},
   "source": [
    "# Model comparison"
   ]
  },
  {
   "cell_type": "code",
   "execution_count": 30,
   "metadata": {
    "execution": {
     "iopub.execute_input": "2024-04-06T00:14:46.264357Z",
     "iopub.status.busy": "2024-04-06T00:14:46.263519Z",
     "iopub.status.idle": "2024-04-06T00:14:46.572758Z",
     "shell.execute_reply": "2024-04-06T00:14:46.571167Z",
     "shell.execute_reply.started": "2024-04-06T00:14:46.264320Z"
    }
   },
   "outputs": [
    {
     "name": "stdout",
     "output_type": "stream",
     "text": [
      "Logistic Regression Accuracy: 1.0\n",
      "Random Forest Accuracy: 1.0\n",
      "Support Vector Classifier Accuracy: 1.0\n",
      "Naive Bayes Accuracy: 1.0\n",
      "Gradient Boosting Classifier Accuracy: 1.0\n"
     ]
    }
   ],
   "source": [
    "# Create a dictionary to store models\n",
    "models = {\n",
    "    'Logistic Regression': lr_model,\n",
    "    'Random Forest': rf_model,\n",
    "    'Support Vector Classifier': svc_model,\n",
    "    'Naive Bayes': nb_model,\n",
    "    'Gradient Boosting Classifier': gb_model\n",
    "}\n",
    "\n",
    "# Initialize a dictionary to store accuracies\n",
    "accuracies = {}\n",
    "\n",
    "# Iterate over models\n",
    "for name, model in models.items():\n",
    "    # Make predictions on the testing set\n",
    "    y_pred = model.predict(x_test)\n",
    "    # Calculate accuracy and store it\n",
    "    acc = accuracy_score(y_test, y_pred)\n",
    "    accuracies[name] = acc\n",
    "\n",
    "# Print accuracies\n",
    "for name, acc in accuracies.items():\n",
    "    print(f'{name} Accuracy:', acc)"
   ]
  },
  {
   "cell_type": "markdown",
   "metadata": {},
   "source": [
    "# Saving model"
   ]
  },
  {
   "cell_type": "code",
   "execution_count": 25,
   "metadata": {
    "execution": {
     "iopub.execute_input": "2024-04-06T00:14:46.578110Z",
     "iopub.status.busy": "2024-04-06T00:14:46.577666Z",
     "iopub.status.idle": "2024-04-06T00:14:46.587754Z",
     "shell.execute_reply": "2024-04-06T00:14:46.586298Z",
     "shell.execute_reply.started": "2024-04-06T00:14:46.578075Z"
    }
   },
   "outputs": [
    {
     "name": "stdout",
     "output_type": "stream",
     "text": [
      "SVC model saved successfully.\n"
     ]
    }
   ],
   "source": [
    "import pickle\n",
    "\n",
    "# Save the trained SVC model\n",
    "with open('svc_model.pkl', 'wb') as file:\n",
    "    pickle.dump(svc_model, file)\n",
    "\n",
    "print(\"SVC model saved successfully.\")"
   ]
  },
  {
   "cell_type": "markdown",
   "metadata": {},
   "source": [
    "# loading the model"
   ]
  },
  {
   "cell_type": "code",
   "execution_count": 26,
   "metadata": {
    "execution": {
     "iopub.execute_input": "2024-04-06T00:14:46.590487Z",
     "iopub.status.busy": "2024-04-06T00:14:46.590016Z",
     "iopub.status.idle": "2024-04-06T00:14:46.601166Z",
     "shell.execute_reply": "2024-04-06T00:14:46.599636Z",
     "shell.execute_reply.started": "2024-04-06T00:14:46.590422Z"
    }
   },
   "outputs": [
    {
     "name": "stdout",
     "output_type": "stream",
     "text": [
      "SVC model loaded successfully.\n"
     ]
    }
   ],
   "source": [
    "import pickle\n",
    "\n",
    "# Load the saved SVC model\n",
    "with open('svc_model.pkl', 'rb') as file:\n",
    "    loaded_svc_model = pickle.load(file)\n",
    "\n",
    "print(\"SVC model loaded successfully.\")\n"
   ]
  },
  {
   "cell_type": "code",
   "execution_count": 44,
   "metadata": {},
   "outputs": [
    {
     "name": "stdout",
     "output_type": "stream",
     "text": [
      "SVC()\n"
     ]
    }
   ],
   "source": [
    "import joblib\n",
    "\n",
    "# Load the model\n",
    "svc_model = joblib.load('svc_model.pkl')\n",
    "\n",
    "# Check if the model loads successfully\n",
    "print(svc_model)"
   ]
  },
  {
   "cell_type": "markdown",
   "metadata": {},
   "source": [
    "# Testing the model"
   ]
  },
  {
   "cell_type": "code",
   "execution_count": 33,
   "metadata": {
    "execution": {
     "iopub.execute_input": "2024-04-06T00:14:46.603418Z",
     "iopub.status.busy": "2024-04-06T00:14:46.603013Z",
     "iopub.status.idle": "2024-04-06T00:14:46.617917Z",
     "shell.execute_reply": "2024-04-06T00:14:46.616477Z",
     "shell.execute_reply.started": "2024-04-06T00:14:46.603385Z"
    }
   },
   "outputs": [
    {
     "name": "stdout",
     "output_type": "stream",
     "text": [
      "Predicted Label : [18]\n",
      "Actual Label : 18\n"
     ]
    }
   ],
   "source": [
    "#test 1\n",
    "prediction1 = svc_model.predict(x_test.iloc[[0]])\n",
    "print(\"Predicted Label :\",prediction1)\n",
    "print(\"Actual Label :\",y_test[0])"
   ]
  },
  {
   "cell_type": "code",
   "execution_count": 34,
   "metadata": {
    "execution": {
     "iopub.execute_input": "2024-04-06T00:14:46.619469Z",
     "iopub.status.busy": "2024-04-06T00:14:46.619132Z",
     "iopub.status.idle": "2024-04-06T00:14:46.634897Z",
     "shell.execute_reply": "2024-04-06T00:14:46.633595Z",
     "shell.execute_reply.started": "2024-04-06T00:14:46.619426Z"
    }
   },
   "outputs": [
    {
     "name": "stdout",
     "output_type": "stream",
     "text": [
      "Predicted Label : [38]\n",
      "Actual Label : 38\n"
     ]
    }
   ],
   "source": [
    "#test 2\n",
    "prediction2 = svc_model.predict(x_test.iloc[[10]])\n",
    "print(\"Predicted Label :\",prediction2)\n",
    "print(\"Actual Label :\",y_test[10])"
   ]
  },
  {
   "cell_type": "markdown",
   "metadata": {},
   "source": [
    "### Recommendation System and Prediction "
   ]
  },
  {
   "cell_type": "code",
   "execution_count": 27,
   "metadata": {
    "execution": {
     "iopub.execute_input": "2024-04-06T00:14:46.636786Z",
     "iopub.status.busy": "2024-04-06T00:14:46.636341Z",
     "iopub.status.idle": "2024-04-06T00:14:46.656661Z",
     "shell.execute_reply": "2024-04-06T00:14:46.654535Z",
     "shell.execute_reply.started": "2024-04-06T00:14:46.636747Z"
    }
   },
   "outputs": [],
   "source": [
    "symtoms = pd.read_csv('C:\\\\Users\\\\amitn\\\\Downloads\\\\Dataset for project\\\\Medicine Recomendation\\\\symtoms_df.csv')"
   ]
  },
  {
   "cell_type": "code",
   "execution_count": 28,
   "metadata": {
    "execution": {
     "iopub.execute_input": "2024-04-06T00:14:46.658945Z",
     "iopub.status.busy": "2024-04-06T00:14:46.658549Z",
     "iopub.status.idle": "2024-04-06T00:14:46.673200Z",
     "shell.execute_reply": "2024-04-06T00:14:46.672185Z",
     "shell.execute_reply.started": "2024-04-06T00:14:46.658912Z"
    }
   },
   "outputs": [
    {
     "data": {
      "text/html": [
       "<div>\n",
       "<style scoped>\n",
       "    .dataframe tbody tr th:only-of-type {\n",
       "        vertical-align: middle;\n",
       "    }\n",
       "\n",
       "    .dataframe tbody tr th {\n",
       "        vertical-align: top;\n",
       "    }\n",
       "\n",
       "    .dataframe thead th {\n",
       "        text-align: right;\n",
       "    }\n",
       "</style>\n",
       "<table border=\"1\" class=\"dataframe\">\n",
       "  <thead>\n",
       "    <tr style=\"text-align: right;\">\n",
       "      <th></th>\n",
       "      <th>Unnamed: 0</th>\n",
       "      <th>Disease</th>\n",
       "      <th>Symptom_1</th>\n",
       "      <th>Symptom_2</th>\n",
       "      <th>Symptom_3</th>\n",
       "      <th>Symptom_4</th>\n",
       "    </tr>\n",
       "  </thead>\n",
       "  <tbody>\n",
       "    <tr>\n",
       "      <th>0</th>\n",
       "      <td>0</td>\n",
       "      <td>Fungal infection</td>\n",
       "      <td>itching</td>\n",
       "      <td>skin_rash</td>\n",
       "      <td>nodal_skin_eruptions</td>\n",
       "      <td>dischromic _patches</td>\n",
       "    </tr>\n",
       "    <tr>\n",
       "      <th>1</th>\n",
       "      <td>1</td>\n",
       "      <td>Fungal infection</td>\n",
       "      <td>skin_rash</td>\n",
       "      <td>nodal_skin_eruptions</td>\n",
       "      <td>dischromic _patches</td>\n",
       "      <td>NaN</td>\n",
       "    </tr>\n",
       "    <tr>\n",
       "      <th>2</th>\n",
       "      <td>2</td>\n",
       "      <td>Fungal infection</td>\n",
       "      <td>itching</td>\n",
       "      <td>nodal_skin_eruptions</td>\n",
       "      <td>dischromic _patches</td>\n",
       "      <td>NaN</td>\n",
       "    </tr>\n",
       "    <tr>\n",
       "      <th>3</th>\n",
       "      <td>3</td>\n",
       "      <td>Fungal infection</td>\n",
       "      <td>itching</td>\n",
       "      <td>skin_rash</td>\n",
       "      <td>dischromic _patches</td>\n",
       "      <td>NaN</td>\n",
       "    </tr>\n",
       "    <tr>\n",
       "      <th>4</th>\n",
       "      <td>4</td>\n",
       "      <td>Fungal infection</td>\n",
       "      <td>itching</td>\n",
       "      <td>skin_rash</td>\n",
       "      <td>nodal_skin_eruptions</td>\n",
       "      <td>NaN</td>\n",
       "    </tr>\n",
       "  </tbody>\n",
       "</table>\n",
       "</div>"
      ],
      "text/plain": [
       "   Unnamed: 0           Disease   Symptom_1              Symptom_2  \\\n",
       "0           0  Fungal infection     itching              skin_rash   \n",
       "1           1  Fungal infection   skin_rash   nodal_skin_eruptions   \n",
       "2           2  Fungal infection     itching   nodal_skin_eruptions   \n",
       "3           3  Fungal infection     itching              skin_rash   \n",
       "4           4  Fungal infection     itching              skin_rash   \n",
       "\n",
       "               Symptom_3             Symptom_4  \n",
       "0   nodal_skin_eruptions   dischromic _patches  \n",
       "1    dischromic _patches                   NaN  \n",
       "2    dischromic _patches                   NaN  \n",
       "3    dischromic _patches                   NaN  \n",
       "4   nodal_skin_eruptions                   NaN  "
      ]
     },
     "execution_count": 28,
     "metadata": {},
     "output_type": "execute_result"
    }
   ],
   "source": [
    "symtoms.head()"
   ]
  },
  {
   "cell_type": "code",
   "execution_count": 29,
   "metadata": {
    "execution": {
     "iopub.execute_input": "2024-04-06T00:14:46.675037Z",
     "iopub.status.busy": "2024-04-06T00:14:46.674707Z",
     "iopub.status.idle": "2024-04-06T00:14:46.687459Z",
     "shell.execute_reply": "2024-04-06T00:14:46.686351Z",
     "shell.execute_reply.started": "2024-04-06T00:14:46.675007Z"
    }
   },
   "outputs": [],
   "source": [
    "precautions = pd.read_csv('C:\\\\Users\\\\amitn\\\\Downloads\\\\Dataset for project\\\\Medicine Recomendation\\\\precautions_df.csv')"
   ]
  },
  {
   "cell_type": "code",
   "execution_count": 30,
   "metadata": {
    "execution": {
     "iopub.execute_input": "2024-04-06T00:14:46.693623Z",
     "iopub.status.busy": "2024-04-06T00:14:46.693212Z",
     "iopub.status.idle": "2024-04-06T00:14:46.712220Z",
     "shell.execute_reply": "2024-04-06T00:14:46.710498Z",
     "shell.execute_reply.started": "2024-04-06T00:14:46.693589Z"
    }
   },
   "outputs": [
    {
     "data": {
      "text/html": [
       "<div>\n",
       "<style scoped>\n",
       "    .dataframe tbody tr th:only-of-type {\n",
       "        vertical-align: middle;\n",
       "    }\n",
       "\n",
       "    .dataframe tbody tr th {\n",
       "        vertical-align: top;\n",
       "    }\n",
       "\n",
       "    .dataframe thead th {\n",
       "        text-align: right;\n",
       "    }\n",
       "</style>\n",
       "<table border=\"1\" class=\"dataframe\">\n",
       "  <thead>\n",
       "    <tr style=\"text-align: right;\">\n",
       "      <th></th>\n",
       "      <th>Unnamed: 0</th>\n",
       "      <th>Disease</th>\n",
       "      <th>Precaution_1</th>\n",
       "      <th>Precaution_2</th>\n",
       "      <th>Precaution_3</th>\n",
       "      <th>Precaution_4</th>\n",
       "    </tr>\n",
       "  </thead>\n",
       "  <tbody>\n",
       "    <tr>\n",
       "      <th>0</th>\n",
       "      <td>0</td>\n",
       "      <td>Drug Reaction</td>\n",
       "      <td>stop irritation</td>\n",
       "      <td>consult nearest hospital</td>\n",
       "      <td>stop taking drug</td>\n",
       "      <td>follow up</td>\n",
       "    </tr>\n",
       "    <tr>\n",
       "      <th>1</th>\n",
       "      <td>1</td>\n",
       "      <td>Malaria</td>\n",
       "      <td>Consult nearest hospital</td>\n",
       "      <td>avoid oily food</td>\n",
       "      <td>avoid non veg food</td>\n",
       "      <td>keep mosquitos out</td>\n",
       "    </tr>\n",
       "    <tr>\n",
       "      <th>2</th>\n",
       "      <td>2</td>\n",
       "      <td>Allergy</td>\n",
       "      <td>apply calamine</td>\n",
       "      <td>cover area with bandage</td>\n",
       "      <td>NaN</td>\n",
       "      <td>use ice to compress itching</td>\n",
       "    </tr>\n",
       "    <tr>\n",
       "      <th>3</th>\n",
       "      <td>3</td>\n",
       "      <td>Hypothyroidism</td>\n",
       "      <td>reduce stress</td>\n",
       "      <td>exercise</td>\n",
       "      <td>eat healthy</td>\n",
       "      <td>get proper sleep</td>\n",
       "    </tr>\n",
       "    <tr>\n",
       "      <th>4</th>\n",
       "      <td>4</td>\n",
       "      <td>Psoriasis</td>\n",
       "      <td>wash hands with warm soapy water</td>\n",
       "      <td>stop bleeding using pressure</td>\n",
       "      <td>consult doctor</td>\n",
       "      <td>salt baths</td>\n",
       "    </tr>\n",
       "  </tbody>\n",
       "</table>\n",
       "</div>"
      ],
      "text/plain": [
       "   Unnamed: 0         Disease                      Precaution_1  \\\n",
       "0           0   Drug Reaction                   stop irritation   \n",
       "1           1         Malaria          Consult nearest hospital   \n",
       "2           2         Allergy                    apply calamine   \n",
       "3           3  Hypothyroidism                     reduce stress   \n",
       "4           4       Psoriasis  wash hands with warm soapy water   \n",
       "\n",
       "                   Precaution_2        Precaution_3  \\\n",
       "0      consult nearest hospital    stop taking drug   \n",
       "1               avoid oily food  avoid non veg food   \n",
       "2       cover area with bandage                 NaN   \n",
       "3                      exercise         eat healthy   \n",
       "4  stop bleeding using pressure      consult doctor   \n",
       "\n",
       "                  Precaution_4  \n",
       "0                    follow up  \n",
       "1           keep mosquitos out  \n",
       "2  use ice to compress itching  \n",
       "3             get proper sleep  \n",
       "4                   salt baths  "
      ]
     },
     "execution_count": 30,
     "metadata": {},
     "output_type": "execute_result"
    }
   ],
   "source": [
    "precautions.head()"
   ]
  },
  {
   "cell_type": "code",
   "execution_count": 31,
   "metadata": {
    "execution": {
     "iopub.execute_input": "2024-04-06T00:14:46.715784Z",
     "iopub.status.busy": "2024-04-06T00:14:46.714999Z",
     "iopub.status.idle": "2024-04-06T00:14:46.728238Z",
     "shell.execute_reply": "2024-04-06T00:14:46.726188Z",
     "shell.execute_reply.started": "2024-04-06T00:14:46.715726Z"
    }
   },
   "outputs": [],
   "source": [
    "workout = pd.read_csv('C:\\\\Users\\\\amitn\\\\Downloads\\\\Dataset for project\\\\Medicine Recomendation\\\\workout_df.csv')"
   ]
  },
  {
   "cell_type": "code",
   "execution_count": 32,
   "metadata": {
    "execution": {
     "iopub.execute_input": "2024-04-06T00:14:46.730309Z",
     "iopub.status.busy": "2024-04-06T00:14:46.729718Z",
     "iopub.status.idle": "2024-04-06T00:14:46.751123Z",
     "shell.execute_reply": "2024-04-06T00:14:46.749915Z",
     "shell.execute_reply.started": "2024-04-06T00:14:46.730266Z"
    }
   },
   "outputs": [
    {
     "data": {
      "text/html": [
       "<div>\n",
       "<style scoped>\n",
       "    .dataframe tbody tr th:only-of-type {\n",
       "        vertical-align: middle;\n",
       "    }\n",
       "\n",
       "    .dataframe tbody tr th {\n",
       "        vertical-align: top;\n",
       "    }\n",
       "\n",
       "    .dataframe thead th {\n",
       "        text-align: right;\n",
       "    }\n",
       "</style>\n",
       "<table border=\"1\" class=\"dataframe\">\n",
       "  <thead>\n",
       "    <tr style=\"text-align: right;\">\n",
       "      <th></th>\n",
       "      <th>Unnamed: 0.1</th>\n",
       "      <th>Unnamed: 0</th>\n",
       "      <th>disease</th>\n",
       "      <th>workout</th>\n",
       "    </tr>\n",
       "  </thead>\n",
       "  <tbody>\n",
       "    <tr>\n",
       "      <th>0</th>\n",
       "      <td>0</td>\n",
       "      <td>0</td>\n",
       "      <td>Fungal infection</td>\n",
       "      <td>Avoid sugary foods</td>\n",
       "    </tr>\n",
       "    <tr>\n",
       "      <th>1</th>\n",
       "      <td>1</td>\n",
       "      <td>1</td>\n",
       "      <td>Fungal infection</td>\n",
       "      <td>Consume probiotics</td>\n",
       "    </tr>\n",
       "    <tr>\n",
       "      <th>2</th>\n",
       "      <td>2</td>\n",
       "      <td>2</td>\n",
       "      <td>Fungal infection</td>\n",
       "      <td>Increase intake of garlic</td>\n",
       "    </tr>\n",
       "    <tr>\n",
       "      <th>3</th>\n",
       "      <td>3</td>\n",
       "      <td>3</td>\n",
       "      <td>Fungal infection</td>\n",
       "      <td>Include yogurt in diet</td>\n",
       "    </tr>\n",
       "    <tr>\n",
       "      <th>4</th>\n",
       "      <td>4</td>\n",
       "      <td>4</td>\n",
       "      <td>Fungal infection</td>\n",
       "      <td>Limit processed foods</td>\n",
       "    </tr>\n",
       "  </tbody>\n",
       "</table>\n",
       "</div>"
      ],
      "text/plain": [
       "   Unnamed: 0.1  Unnamed: 0           disease                    workout\n",
       "0             0           0  Fungal infection         Avoid sugary foods\n",
       "1             1           1  Fungal infection         Consume probiotics\n",
       "2             2           2  Fungal infection  Increase intake of garlic\n",
       "3             3           3  Fungal infection     Include yogurt in diet\n",
       "4             4           4  Fungal infection      Limit processed foods"
      ]
     },
     "execution_count": 32,
     "metadata": {},
     "output_type": "execute_result"
    }
   ],
   "source": [
    "workout.head()"
   ]
  },
  {
   "cell_type": "code",
   "execution_count": 33,
   "metadata": {
    "execution": {
     "iopub.execute_input": "2024-04-06T00:14:46.755365Z",
     "iopub.status.busy": "2024-04-06T00:14:46.752804Z",
     "iopub.status.idle": "2024-04-06T00:14:46.765332Z",
     "shell.execute_reply": "2024-04-06T00:14:46.763820Z",
     "shell.execute_reply.started": "2024-04-06T00:14:46.755313Z"
    }
   },
   "outputs": [],
   "source": [
    "description = pd.read_csv('C:\\\\Users\\\\amitn\\\\Downloads\\\\Dataset for project\\\\Medicine Recomendation\\\\description.csv')"
   ]
  },
  {
   "cell_type": "code",
   "execution_count": 34,
   "metadata": {
    "execution": {
     "iopub.execute_input": "2024-04-06T00:14:46.767953Z",
     "iopub.status.busy": "2024-04-06T00:14:46.767518Z",
     "iopub.status.idle": "2024-04-06T00:14:46.789559Z",
     "shell.execute_reply": "2024-04-06T00:14:46.787336Z",
     "shell.execute_reply.started": "2024-04-06T00:14:46.767917Z"
    }
   },
   "outputs": [
    {
     "data": {
      "text/html": [
       "<div>\n",
       "<style scoped>\n",
       "    .dataframe tbody tr th:only-of-type {\n",
       "        vertical-align: middle;\n",
       "    }\n",
       "\n",
       "    .dataframe tbody tr th {\n",
       "        vertical-align: top;\n",
       "    }\n",
       "\n",
       "    .dataframe thead th {\n",
       "        text-align: right;\n",
       "    }\n",
       "</style>\n",
       "<table border=\"1\" class=\"dataframe\">\n",
       "  <thead>\n",
       "    <tr style=\"text-align: right;\">\n",
       "      <th></th>\n",
       "      <th>Disease</th>\n",
       "      <th>Description</th>\n",
       "    </tr>\n",
       "  </thead>\n",
       "  <tbody>\n",
       "    <tr>\n",
       "      <th>0</th>\n",
       "      <td>Fungal infection</td>\n",
       "      <td>Fungal infection is a common skin condition ca...</td>\n",
       "    </tr>\n",
       "    <tr>\n",
       "      <th>1</th>\n",
       "      <td>Allergy</td>\n",
       "      <td>Allergy is an immune system reaction to a subs...</td>\n",
       "    </tr>\n",
       "    <tr>\n",
       "      <th>2</th>\n",
       "      <td>GERD</td>\n",
       "      <td>GERD (Gastroesophageal Reflux Disease) is a di...</td>\n",
       "    </tr>\n",
       "    <tr>\n",
       "      <th>3</th>\n",
       "      <td>Chronic cholestasis</td>\n",
       "      <td>Chronic cholestasis is a condition where bile ...</td>\n",
       "    </tr>\n",
       "    <tr>\n",
       "      <th>4</th>\n",
       "      <td>Drug Reaction</td>\n",
       "      <td>Drug Reaction occurs when the body reacts adve...</td>\n",
       "    </tr>\n",
       "  </tbody>\n",
       "</table>\n",
       "</div>"
      ],
      "text/plain": [
       "               Disease                                        Description\n",
       "0     Fungal infection  Fungal infection is a common skin condition ca...\n",
       "1              Allergy  Allergy is an immune system reaction to a subs...\n",
       "2                 GERD  GERD (Gastroesophageal Reflux Disease) is a di...\n",
       "3  Chronic cholestasis  Chronic cholestasis is a condition where bile ...\n",
       "4        Drug Reaction  Drug Reaction occurs when the body reacts adve..."
      ]
     },
     "execution_count": 34,
     "metadata": {},
     "output_type": "execute_result"
    }
   ],
   "source": [
    "description.head()"
   ]
  },
  {
   "cell_type": "code",
   "execution_count": 35,
   "metadata": {
    "execution": {
     "iopub.execute_input": "2024-04-06T00:14:46.792199Z",
     "iopub.status.busy": "2024-04-06T00:14:46.791691Z",
     "iopub.status.idle": "2024-04-06T00:14:46.802725Z",
     "shell.execute_reply": "2024-04-06T00:14:46.801708Z",
     "shell.execute_reply.started": "2024-04-06T00:14:46.792151Z"
    }
   },
   "outputs": [],
   "source": [
    "medications = pd.read_csv('C:\\\\Users\\\\amitn\\\\Downloads\\\\Dataset for project\\\\Medicine Recomendation\\\\medications.csv')"
   ]
  },
  {
   "cell_type": "code",
   "execution_count": 36,
   "metadata": {
    "execution": {
     "iopub.execute_input": "2024-04-06T00:14:46.804889Z",
     "iopub.status.busy": "2024-04-06T00:14:46.804095Z",
     "iopub.status.idle": "2024-04-06T00:14:46.819224Z",
     "shell.execute_reply": "2024-04-06T00:14:46.817963Z",
     "shell.execute_reply.started": "2024-04-06T00:14:46.804855Z"
    }
   },
   "outputs": [
    {
     "data": {
      "text/html": [
       "<div>\n",
       "<style scoped>\n",
       "    .dataframe tbody tr th:only-of-type {\n",
       "        vertical-align: middle;\n",
       "    }\n",
       "\n",
       "    .dataframe tbody tr th {\n",
       "        vertical-align: top;\n",
       "    }\n",
       "\n",
       "    .dataframe thead th {\n",
       "        text-align: right;\n",
       "    }\n",
       "</style>\n",
       "<table border=\"1\" class=\"dataframe\">\n",
       "  <thead>\n",
       "    <tr style=\"text-align: right;\">\n",
       "      <th></th>\n",
       "      <th>Disease</th>\n",
       "      <th>Medication</th>\n",
       "    </tr>\n",
       "  </thead>\n",
       "  <tbody>\n",
       "    <tr>\n",
       "      <th>0</th>\n",
       "      <td>Fungal infection</td>\n",
       "      <td>['Antifungal Cream', 'Fluconazole', 'Terbinafi...</td>\n",
       "    </tr>\n",
       "    <tr>\n",
       "      <th>1</th>\n",
       "      <td>Allergy</td>\n",
       "      <td>['Antihistamines', 'Decongestants', 'Epinephri...</td>\n",
       "    </tr>\n",
       "    <tr>\n",
       "      <th>2</th>\n",
       "      <td>GERD</td>\n",
       "      <td>['Proton Pump Inhibitors (PPIs)', 'H2 Blockers...</td>\n",
       "    </tr>\n",
       "    <tr>\n",
       "      <th>3</th>\n",
       "      <td>Chronic cholestasis</td>\n",
       "      <td>['Ursodeoxycholic acid', 'Cholestyramine', 'Me...</td>\n",
       "    </tr>\n",
       "    <tr>\n",
       "      <th>4</th>\n",
       "      <td>Drug Reaction</td>\n",
       "      <td>['Antihistamines', 'Epinephrine', 'Corticoster...</td>\n",
       "    </tr>\n",
       "  </tbody>\n",
       "</table>\n",
       "</div>"
      ],
      "text/plain": [
       "               Disease                                         Medication\n",
       "0     Fungal infection  ['Antifungal Cream', 'Fluconazole', 'Terbinafi...\n",
       "1              Allergy  ['Antihistamines', 'Decongestants', 'Epinephri...\n",
       "2                 GERD  ['Proton Pump Inhibitors (PPIs)', 'H2 Blockers...\n",
       "3  Chronic cholestasis  ['Ursodeoxycholic acid', 'Cholestyramine', 'Me...\n",
       "4        Drug Reaction  ['Antihistamines', 'Epinephrine', 'Corticoster..."
      ]
     },
     "execution_count": 36,
     "metadata": {},
     "output_type": "execute_result"
    }
   ],
   "source": [
    "medications.head()"
   ]
  },
  {
   "cell_type": "code",
   "execution_count": 37,
   "metadata": {
    "execution": {
     "iopub.execute_input": "2024-04-06T00:14:46.821567Z",
     "iopub.status.busy": "2024-04-06T00:14:46.821115Z",
     "iopub.status.idle": "2024-04-06T00:14:46.833042Z",
     "shell.execute_reply": "2024-04-06T00:14:46.832008Z",
     "shell.execute_reply.started": "2024-04-06T00:14:46.821521Z"
    }
   },
   "outputs": [],
   "source": [
    "diets = pd.read_csv('C:\\\\Users\\\\amitn\\\\Downloads\\\\Dataset for project\\\\Medicine Recomendation\\\\diets.csv')"
   ]
  },
  {
   "cell_type": "code",
   "execution_count": 38,
   "metadata": {
    "execution": {
     "iopub.execute_input": "2024-04-06T00:14:46.834806Z",
     "iopub.status.busy": "2024-04-06T00:14:46.834390Z",
     "iopub.status.idle": "2024-04-06T00:14:46.848360Z",
     "shell.execute_reply": "2024-04-06T00:14:46.846763Z",
     "shell.execute_reply.started": "2024-04-06T00:14:46.834770Z"
    }
   },
   "outputs": [
    {
     "data": {
      "text/html": [
       "<div>\n",
       "<style scoped>\n",
       "    .dataframe tbody tr th:only-of-type {\n",
       "        vertical-align: middle;\n",
       "    }\n",
       "\n",
       "    .dataframe tbody tr th {\n",
       "        vertical-align: top;\n",
       "    }\n",
       "\n",
       "    .dataframe thead th {\n",
       "        text-align: right;\n",
       "    }\n",
       "</style>\n",
       "<table border=\"1\" class=\"dataframe\">\n",
       "  <thead>\n",
       "    <tr style=\"text-align: right;\">\n",
       "      <th></th>\n",
       "      <th>Disease</th>\n",
       "      <th>Diet</th>\n",
       "    </tr>\n",
       "  </thead>\n",
       "  <tbody>\n",
       "    <tr>\n",
       "      <th>0</th>\n",
       "      <td>Fungal infection</td>\n",
       "      <td>['Antifungal Diet', 'Probiotics', 'Garlic', 'C...</td>\n",
       "    </tr>\n",
       "    <tr>\n",
       "      <th>1</th>\n",
       "      <td>Allergy</td>\n",
       "      <td>['Elimination Diet', 'Omega-3-rich foods', 'Vi...</td>\n",
       "    </tr>\n",
       "    <tr>\n",
       "      <th>2</th>\n",
       "      <td>GERD</td>\n",
       "      <td>['Low-Acid Diet', 'Fiber-rich foods', 'Ginger'...</td>\n",
       "    </tr>\n",
       "    <tr>\n",
       "      <th>3</th>\n",
       "      <td>Chronic cholestasis</td>\n",
       "      <td>['Low-Fat Diet', 'High-Fiber Diet', 'Lean prot...</td>\n",
       "    </tr>\n",
       "    <tr>\n",
       "      <th>4</th>\n",
       "      <td>Drug Reaction</td>\n",
       "      <td>['Antihistamine Diet', 'Omega-3-rich foods', '...</td>\n",
       "    </tr>\n",
       "  </tbody>\n",
       "</table>\n",
       "</div>"
      ],
      "text/plain": [
       "               Disease                                               Diet\n",
       "0     Fungal infection  ['Antifungal Diet', 'Probiotics', 'Garlic', 'C...\n",
       "1              Allergy  ['Elimination Diet', 'Omega-3-rich foods', 'Vi...\n",
       "2                 GERD  ['Low-Acid Diet', 'Fiber-rich foods', 'Ginger'...\n",
       "3  Chronic cholestasis  ['Low-Fat Diet', 'High-Fiber Diet', 'Lean prot...\n",
       "4        Drug Reaction  ['Antihistamine Diet', 'Omega-3-rich foods', '..."
      ]
     },
     "execution_count": 38,
     "metadata": {},
     "output_type": "execute_result"
    }
   ],
   "source": [
    "diets.head()"
   ]
  },
  {
   "cell_type": "markdown",
   "metadata": {},
   "source": [
    "#### build a dictionarnies for symptoms & diseases to Map the predicted value to the corresponding disease OR symptom"
   ]
  },
  {
   "cell_type": "code",
   "execution_count": 39,
   "metadata": {
    "execution": {
     "iopub.execute_input": "2024-04-06T00:14:46.851153Z",
     "iopub.status.busy": "2024-04-06T00:14:46.850513Z",
     "iopub.status.idle": "2024-04-06T00:14:46.875858Z",
     "shell.execute_reply": "2024-04-06T00:14:46.874678Z",
     "shell.execute_reply.started": "2024-04-06T00:14:46.851103Z"
    }
   },
   "outputs": [],
   "source": [
    "symptoms_dict = {'itching': 0, 'skin_rash': 1, 'nodal_skin_eruptions': 2, 'continuous_sneezing': 3, 'shivering': 4, 'chills': 5, 'joint_pain': 6, 'stomach_pain': 7, 'acidity': 8, 'ulcers_on_tongue': 9, 'muscle_wasting': 10, 'vomiting': 11, 'burning_micturition': 12, 'spotting_ urination': 13, 'fatigue': 14, 'weight_gain': 15, 'anxiety': 16, 'cold_hands_and_feets': 17, 'mood_swings': 18, 'weight_loss': 19, 'restlessness': 20, 'lethargy': 21, 'patches_in_throat': 22, 'irregular_sugar_level': 23, 'cough': 24, 'high_fever': 25, 'sunken_eyes': 26, 'breathlessness': 27, 'sweating': 28, 'dehydration': 29, 'indigestion': 30, 'headache': 31, 'yellowish_skin': 32, 'dark_urine': 33, 'nausea': 34, 'loss_of_appetite': 35, 'pain_behind_the_eyes': 36, 'back_pain': 37, 'constipation': 38, 'abdominal_pain': 39, 'diarrhoea': 40, 'mild_fever': 41, 'yellow_urine': 42, 'yellowing_of_eyes': 43, 'acute_liver_failure': 44, 'fluid_overload': 45, 'swelling_of_stomach': 46, 'swelled_lymph_nodes': 47, 'malaise': 48, 'blurred_and_distorted_vision': 49, 'phlegm': 50, 'throat_irritation': 51, 'redness_of_eyes': 52, 'sinus_pressure': 53, 'runny_nose': 54, 'congestion': 55, 'chest_pain': 56, 'weakness_in_limbs': 57, 'fast_heart_rate': 58, 'pain_during_bowel_movements': 59, 'pain_in_anal_region': 60, 'bloody_stool': 61, 'irritation_in_anus': 62, 'neck_pain': 63, 'dizziness': 64, 'cramps': 65, 'bruising': 66, 'obesity': 67, 'swollen_legs': 68, 'swollen_blood_vessels': 69, 'puffy_face_and_eyes': 70, 'enlarged_thyroid': 71, 'brittle_nails': 72, 'swollen_extremeties': 73, 'excessive_hunger': 74, 'extra_marital_contacts': 75, 'drying_and_tingling_lips': 76, 'slurred_speech': 77, 'knee_pain': 78, 'hip_joint_pain': 79, 'muscle_weakness': 80, 'stiff_neck': 81, 'swelling_joints': 82, 'movement_stiffness': 83, 'spinning_movements': 84, 'loss_of_balance': 85, 'unsteadiness': 86, 'weakness_of_one_body_side': 87, 'loss_of_smell': 88, 'bladder_discomfort': 89, 'foul_smell_of urine': 90, 'continuous_feel_of_urine': 91, 'passage_of_gases': 92, 'internal_itching': 93, 'toxic_look_(typhos)': 94, 'depression': 95, 'irritability': 96, 'muscle_pain': 97, 'altered_sensorium': 98, 'red_spots_over_body': 99, 'belly_pain': 100, 'abnormal_menstruation': 101, 'dischromic _patches': 102, 'watering_from_eyes': 103, 'increased_appetite': 104, 'polyuria': 105, 'family_history': 106, 'mucoid_sputum': 107, 'rusty_sputum': 108, 'lack_of_concentration': 109, 'visual_disturbances': 110, 'receiving_blood_transfusion': 111, 'receiving_unsterile_injections': 112, 'coma': 113, 'stomach_bleeding': 114, 'distention_of_abdomen': 115, 'history_of_alcohol_consumption': 116, 'fluid_overload.1': 117, 'blood_in_sputum': 118, 'prominent_veins_on_calf': 119, 'palpitations': 120, 'painful_walking': 121, 'pus_filled_pimples': 122, 'blackheads': 123, 'scurring': 124, 'skin_peeling': 125, 'silver_like_dusting': 126, 'small_dents_in_nails': 127, 'inflammatory_nails': 128, 'blister': 129, 'red_sore_around_nose': 130, 'yellow_crust_ooze': 131}\n",
    "diseases_list = {15: 'Fungal infection', 4: 'Allergy', 16: 'GERD', 9: 'Chronic cholestasis', 14: 'Drug Reaction', 33: 'Peptic ulcer diseae', 1: 'AIDS', 12: 'Diabetes ', 17: 'Gastroenteritis', 6: 'Bronchial Asthma', 23: 'Hypertension ', 30: 'Migraine', 7: 'Cervical spondylosis', 32: 'Paralysis (brain hemorrhage)', 28: 'Jaundice', 29: 'Malaria', 8: 'Chicken pox', 11: 'Dengue', 37: 'Typhoid', 40: 'hepatitis A', 19: 'Hepatitis B', 20: 'Hepatitis C', 21: 'Hepatitis D', 22: 'Hepatitis E', 3: 'Alcoholic hepatitis', 36: 'Tuberculosis', 10: 'Common Cold', 34: 'Pneumonia', 13: 'Dimorphic hemmorhoids(piles)', 18: 'Heart attack', 39: 'Varicose veins', 26: 'Hypothyroidism', 24: 'Hyperthyroidism', 25: 'Hypoglycemia', 31: 'Osteoarthristis', 5: 'Arthritis', 0: '(vertigo) Paroymsal  Positional Vertigo', 2: 'Acne', 38: 'Urinary tract infection', 35: 'Psoriasis', 27: 'Impetigo'}"
   ]
  },
  {
   "cell_type": "code",
   "execution_count": 40,
   "metadata": {
    "execution": {
     "iopub.execute_input": "2024-04-06T00:23:38.717703Z",
     "iopub.status.busy": "2024-04-06T00:23:38.717203Z",
     "iopub.status.idle": "2024-04-06T00:23:38.729017Z",
     "shell.execute_reply": "2024-04-06T00:23:38.728060Z",
     "shell.execute_reply.started": "2024-04-06T00:23:38.717667Z"
    }
   },
   "outputs": [
    {
     "name": "stdout",
     "output_type": "stream",
     "text": [
      "Predicted Disease: Hypertension \n"
     ]
    }
   ],
   "source": [
    "# Predict using the svc_model on the first row of x_test\n",
    "prediction = svc_model.predict(x_test.iloc[[16]])\n",
    "\n",
    "# Map the predicted value to the corresponding disease\n",
    "predicted_disease = diseases_list[prediction[0]]\n",
    "\n",
    "print(\"Predicted Disease:\", predicted_disease)"
   ]
  },
  {
   "cell_type": "code",
   "execution_count": 41,
   "metadata": {},
   "outputs": [
    {
     "data": {
      "text/plain": [
       "array([23])"
      ]
     },
     "execution_count": 41,
     "metadata": {},
     "output_type": "execute_result"
    }
   ],
   "source": [
    "prediction"
   ]
  },
  {
   "cell_type": "code",
   "execution_count": 42,
   "metadata": {
    "execution": {
     "iopub.execute_input": "2024-04-06T00:23:39.659998Z",
     "iopub.status.busy": "2024-04-06T00:23:39.659517Z",
     "iopub.status.idle": "2024-04-06T00:23:39.680118Z",
     "shell.execute_reply": "2024-04-06T00:23:39.679128Z",
     "shell.execute_reply.started": "2024-04-06T00:23:39.659963Z"
    }
   },
   "outputs": [
    {
     "name": "stdout",
     "output_type": "stream",
     "text": [
      "Predicted Disease: Hypertension \n",
      "\n",
      "Predicted Disease Description Information: []\n",
      "\n",
      "Predicted Disease Symptoms Information: [' headache' ' chest_pain' ' dizziness' ' loss_of_balance'\n",
      " ' lack_of_concentration']\n",
      "\n",
      "Predicted Disease precautions Information: ['meditation' 'salt baths' 'reduce stress' 'get proper sleep']\n",
      "\n",
      "Predicted Disease Medications Information: []\n",
      "\n",
      "Predicted Disease Diet Information: []\n",
      "\n",
      "Predicted Disease workout Information: []\n"
     ]
    }
   ],
   "source": [
    "# Extract the description information for the predicted disease\n",
    "predicted_description_info = description[description['Disease'] == predicted_disease]['Description'].values\n",
    "\n",
    "# Extract the symptoms information for the predicted disease and remove duplicates\n",
    "predicted_symptoms_info = symtoms[symtoms['Disease'] == predicted_disease][['Symptom_1', 'Symptom_2', 'Symptom_3', 'Symptom_4']].values\n",
    "predicted_symptoms_info = pd.unique(predicted_symptoms_info.ravel())\n",
    "\n",
    "# Extract the medications information for the predicted disease\n",
    "predicted_medications_info = medications[medications['Disease'] == predicted_disease]['Medication'].values\n",
    "\n",
    "# Extract the precautions information for the predicted disease and remove duplicates\n",
    "predicted_precautions_info = precautions[precautions['Disease'] == predicted_disease][['Precaution_1', 'Precaution_2', 'Precaution_3','Precaution_4']].values\n",
    "predicted_precautions_info = pd.unique(predicted_precautions_info.ravel())\n",
    "\n",
    "# Extract the diet information for the predicted disease\n",
    "predicted_diet_info = diets[diets['Disease'] == predicted_disease]['Diet'].values\n",
    "\n",
    "# Extract the workout information for the predicted disease\n",
    "predicted_workout_info = workout[workout['disease'] == predicted_disease]['workout'].values\n",
    "\n",
    "print(\"Predicted Disease:\", predicted_disease)\n",
    "print(\"\")\n",
    "print(\"Predicted Disease Description Information:\", predicted_description_info)\n",
    "print(\"\")\n",
    "print(\"Predicted Disease Symptoms Information:\", predicted_symptoms_info)\n",
    "print(\"\")\n",
    "print(\"Predicted Disease precautions Information:\", predicted_precautions_info)\n",
    "print(\"\")\n",
    "print(\"Predicted Disease Medications Information:\", predicted_medications_info)\n",
    "print(\"\")\n",
    "print(\"Predicted Disease Diet Information:\", predicted_diet_info)\n",
    "print(\"\")\n",
    "print(\"Predicted Disease workout Information:\", predicted_workout_info)"
   ]
  },
  {
   "cell_type": "markdown",
   "metadata": {},
   "source": [
    "# building program"
   ]
  },
  {
   "cell_type": "code",
   "execution_count": 43,
   "metadata": {
    "execution": {
     "iopub.execute_input": "2024-04-06T00:25:41.980841Z",
     "iopub.status.busy": "2024-04-06T00:25:41.978389Z",
     "iopub.status.idle": "2024-04-06T00:26:04.692664Z",
     "shell.execute_reply": "2024-04-06T00:26:04.691035Z",
     "shell.execute_reply.started": "2024-04-06T00:25:41.980790Z"
    }
   },
   "outputs": [
    {
     "name": "stdout",
     "output_type": "stream",
     "text": [
      "Enter a symptom (or type 'done' to finish): weakness\n",
      "Enter a symptom (or type 'done' to finish): breathlessness\n",
      "Enter a symptom (or type 'done' to finish): done\n",
      "Predicted disease: Heart attack\n",
      "Predicted disease code: 18\n",
      "\n",
      "Description of Heart attack : ['Heart attack is a sudden and severe reduction in blood flow to the heart muscle.']\n",
      "\n",
      "Symptoms: [' vomiting', ' breathlessness', ' sweating', ' chest_pain']\n",
      "\n",
      "Medications: [\"['Compression stockings', 'Exercise', 'Elevating the legs', 'Sclerotherapy', 'Laser treatments']\"]\n",
      "\n",
      "Precautions: ['call ambulance', 'chew or swallow asprin', 'keep calm']\n",
      "\n",
      "Diet: [\"['Heart-Healthy Diet', 'Low-sodium foods', 'Fruits and vegetables', 'Whole grains', 'Lean proteins']\"]\n",
      "\n",
      "Workout: ['Follow a heart-healthy diet' 'Limit sodium intake'\n",
      " 'Include fiber-rich foods' 'Consume healthy fats' 'Include lean proteins'\n",
      " 'Limit sugary foods and beverages' 'Stay hydrated'\n",
      " 'Consult a healthcare professional' 'Follow medical recommendations'\n",
      " 'Engage in regular exercise']\n"
     ]
    }
   ],
   "source": [
    "\n",
    "# Define the function to predict disease based on symptoms\n",
    "def predict_disease(symptoms):\n",
    "    # Define the symptoms dictionary\n",
    "    symptoms_dict = {'itching': 0, 'skin_rash': 1, 'nodal_skin_eruptions': 2, 'continuous_sneezing': 3, 'shivering': 4, 'chills': 5, 'joint_pain': 6, 'stomach_pain': 7, 'acidity': 8, 'ulcers_on_tongue': 9, 'muscle_wasting': 10, 'vomiting': 11, 'burning_micturition': 12, 'spotting_ urination': 13, 'fatigue': 14, 'weight_gain': 15, 'anxiety': 16, 'cold_hands_and_feets': 17, 'mood_swings': 18, 'weight_loss': 19, 'restlessness': 20, 'lethargy': 21, 'patches_in_throat': 22, 'irregular_sugar_level': 23, 'cough': 24, 'high_fever': 25, 'sunken_eyes': 26, 'breathlessness': 27, 'sweating': 28, 'dehydration': 29, 'indigestion': 30, 'headache': 31, 'yellowish_skin': 32, 'dark_urine': 33, 'nausea': 34, 'loss_of_appetite': 35, 'pain_behind_the_eyes': 36, 'back_pain': 37, 'constipation': 38, 'abdominal_pain': 39, 'diarrhoea': 40, 'mild_fever': 41, 'yellow_urine': 42, 'yellowing_of_eyes': 43, 'acute_liver_failure': 44, 'fluid_overload': 45, 'swelling_of_stomach': 46, 'swelled_lymph_nodes': 47, 'malaise': 48, 'blurred_and_distorted_vision': 49, 'phlegm': 50, 'throat_irritation': 51, 'redness_of_eyes': 52, 'sinus_pressure': 53, 'runny_nose': 54, 'congestion': 55, 'chest_pain': 56, 'weakness_in_limbs': 57, 'fast_heart_rate': 58, 'pain_during_bowel_movements': 59, 'pain_in_anal_region': 60, 'bloody_stool': 61, 'irritation_in_anus': 62, 'neck_pain': 63, 'dizziness': 64, 'cramps': 65, 'bruising': 66, 'obesity': 67, 'swollen_legs': 68, 'swollen_blood_vessels': 69, 'puffy_face_and_eyes': 70, 'enlarged_thyroid': 71, 'brittle_nails': 72, 'swollen_extremeties': 73, 'excessive_hunger': 74, 'extra_marital_contacts': 75, 'drying_and_tingling_lips': 76, 'slurred_speech': 77, 'knee_pain': 78, 'hip_joint_pain': 79, 'muscle_weakness': 80, 'stiff_neck': 81, 'swelling_joints': 82, 'movement_stiffness': 83, 'spinning_movements': 84, 'loss_of_balance': 85, 'unsteadiness': 86, 'weakness_of_one_body_side': 87, 'loss_of_smell': 88, 'bladder_discomfort': 89, 'foul_smell_of urine': 90, 'continuous_feel_of_urine': 91, 'passage_of_gases': 92, 'internal_itching': 93, 'toxic_look_(typhos)': 94, 'depression': 95, 'irritability': 96, 'muscle_pain': 97, 'altered_sensorium': 98, 'red_spots_over_body': 99, 'belly_pain': 100, 'abnormal_menstruation': 101, 'dischromic _patches': 102, 'watering_from_eyes': 103, 'increased_appetite': 104, 'polyuria': 105, 'family_history': 106, 'mucoid_sputum': 107, 'rusty_sputum': 108, 'lack_of_concentration': 109, 'visual_disturbances': 110, 'receiving_blood_transfusion': 111, 'receiving_unsterile_injections': 112, 'coma': 113, 'stomach_bleeding': 114, 'distention_of_abdomen': 115, 'history_of_alcohol_consumption': 116, 'fluid_overload.1': 117, 'blood_in_sputum': 118, 'prominent_veins_on_calf': 119, 'palpitations': 120, 'painful_walking': 121, 'pus_filled_pimples': 122, 'blackheads': 123, 'scurring': 124, 'skin_peeling': 125, 'silver_like_dusting': 126, 'small_dents_in_nails': 127, 'inflammatory_nails': 128, 'blister': 129, 'red_sore_around_nose': 130, 'yellow_crust_ooze': 131}\n",
    "\n",
    "    # Define the diseases dictionary\n",
    "    diseases_list = {\n",
    "        15: 'Fungal infection', 4: 'Allergy', 16: 'GERD', 9: 'Chronic cholestasis', 14: 'Drug Reaction',\n",
    "        33: 'Peptic ulcer disease', 1: 'AIDS', 12: 'Diabetes ', 17: 'Gastroenteritis', 6: 'Bronchial Asthma',\n",
    "        23: 'Hypertension ', 30: 'Migraine', 7: 'Cervical spondylosis', 32: 'Paralysis (brain hemorrhage)',\n",
    "        28: 'Jaundice', 29: 'Malaria', 8: 'Chicken pox', 11: 'Dengue', 37: 'Typhoid', 40: 'hepatitis A',\n",
    "        19: 'Hepatitis B', 20: 'Hepatitis C', 21: 'Hepatitis D', 22: 'Hepatitis E', 3: 'Alcoholic hepatitis',\n",
    "        36: 'Tuberculosis', 10: 'Common Cold', 34: 'Pneumonia', 13: 'Dimorphic hemmorhoids(piles)', 18: 'Heart attack'\n",
    "    }\n",
    "\n",
    "    # Initialize feature vector with zeros\n",
    "    num_features = 132  # Adjust this based on the actual number of features expected by svc_model\n",
    "    feature_vector = [0] * num_features\n",
    "\n",
    "    # Encode symptoms in the feature vector\n",
    "    for symptom in symptoms:\n",
    "        if symptom in symptoms_dict:\n",
    "            feature_vector[symptoms_dict[symptom]] = 1  # Set the corresponding feature to 1 if the symptom is present\n",
    "\n",
    "    # Predict the disease\n",
    "    x = svc_model.predict([feature_vector])\n",
    "\n",
    "    # Map the predicted value to the corresponding disease\n",
    "    x_disease = diseases_list[x[0]]\n",
    "\n",
    "    return x_disease, x[0]\n",
    "\n",
    "# Function to collect symptoms from the user\n",
    "def collect_symptoms():\n",
    "    symptoms = []\n",
    "    while True:\n",
    "        symptom = input(\"Enter a symptom (or type 'done' to finish): \").strip().lower()\n",
    "        if symptom == 'done':\n",
    "            break\n",
    "        symptoms.append(symptom)\n",
    "    return symptoms\n",
    "\n",
    "# Function to print information based on the predicted disease\n",
    "def print_information(predicted_disease):\n",
    "\n",
    "    # Extract information for the predicted disease\n",
    "    predicted_description_info = description[description['Disease'] == predicted_disease]['Description'].values\n",
    "    \n",
    "   # Extract the symptoms information for the predicted disease and remove duplicates\n",
    "    predicted_symptoms_info = symtoms[symtoms['Disease'] == predicted_disease][['Symptom_1', 'Symptom_2', 'Symptom_3', 'Symptom_4']].values\n",
    "    predicted_symptoms_info = pd.unique(predicted_symptoms_info.ravel())\n",
    "    predicted_symptoms_info = pd.Series(predicted_symptoms_info).dropna().tolist()  # Drop NaN values and convert to list\n",
    "\n",
    "    predicted_medications_info = medications[medications['Disease'] == predicted_disease]['Medication'].values\n",
    "    \n",
    "    predicted_precautions_info = precautions[precautions['Disease'] == predicted_disease][['Precaution_1', 'Precaution_2', 'Precaution_3','Precaution_4']].values\n",
    "    predicted_precautions_info = pd.unique(predicted_precautions_info.ravel())\n",
    "    predicted_precautions_info = pd.Series(predicted_precautions_info).dropna().tolist()  # Drop NaN values and convert to list\n",
    "    \n",
    "    # Extract the diet information for the predicted disease\n",
    "    predicted_diet_info = diets[diets['Disease'] == predicted_disease]['Diet'].values\n",
    "    \n",
    "    # Extract the workout information for the predicted disease\n",
    "    predicted_workout_info = workout[workout['disease'] == predicted_disease]['workout'].values\n",
    "\n",
    "     # Print the information\n",
    "    print(\"Description of\", predicted_disease, \":\", predicted_description_info)\n",
    "    print(\"\")\n",
    "    print(\"Symptoms:\", predicted_symptoms_info)\n",
    "    print(\"\")\n",
    "    print(\"Medications:\", predicted_medications_info)\n",
    "    print(\"\")\n",
    "    print(\"Precautions:\", predicted_precautions_info)\n",
    "    print(\"\")\n",
    "    print(\"Diet:\", predicted_diet_info)\n",
    "    print(\"\")\n",
    "    print(\"Workout:\", predicted_workout_info)\n",
    "    \n",
    "# Collect symptoms from the user\n",
    "user_symptoms = collect_symptoms()\n",
    "\n",
    "# Predict the disease based on user's symptoms\n",
    "predicted_disease, disease_code = predict_disease(user_symptoms)\n",
    "\n",
    "\n",
    "# Print the predicted disease and its code\n",
    "print(\"Predicted disease:\", predicted_disease)\n",
    "print(\"Predicted disease code:\", disease_code)\n",
    "print(\"\")\n",
    "# Print information based on the predicted disease\n",
    "print_information(predicted_disease)"
   ]
  },
  {
   "cell_type": "code",
   "execution_count": null,
   "metadata": {},
   "outputs": [],
   "source": []
  }
 ],
 "metadata": {
  "kaggle": {
   "accelerator": "none",
   "dataSources": [
    {
     "datasetId": 4286222,
     "sourceId": 7376281,
     "sourceType": "datasetVersion"
    }
   ],
   "dockerImageVersionId": 30673,
   "isGpuEnabled": false,
   "isInternetEnabled": true,
   "language": "python",
   "sourceType": "notebook"
  },
  "kernelspec": {
   "display_name": "Python 3 (ipykernel)",
   "language": "python",
   "name": "python3"
  },
  "language_info": {
   "codemirror_mode": {
    "name": "ipython",
    "version": 3
   },
   "file_extension": ".py",
   "mimetype": "text/x-python",
   "name": "python",
   "nbconvert_exporter": "python",
   "pygments_lexer": "ipython3",
   "version": "3.11.4"
  }
 },
 "nbformat": 4,
 "nbformat_minor": 4
}
